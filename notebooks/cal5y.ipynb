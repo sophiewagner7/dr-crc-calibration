{
 "cells": [
  {
   "cell_type": "markdown",
   "metadata": {},
   "source": [
    "# DR CRC Calibration\n",
    "\n",
    "Author: Sophie Wagner, sw3767@cumc.columbia.edu"
   ]
  },
  {
   "cell_type": "code",
   "execution_count": 1,
   "metadata": {},
   "outputs": [],
   "source": [
    "# Required Packages\n",
    "import numpy as np  # For matrix manipulation\n",
    "import pandas as pd  # For output/input data processing\n",
    "import matplotlib.pyplot as plt  # For visualizations\n",
    "from csaps import csaps\n",
    "from scipy.interpolate import interp1d\n",
    "from tqdm import tqdm\n",
    "from datetime import datetime\n",
    "\n",
    "# Add the src directory to the Python path\n",
    "import sys\n",
    "import os\n",
    "sys.path.append(os.path.abspath('../src'))\n",
    "\n",
    "# Load .py files\n",
    "import common_functions as func\n",
    "import calibration_plots as p\n",
    "import configs as c\n",
    "import gof\n",
    "\n",
    "\n",
    "# Some aesthetic options\n",
    "np.set_printoptions(suppress=True, linewidth=300, formatter={'float': '{: 0.9f}'.format})\n",
    "pd.set_option('display.max_columns', None)\n",
    "pd.set_option('display.max_rows', None)"
   ]
  },
  {
   "cell_type": "markdown",
   "metadata": {},
   "source": [
    "### Matrix setup, normalization, constraints"
   ]
  },
  {
   "cell_type": "code",
   "execution_count": 2,
   "metadata": {},
   "outputs": [],
   "source": [
    "def row_normalize(matrix):\n",
    "    for age_layer in range(matrix.shape[0]):  # Loop over each age layer\n",
    "        layer = matrix[age_layer]\n",
    "        # Calculate the sum of non-diagonal elements for each row\n",
    "        sum_of_columns = np.sum(layer, axis=1) - np.diag(layer)\n",
    "        # Set the diagonal elements\n",
    "        np.fill_diagonal(layer, 1 - sum_of_columns)\n",
    "    return matrix\n",
    "\n",
    "\n",
    "def create_matrix():\n",
    "    matrix = np.zeros((len(c.age_layers), len(c.health_states), len(c.health_states)))\n",
    "    matrix[:, 0, 1] = func.probtoprob(0.005)  # Healthy to LR\n",
    "    matrix[:, 1, 2] = func.probtoprob(0.015)  # LR to HR\n",
    "    matrix[:, 2, 3] = func.probtoprob(0.05)  # HR to uLoc\n",
    "    matrix[:, 3, 4] = func.probtoprob(0.45)  # uLoc to uReg\n",
    "    matrix[:, 4, 5] = func.probtoprob(0.50)  # uReg to uDis\n",
    "    matrix[:, 3, 6] = func.probtoprob(0.20)  # uLoc to dLoc\n",
    "    matrix[:, 4, 7] = func.probtoprob(0.60)  # uReg to dReg\n",
    "    matrix[:, 5, 8] = func.probtoprob(0.90)  # uDis to dDis\n",
    "\n",
    "    matrix = add_acm(matrix)  # ACM\n",
    "    matrix = add_csd(matrix)  # CSD\n",
    "    matrix = constrain_matrix(matrix)  # constrain\n",
    "    matrix = row_normalize(matrix)  # normalize\n",
    "\n",
    "    return matrix\n",
    "\n",
    "locreg=func.probtoprob(0.1)\n",
    "def constrain_matrix(matrix):\n",
    "    matrix = np.clip(matrix, 0.0, 0.5)\n",
    "\n",
    "    # Progression Block\n",
    "    matrix[:, 0, 1] = np.maximum(0.000001, matrix[:, 0, 1])  # not below 0\n",
    "    matrix[:, 1, 2] = np.maximum(matrix[:, 0, 1], matrix[:, 1, 2])  \n",
    "    matrix[:, 2, 3] = np.maximum(matrix[:, 1, 2], matrix[:, 2, 3])\n",
    "    matrix[:, 3, 4] = np.maximum(locreg, matrix[:, 3, 4])\n",
    "    matrix[:, 3, 4] = np.maximum(matrix[:, 2, 3], matrix[:, 3, 4])\n",
    "    matrix[:, 4, 5] = np.maximum(matrix[:, 3, 4], matrix[:, 4, 5])\n",
    "\n",
    "    # Detection Block\n",
    "    matrix[:, 3, 6] = np.maximum(0.000001, matrix[:, 3, 6])\n",
    "    matrix[:, 4, 7] = np.maximum(matrix[:, 3, 6], matrix[:, 4, 7])\n",
    "    matrix[:, 5, 8] = np.maximum(matrix[:, 4, 7], matrix[:, 5, 8])\n",
    "    \n",
    "    # Age dependencies\n",
    "    matrix[:, 0, 1] = np.maximum.accumulate(matrix[:,0,1])\n",
    "    # matrix[:, 1, 2] = np.maximum.accumulate(matrix[:,0,1])\n",
    "    # matrix[:, 2, 3] = np.maximum.accumulate(matrix[:,0,1])\n",
    "\n",
    "    return matrix\n",
    "\n",
    "\n",
    "def add_acm(matrix):\n",
    "    matrix[:, 0, 10] = c.acm_rate  # Healthy to ACM\n",
    "    matrix[:, 1:3, 12] = c.acm_rate[:, np.newaxis]  # Polyp to ACM\n",
    "    matrix[:, 3:6, 13] = c.acm_rate[:, np.newaxis]  # Undiagnosed to ACM\n",
    "    matrix[:, 6:9, 11] = c.acm_rate[:, np.newaxis]  # Cancer to ACM\n",
    "    matrix[:, 9, 9] = 1  # Stay in CSD\n",
    "    matrix[:, 10, 10] = 1  # Stay in ACM\n",
    "    matrix[:, 11, 11] = 1  # Stay in Cancer ACM\n",
    "    matrix[:, 12, 12] = 1  # Stay in Polyp ACM\n",
    "    matrix[:, 13, 13] = 1  # Stay in uCRC ACM\n",
    "\n",
    "    return matrix\n",
    "\n",
    "\n",
    "def add_csd(matrix):\n",
    "    matrix[:, 6, 9] = c.csd_rate[:, 0]\n",
    "    matrix[:, 7, 9] = c.csd_rate[:, 1]\n",
    "    matrix[:, 8, 9] = c.csd_rate[:, 2]\n",
    "    return matrix"
   ]
  },
  {
   "cell_type": "markdown",
   "metadata": {},
   "source": [
    "### Markov model"
   ]
  },
  {
   "cell_type": "code",
   "execution_count": 3,
   "metadata": {},
   "outputs": [],
   "source": [
    "def run_markov(matrix, starting_age=20, max_age=84):\n",
    "    \n",
    "    current_age = starting_age\n",
    "    stage, age_layer = 1, 0\n",
    "    month_pop, pop_log = c.starting_pop, c.starting_pop\n",
    "    inc_log = np.zeros(pop_log.shape)  # to track new incidences in each state\n",
    "    matrixT = matrix.transpose(0,2,1)\n",
    "    inflow_matrix = np.tril(matrixT, k=-1)\n",
    "    \n",
    "    while current_age <= max_age:\n",
    "        \n",
    "        # Matrix multiplication (state transition)\n",
    "        mat, inflow_mat = matrixT[age_layer], inflow_matrix[age_layer] \n",
    "        month_inc = np.matmul(inflow_mat, month_pop)  # (9, 9)(9, 1)->(9, 1)\n",
    "        month_pop = np.matmul(mat, month_pop)  # (9, 9)(9, 1)->(9, 1)\n",
    "        \n",
    "        # Add to log\n",
    "        inc_log = np.concatenate((inc_log, month_inc), axis=1)\n",
    "        pop_log = np.concatenate((pop_log, month_pop), axis=1)\n",
    "        \n",
    "        stage += 1\n",
    "        if stage % 12 == 0:\n",
    "            current_age += 1\n",
    "            if current_age in c.ages_5y: \n",
    "                age_layer = min(age_layer+1, 12)\n",
    "\n",
    "    incidence = inc_log.copy()  # make (14,780)\n",
    "    dead_factor = np.divide(c.N, c.N - pop_log[9:, :].sum(axis=0))  # inc and prev denominator is out of living only\n",
    "    prevalence = np.zeros(pop_log.shape)  # (14,65)\n",
    "\n",
    "    for state in range(14):\n",
    "        incidence[state, :] = np.multiply(incidence[state, :], dead_factor)\n",
    "        prevalence[state, :] = np.multiply(pop_log[state, :], dead_factor)\n",
    "\n",
    "    incidence = incidence.reshape(len(c.health_states), 65, 12).sum(axis=2)  # getting annual incidence (rate per 100k)\n",
    "    incidence_unadj = inc_log.reshape(len(c.health_states), 65, 12).sum(axis=2)  # getting inc unadjusted\n",
    "    prevalence = prevalence.reshape(len(c.health_states), 65, 12).mean(axis=2)  # getting mean annual prevalence\n",
    "    \n",
    "    return incidence, prevalence, incidence_unadj, pop_log"
   ]
  },
  {
   "cell_type": "markdown",
   "metadata": {},
   "source": [
    "### Simulated annealing"
   ]
  },
  {
   "cell_type": "code",
   "execution_count": 4,
   "metadata": {},
   "outputs": [],
   "source": [
    "age_mids = [22.5,27.5,32.5,37.5,42.5,47.5,52.5,57.5,62.5,67.5,72.5,77.5,82.5]\n",
    "def step(matrix, step_size, num_adj=5):\n",
    "    new_matrix = np.copy(matrix)\n",
    "    step_mat = np.random.choice(len(c.points), size=num_adj, replace=True)\n",
    "    step_age = np.random.choice(len(c.age_layers_5y), size=num_adj, replace=True)\n",
    "\n",
    "    for i in range(num_adj):\n",
    "        (from_state, to_state) = c.points[step_mat[i]]\n",
    "        step_param = np.mean(new_matrix[:, from_state, to_state]) * step_size\n",
    "        new_matrix[step_age[i], from_state, to_state] += np.random.uniform(low=-step_param, high=step_param)\n",
    "    \n",
    "    new_matrix[12,:,:] = np.minimum(new_matrix[11,:],new_matrix[12,:,:])  # Limit potential increase before splining\n",
    "    new_matrix = csaps(age_mids, new_matrix, smooth=0.01, axis=0)(age_mids).clip(0.0,1.0)\n",
    "    \n",
    "    new_matrix = constrain_matrix(new_matrix)\n",
    "    new_matrix = add_acm(new_matrix)\n",
    "    new_matrix = add_csd(new_matrix)\n",
    "    new_matrix = row_normalize(new_matrix)\n",
    "\n",
    "    return new_matrix"
   ]
  },
  {
   "cell_type": "code",
   "execution_count": 5,
   "metadata": {},
   "outputs": [],
   "source": [
    "def progress_report(iteration, best_eval, best_log, ticker, best_t):\n",
    "    \"\"\"\n",
    "    Prints progress report during simulated annealing.\n",
    "    \"\"\"\n",
    "    log_adj, _, inc_log, _ = best_log\n",
    "    total_dxd = np.sum(inc_log[6:9, :]) / c.N\n",
    "    total_pol = np.sum(inc_log[12, :]) / c.N \n",
    "    print(f\"{iteration}: Best Eval: {best_eval:.5f}, CRC: {total_dxd:.5f}, Polyp: {total_pol:.5f}, Tick: {ticker}\")\n",
    "\n",
    "    if iteration % 50000 == 0:\n",
    "        transition_probs = p.extract_transition_probs(best_t, c.health_states, c.desired_transitions)\n",
    "        print(f\"Detailed Progress Report, Iteration = {iteration}\")\n",
    "        p.print_trans_probs(transition_probs)"
   ]
  },
  {
   "cell_type": "code",
   "execution_count": 6,
   "metadata": {},
   "outputs": [],
   "source": [
    "def simulated_annealing(n_iterations, step_size, start_tmat=None, n_adj=7, verbose=False, starting_temp=1, print_interval=2500, obj=\"\"):\n",
    "    \"\"\"\n",
    "    Performs simulated annealing to optimize a transition matrix.\n",
    "\n",
    "    Args:\n",
    "        n_iterations (int): Number of iterations for optimization.\n",
    "        step_size (float): Step size for parameter adjustments.\n",
    "        start_tmat (numpy.ndarray): Initial transition matrix.\n",
    "        n_adj (int): Number of parameters to adjust per step.\n",
    "        starting_temp (float): Initial temperature for annealing.\n",
    "        verbose (bool): Whether to print progress reports.\n",
    "        print_interval (int): Interval for progress reporting.\n",
    "\n",
    "    Returns:\n",
    "        numpy.ndarray: Optimized transition matrix.\n",
    "    \"\"\"\n",
    "    best_t = np.copy(start_tmat)\n",
    "    best_log = run_markov(best_t)\n",
    "    best_eval = gof.objective(run_markov(start_tmat), -1, obj)\n",
    "    curr_t, curr_eval = best_t, best_eval\n",
    "    ticker = 0\n",
    "\n",
    "    with tqdm(total=n_iterations, desc=\"Simulated annealing progress\", unit=\"iteration\") as pbar:\n",
    "        \n",
    "        for i in range(n_iterations):\n",
    "\n",
    "            # Run model\n",
    "            candidate_t = np.copy(curr_t)\n",
    "            candidate_t = step(candidate_t, step_size, n_adj)\n",
    "            candidate_log = run_markov(candidate_t)\n",
    "            candidate_eval = gof.objective(candidate_log, i, obj)  # Evaluate candidate point\n",
    "\n",
    "            # Update \"best\" if better than candidate\n",
    "            if candidate_eval < best_eval:\n",
    "                ticker = 0\n",
    "                best_t, best_eval = np.copy(candidate_t), np.copy(candidate_eval)\n",
    "                best_log = run_markov(best_t)\n",
    "\n",
    "            else:\n",
    "                ticker += 1\n",
    "\n",
    "            # Calculate temperature and Metropolis acceptance criterion\n",
    "            t = starting_temp / (1 + np.log(i + 1))\n",
    "            diff = candidate_eval - curr_eval\n",
    "            metropolis = np.exp(-diff / t)\n",
    "\n",
    "            if diff < 0 or np.random.random() < metropolis:\n",
    "                curr_t, curr_eval = np.copy(candidate_t), candidate_eval\n",
    "\n",
    "            # Print progress report\n",
    "            if verbose and i > 0 and i % print_interval == 0:\n",
    "                progress_report(i, best_eval, best_log, ticker, best_t)\n",
    "\n",
    "            # Check if we should update \"curr\"\n",
    "            diff = (candidate_eval - curr_eval)  # difference between candidate and current point evaluation\n",
    "            metropolis = np.exp(-diff / t)  # calculate metropolis acceptance criterion\n",
    "            if (diff < 0 or np.random.random() < metropolis):  # check if we should keep the new point\n",
    "                curr_t, curr_eval = np.copy(candidate_t), np.copy(candidate_eval)  # store the new current point\n",
    "                ticker = 0\n",
    "\n",
    "            pbar.update(1)\n",
    "\n",
    "    print(\"Final score: \", best_eval)\n",
    "    \n",
    "    return best_t"
   ]
  },
  {
   "cell_type": "code",
   "execution_count": 7,
   "metadata": {},
   "outputs": [],
   "source": [
    "def run_sa(tmat=None, save_all=False, n_iterations=50000, step_size=0.2, n_adj=5, starting_temp=1, obj=\"\"):\n",
    "    \n",
    "    start_tmat = None\n",
    "    start_tmat = tmat if tmat is not None else create_matrix()   \n",
    "    initial_score = gof.objective(run_markov(start_tmat), -1, obj)\n",
    "    print(f\"Initial score: {round(initial_score, 5)}\")\n",
    "    # print(\"Starting calibration...\")\n",
    "    \n",
    "    result = simulated_annealing(n_iterations=n_iterations, step_size=step_size, start_tmat=tmat, n_adj=n_adj, starting_temp=starting_temp, verbose=True, obj=obj)\n",
    "    timestamp = datetime.now().strftime(\"%Y%m%d_%H%M\")\n",
    "    \n",
    "    curr_tmat = result.copy()\n",
    "    curr_log = run_markov(curr_tmat)\n",
    "\n",
    "    # Extract transition probabilities\n",
    "    transition_probs = p.extract_transition_probs(curr_tmat, c.health_states, c.desired_transitions)\n",
    "\n",
    "    # Saving\n",
    "    if save_all:\n",
    "        # Save the with the timestamp in the filenames\n",
    "        tmat_path, plot_path, probs_path = c.OUTPUT_PATHS[\"tmats\"], c.OUTPUT_PATHS[\"plots\"], c.OUTPUT_PATHS[\"probs\"]\n",
    "        np.save(f\"{tmat_path}/{timestamp}_tmat.npy\", curr_tmat)\n",
    "\n",
    "        p.print_trans_probs(transition_probs, save_imgs=True, outpath=plot_path, timestamp=timestamp)\n",
    "        p.print_trans_probs(transition_probs)\n",
    "        p.plot_tps(curr_tmat, save_imgs=True, outpath=plot_path, timestamp=timestamp)\n",
    "        p.plot_vs_seer(curr_log, c.seer_inc, save_imgs=True, outpath=plot_path, timestamp=timestamp)\n",
    "        p.plot_vs_seer_total(curr_log, c.seer_inc, save_imgs=True, outpath=plot_path, timestamp=timestamp)\n",
    "        \n",
    "        out = np.zeros((len(c.points), 80))\n",
    "        for idx, (from_state, to_state) in enumerate(c.points):\n",
    "            out[idx] = curr_tmat[:, from_state, to_state]\n",
    "\n",
    "        pd.DataFrame(out).to_csv(f\"{probs_path}/{timestamp}_tps.csv\")\n",
    "\n",
    "    # else:\n",
    "        # p.print_trans_probs(transition_probs)\n",
    "        # p.plot_tps(curr_tmat)\n",
    "        # p.plot_vs_seer(curr_log, c.seer_inc)\n",
    "        # p.plot_vs_seer_total(curr_log, c.seer_inc)\n",
    "\n",
    "    return curr_tmat"
   ]
  },
  {
   "cell_type": "markdown",
   "metadata": {},
   "source": [
    "## Run SA"
   ]
  },
  {
   "cell_type": "markdown",
   "metadata": {},
   "source": [
    "### Fold"
   ]
  },
  {
   "cell_type": "code",
   "execution_count": 8,
   "metadata": {},
   "outputs": [
    {
     "name": "stdout",
     "output_type": "stream",
     "text": [
      "Initial score: 481870.91339\n"
     ]
    },
    {
     "name": "stderr",
     "output_type": "stream",
     "text": [
      "Simulated annealing progress:   0%|          | 0/1000000 [00:00<?, ?iteration/s]C:\\Users\\sophi\\AppData\\Local\\Temp\\ipykernel_46420\\3407900094.py:45: RuntimeWarning: overflow encountered in exp\n",
      "  metropolis = np.exp(-diff / t)\n",
      "Simulated annealing progress:   0%|          | 2505/1000000 [00:38<10:15:19, 27.02iteration/s]"
     ]
    },
    {
     "name": "stdout",
     "output_type": "stream",
     "text": [
      "2500: Best Eval: 1494.13909, CRC: 0.05011, Polyp: 0.18064, Tick: 745\n"
     ]
    },
    {
     "name": "stderr",
     "output_type": "stream",
     "text": [
      "Simulated annealing progress:   1%|          | 5013/1000000 [01:22<3:10:30, 87.05iteration/s] "
     ]
    },
    {
     "name": "stdout",
     "output_type": "stream",
     "text": [
      "5000: Best Eval: 1388.75518, CRC: 0.04940, Polyp: 0.18143, Tick: 122\n"
     ]
    },
    {
     "name": "stderr",
     "output_type": "stream",
     "text": [
      "Simulated annealing progress:   1%|          | 7515/1000000 [02:09<2:51:55, 96.21iteration/s] "
     ]
    },
    {
     "name": "stdout",
     "output_type": "stream",
     "text": [
      "7500: Best Eval: 1225.49342, CRC: 0.04920, Polyp: 0.18059, Tick: 324\n"
     ]
    },
    {
     "name": "stderr",
     "output_type": "stream",
     "text": [
      "Simulated annealing progress:   1%|          | 10013/1000000 [02:38<2:47:15, 98.65iteration/s]"
     ]
    },
    {
     "name": "stdout",
     "output_type": "stream",
     "text": [
      "10000: Best Eval: 1068.33375, CRC: 0.04943, Polyp: 0.18102, Tick: 1142\n"
     ]
    },
    {
     "name": "stderr",
     "output_type": "stream",
     "text": [
      "Simulated annealing progress:   1%|▏         | 12522/1000000 [03:14<2:33:03, 107.52iteration/s]"
     ]
    },
    {
     "name": "stdout",
     "output_type": "stream",
     "text": [
      "12500: Best Eval: 1068.33375, CRC: 0.04943, Polyp: 0.18102, Tick: 3642\n"
     ]
    },
    {
     "name": "stderr",
     "output_type": "stream",
     "text": [
      "Simulated annealing progress:   2%|▏         | 15014/1000000 [03:46<2:52:02, 95.43iteration/s] "
     ]
    },
    {
     "name": "stdout",
     "output_type": "stream",
     "text": [
      "15000: Best Eval: 1040.43596, CRC: 0.04974, Polyp: 0.18084, Tick: 140\n"
     ]
    },
    {
     "name": "stderr",
     "output_type": "stream",
     "text": [
      "Simulated annealing progress:   2%|▏         | 17518/1000000 [04:21<2:40:54, 101.76iteration/s]"
     ]
    },
    {
     "name": "stdout",
     "output_type": "stream",
     "text": [
      "17500: Best Eval: 1040.43596, CRC: 0.04974, Polyp: 0.18084, Tick: 2640\n"
     ]
    },
    {
     "name": "stderr",
     "output_type": "stream",
     "text": [
      "Simulated annealing progress:   2%|▏         | 20015/1000000 [04:56<2:44:50, 99.08iteration/s] "
     ]
    },
    {
     "name": "stdout",
     "output_type": "stream",
     "text": [
      "20000: Best Eval: 1040.43596, CRC: 0.04974, Polyp: 0.18084, Tick: 5140\n"
     ]
    },
    {
     "name": "stderr",
     "output_type": "stream",
     "text": [
      "Simulated annealing progress:   2%|▏         | 22521/1000000 [05:32<2:35:28, 104.79iteration/s]"
     ]
    },
    {
     "name": "stdout",
     "output_type": "stream",
     "text": [
      "22500: Best Eval: 1039.66814, CRC: 0.04973, Polyp: 0.18083, Tick: 1207\n"
     ]
    },
    {
     "name": "stderr",
     "output_type": "stream",
     "text": [
      "Simulated annealing progress:   3%|▎         | 25005/1000000 [06:18<5:47:26, 46.77iteration/s] "
     ]
    },
    {
     "name": "stdout",
     "output_type": "stream",
     "text": [
      "25000: Best Eval: 1031.31145, CRC: 0.04963, Polyp: 0.18073, Tick: 15\n"
     ]
    },
    {
     "name": "stderr",
     "output_type": "stream",
     "text": [
      "Simulated annealing progress:   3%|▎         | 27502/1000000 [06:55<6:16:39, 43.03iteration/s] "
     ]
    },
    {
     "name": "stdout",
     "output_type": "stream",
     "text": [
      "27500: Best Eval: 1027.74523, CRC: 0.04931, Polyp: 0.18131, Tick: 66\n"
     ]
    },
    {
     "name": "stderr",
     "output_type": "stream",
     "text": [
      "Simulated annealing progress:   3%|▎         | 30015/1000000 [07:32<3:04:11, 87.77iteration/s] "
     ]
    },
    {
     "name": "stdout",
     "output_type": "stream",
     "text": [
      "30000: Best Eval: 942.14633, CRC: 0.04947, Polyp: 0.18075, Tick: 105\n"
     ]
    },
    {
     "name": "stderr",
     "output_type": "stream",
     "text": [
      "Simulated annealing progress:   3%|▎         | 32514/1000000 [08:14<3:42:07, 72.59iteration/s] "
     ]
    },
    {
     "name": "stdout",
     "output_type": "stream",
     "text": [
      "32500: Best Eval: 928.81125, CRC: 0.04952, Polyp: 0.18068, Tick: 767\n"
     ]
    },
    {
     "name": "stderr",
     "output_type": "stream",
     "text": [
      "Simulated annealing progress:   4%|▎         | 35006/1000000 [08:51<3:39:30, 73.27iteration/s] "
     ]
    },
    {
     "name": "stdout",
     "output_type": "stream",
     "text": [
      "35000: Best Eval: 912.44310, CRC: 0.04949, Polyp: 0.18120, Tick: 1669\n"
     ]
    },
    {
     "name": "stderr",
     "output_type": "stream",
     "text": [
      "Simulated annealing progress:   4%|▍         | 37511/1000000 [09:29<2:42:02, 98.99iteration/s] "
     ]
    },
    {
     "name": "stdout",
     "output_type": "stream",
     "text": [
      "37500: Best Eval: 912.44310, CRC: 0.04949, Polyp: 0.18120, Tick: 4169\n"
     ]
    },
    {
     "name": "stderr",
     "output_type": "stream",
     "text": [
      "Simulated annealing progress:   4%|▍         | 40015/1000000 [10:05<2:57:36, 90.08iteration/s] "
     ]
    },
    {
     "name": "stdout",
     "output_type": "stream",
     "text": [
      "40000: Best Eval: 912.44310, CRC: 0.04949, Polyp: 0.18120, Tick: 6669\n"
     ]
    },
    {
     "name": "stderr",
     "output_type": "stream",
     "text": [
      "Simulated annealing progress:   4%|▍         | 42509/1000000 [10:38<5:30:19, 48.31iteration/s] "
     ]
    },
    {
     "name": "stdout",
     "output_type": "stream",
     "text": [
      "42500: Best Eval: 912.44310, CRC: 0.04949, Polyp: 0.18120, Tick: 9169\n"
     ]
    },
    {
     "name": "stderr",
     "output_type": "stream",
     "text": [
      "Simulated annealing progress:   5%|▍         | 45019/1000000 [11:12<2:37:03, 101.34iteration/s]"
     ]
    },
    {
     "name": "stdout",
     "output_type": "stream",
     "text": [
      "45000: Best Eval: 912.44310, CRC: 0.04949, Polyp: 0.18120, Tick: 11669\n"
     ]
    },
    {
     "name": "stderr",
     "output_type": "stream",
     "text": [
      "Simulated annealing progress:   5%|▍         | 47518/1000000 [11:44<2:30:51, 105.22iteration/s]"
     ]
    },
    {
     "name": "stdout",
     "output_type": "stream",
     "text": [
      "47500: Best Eval: 912.44310, CRC: 0.04949, Polyp: 0.18120, Tick: 14169\n"
     ]
    },
    {
     "name": "stderr",
     "output_type": "stream",
     "text": [
      "Simulated annealing progress:   5%|▌         | 50018/1000000 [12:23<2:38:32, 99.87iteration/s] "
     ]
    },
    {
     "name": "stdout",
     "output_type": "stream",
     "text": [
      "50000: Best Eval: 912.44310, CRC: 0.04949, Polyp: 0.18120, Tick: 16669\n",
      "Detailed Progress Report, Iteration = 50000\n",
      "Monthly transition probabilities\n",
      "healthy to LR_polyp: Min: 0.00041, Max: 0.00102, Average: 0.00082\n",
      "LR_polyp to HR_polyp: Min: 0.00041, Max: 0.00219, Average: 0.00145\n",
      "HR_polyp to u_CRC_loc: Min: 0.00122, Max: 0.00243, Average: 0.00183\n",
      "u_CRC_loc to u_CRC_reg: Min: 0.02155, Max: 0.05692, Average: 0.03311\n",
      "u_CRC_reg to u_CRC_dis: Min: 0.03048, Max: 0.06446, Average: 0.04195\n",
      "u_CRC_loc to d_CRC_loc: Min: 0.01415, Max: 0.02113, Average: 0.01589\n",
      "u_CRC_reg to d_CRC_reg: Min: 0.05991, Max: 0.09495, Average: 0.07137\n",
      "u_CRC_dis to d_CRC_dis: Min: 0.09893, Max: 0.27118, Average: 0.15399\n",
      "\n",
      "Annual transition probabilities\n",
      "healthy to LR_polyp: Min: 0.00496, Max: 0.01218, Average: 0.00980\n",
      "LR_polyp to HR_polyp: Min: 0.00496, Max: 0.02593, Average: 0.01724\n",
      "HR_polyp to u_CRC_loc: Min: 0.01453, Max: 0.02877, Average: 0.02178\n",
      "u_CRC_loc to u_CRC_reg: Min: 0.23002, Max: 0.50501, Average: 0.32601\n",
      "u_CRC_reg to u_CRC_dis: Min: 0.31027, Max: 0.55048, Average: 0.39705\n",
      "u_CRC_loc to d_CRC_loc: Min: 0.15717, Max: 0.22607, Average: 0.17462\n",
      "u_CRC_reg to d_CRC_reg: Min: 0.52350, Max: 0.69795, Average: 0.58487\n",
      "u_CRC_dis to d_CRC_dis: Min: 0.71352, Max: 0.97754, Average: 0.82963\n"
     ]
    },
    {
     "name": "stderr",
     "output_type": "stream",
     "text": [
      "Simulated annealing progress:   5%|▌         | 52505/1000000 [13:10<10:21:48, 25.40iteration/s]"
     ]
    },
    {
     "name": "stdout",
     "output_type": "stream",
     "text": [
      "52500: Best Eval: 912.44310, CRC: 0.04949, Polyp: 0.18120, Tick: 19169\n"
     ]
    },
    {
     "name": "stderr",
     "output_type": "stream",
     "text": [
      "Simulated annealing progress:   6%|▌         | 55004/1000000 [13:54<9:19:08, 28.17iteration/s] "
     ]
    },
    {
     "name": "stdout",
     "output_type": "stream",
     "text": [
      "55000: Best Eval: 912.44310, CRC: 0.04949, Polyp: 0.18120, Tick: 21669\n"
     ]
    },
    {
     "name": "stderr",
     "output_type": "stream",
     "text": [
      "Simulated annealing progress:   6%|▌         | 57511/1000000 [14:32<2:46:47, 94.18iteration/s] "
     ]
    },
    {
     "name": "stdout",
     "output_type": "stream",
     "text": [
      "57500: Best Eval: 912.44310, CRC: 0.04949, Polyp: 0.18120, Tick: 24169\n"
     ]
    },
    {
     "name": "stderr",
     "output_type": "stream",
     "text": [
      "Simulated annealing progress:   6%|▌         | 60005/1000000 [15:08<7:09:01, 36.52iteration/s] "
     ]
    },
    {
     "name": "stdout",
     "output_type": "stream",
     "text": [
      "60000: Best Eval: 912.44310, CRC: 0.04949, Polyp: 0.18120, Tick: 26669\n"
     ]
    },
    {
     "name": "stderr",
     "output_type": "stream",
     "text": [
      "Simulated annealing progress:   6%|▋         | 62516/1000000 [16:04<2:46:36, 93.78iteration/s] "
     ]
    },
    {
     "name": "stdout",
     "output_type": "stream",
     "text": [
      "62500: Best Eval: 912.44310, CRC: 0.04949, Polyp: 0.18120, Tick: 29169\n"
     ]
    },
    {
     "name": "stderr",
     "output_type": "stream",
     "text": [
      "Simulated annealing progress:   7%|▋         | 65016/1000000 [16:36<2:27:40, 105.52iteration/s]"
     ]
    },
    {
     "name": "stdout",
     "output_type": "stream",
     "text": [
      "65000: Best Eval: 912.44310, CRC: 0.04949, Polyp: 0.18120, Tick: 31669\n"
     ]
    },
    {
     "name": "stderr",
     "output_type": "stream",
     "text": [
      "Simulated annealing progress:   7%|▋         | 67515/1000000 [17:08<2:35:43, 99.80iteration/s] "
     ]
    },
    {
     "name": "stdout",
     "output_type": "stream",
     "text": [
      "67500: Best Eval: 912.44310, CRC: 0.04949, Polyp: 0.18120, Tick: 34169\n"
     ]
    },
    {
     "name": "stderr",
     "output_type": "stream",
     "text": [
      "Simulated annealing progress:   7%|▋         | 70018/1000000 [17:41<2:30:17, 103.13iteration/s]"
     ]
    },
    {
     "name": "stdout",
     "output_type": "stream",
     "text": [
      "70000: Best Eval: 912.44310, CRC: 0.04949, Polyp: 0.18120, Tick: 36669\n"
     ]
    },
    {
     "name": "stderr",
     "output_type": "stream",
     "text": [
      "Simulated annealing progress:   7%|▋         | 72504/1000000 [18:15<5:41:13, 45.30iteration/s] "
     ]
    },
    {
     "name": "stdout",
     "output_type": "stream",
     "text": [
      "72500: Best Eval: 912.44310, CRC: 0.04949, Polyp: 0.18120, Tick: 39169\n"
     ]
    },
    {
     "name": "stderr",
     "output_type": "stream",
     "text": [
      "Simulated annealing progress:   8%|▊         | 75008/1000000 [18:49<3:58:54, 64.53iteration/s] "
     ]
    },
    {
     "name": "stdout",
     "output_type": "stream",
     "text": [
      "75000: Best Eval: 912.44310, CRC: 0.04949, Polyp: 0.18120, Tick: 41669\n"
     ]
    },
    {
     "name": "stderr",
     "output_type": "stream",
     "text": [
      "Simulated annealing progress:   8%|▊         | 77507/1000000 [19:21<5:30:36, 46.50iteration/s] "
     ]
    },
    {
     "name": "stdout",
     "output_type": "stream",
     "text": [
      "77500: Best Eval: 912.44310, CRC: 0.04949, Polyp: 0.18120, Tick: 44169\n"
     ]
    },
    {
     "name": "stderr",
     "output_type": "stream",
     "text": [
      "Simulated annealing progress:   8%|▊         | 80009/1000000 [19:55<4:59:48, 51.14iteration/s] "
     ]
    },
    {
     "name": "stdout",
     "output_type": "stream",
     "text": [
      "80000: Best Eval: 912.44310, CRC: 0.04949, Polyp: 0.18120, Tick: 46669\n"
     ]
    },
    {
     "name": "stderr",
     "output_type": "stream",
     "text": [
      "Simulated annealing progress:   8%|▊         | 82521/1000000 [20:35<3:23:29, 75.14iteration/s] "
     ]
    },
    {
     "name": "stdout",
     "output_type": "stream",
     "text": [
      "82500: Best Eval: 912.44310, CRC: 0.04949, Polyp: 0.18120, Tick: 49169\n"
     ]
    },
    {
     "name": "stderr",
     "output_type": "stream",
     "text": [
      "Simulated annealing progress:   9%|▊         | 85019/1000000 [21:12<2:34:55, 98.43iteration/s] "
     ]
    },
    {
     "name": "stdout",
     "output_type": "stream",
     "text": [
      "85000: Best Eval: 912.44310, CRC: 0.04949, Polyp: 0.18120, Tick: 51669\n"
     ]
    },
    {
     "name": "stderr",
     "output_type": "stream",
     "text": [
      "Simulated annealing progress:   9%|▉         | 87515/1000000 [21:45<2:29:47, 101.53iteration/s]"
     ]
    },
    {
     "name": "stdout",
     "output_type": "stream",
     "text": [
      "87500: Best Eval: 912.44310, CRC: 0.04949, Polyp: 0.18120, Tick: 54169\n"
     ]
    },
    {
     "name": "stderr",
     "output_type": "stream",
     "text": [
      "Simulated annealing progress:   9%|▉         | 90021/1000000 [22:19<2:23:13, 105.89iteration/s]"
     ]
    },
    {
     "name": "stdout",
     "output_type": "stream",
     "text": [
      "90000: Best Eval: 912.44310, CRC: 0.04949, Polyp: 0.18120, Tick: 56669\n"
     ]
    },
    {
     "name": "stderr",
     "output_type": "stream",
     "text": [
      "Simulated annealing progress:   9%|▉         | 92508/1000000 [22:52<3:02:06, 83.05iteration/s] "
     ]
    },
    {
     "name": "stdout",
     "output_type": "stream",
     "text": [
      "92500: Best Eval: 912.44310, CRC: 0.04949, Polyp: 0.18120, Tick: 59169\n"
     ]
    },
    {
     "name": "stderr",
     "output_type": "stream",
     "text": [
      "Simulated annealing progress:  10%|▉         | 95012/1000000 [23:26<4:19:29, 58.13iteration/s] "
     ]
    },
    {
     "name": "stdout",
     "output_type": "stream",
     "text": [
      "95000: Best Eval: 912.44310, CRC: 0.04949, Polyp: 0.18120, Tick: 61669\n"
     ]
    },
    {
     "name": "stderr",
     "output_type": "stream",
     "text": [
      "Simulated annealing progress:  10%|▉         | 97516/1000000 [23:58<2:20:26, 107.11iteration/s]"
     ]
    },
    {
     "name": "stdout",
     "output_type": "stream",
     "text": [
      "97500: Best Eval: 912.44310, CRC: 0.04949, Polyp: 0.18120, Tick: 64169\n"
     ]
    },
    {
     "name": "stderr",
     "output_type": "stream",
     "text": [
      "Simulated annealing progress:  10%|█         | 100017/1000000 [24:27<2:27:52, 101.43iteration/s]"
     ]
    },
    {
     "name": "stdout",
     "output_type": "stream",
     "text": [
      "100000: Best Eval: 912.44310, CRC: 0.04949, Polyp: 0.18120, Tick: 66669\n",
      "Detailed Progress Report, Iteration = 100000\n",
      "Monthly transition probabilities\n",
      "healthy to LR_polyp: Min: 0.00041, Max: 0.00102, Average: 0.00082\n",
      "LR_polyp to HR_polyp: Min: 0.00041, Max: 0.00219, Average: 0.00145\n",
      "HR_polyp to u_CRC_loc: Min: 0.00122, Max: 0.00243, Average: 0.00183\n",
      "u_CRC_loc to u_CRC_reg: Min: 0.02155, Max: 0.05692, Average: 0.03311\n",
      "u_CRC_reg to u_CRC_dis: Min: 0.03048, Max: 0.06446, Average: 0.04195\n",
      "u_CRC_loc to d_CRC_loc: Min: 0.01415, Max: 0.02113, Average: 0.01589\n",
      "u_CRC_reg to d_CRC_reg: Min: 0.05991, Max: 0.09495, Average: 0.07137\n",
      "u_CRC_dis to d_CRC_dis: Min: 0.09893, Max: 0.27118, Average: 0.15399\n",
      "\n",
      "Annual transition probabilities\n",
      "healthy to LR_polyp: Min: 0.00496, Max: 0.01218, Average: 0.00980\n",
      "LR_polyp to HR_polyp: Min: 0.00496, Max: 0.02593, Average: 0.01724\n",
      "HR_polyp to u_CRC_loc: Min: 0.01453, Max: 0.02877, Average: 0.02178\n",
      "u_CRC_loc to u_CRC_reg: Min: 0.23002, Max: 0.50501, Average: 0.32601\n",
      "u_CRC_reg to u_CRC_dis: Min: 0.31027, Max: 0.55048, Average: 0.39705\n",
      "u_CRC_loc to d_CRC_loc: Min: 0.15717, Max: 0.22607, Average: 0.17462\n",
      "u_CRC_reg to d_CRC_reg: Min: 0.52350, Max: 0.69795, Average: 0.58487\n",
      "u_CRC_dis to d_CRC_dis: Min: 0.71352, Max: 0.97754, Average: 0.82963\n"
     ]
    },
    {
     "name": "stderr",
     "output_type": "stream",
     "text": [
      "Simulated annealing progress:  10%|█         | 102517/1000000 [24:57<2:22:45, 104.78iteration/s]"
     ]
    },
    {
     "name": "stdout",
     "output_type": "stream",
     "text": [
      "102500: Best Eval: 912.44310, CRC: 0.04949, Polyp: 0.18120, Tick: 69169\n"
     ]
    },
    {
     "name": "stderr",
     "output_type": "stream",
     "text": [
      "Simulated annealing progress:  11%|█         | 105015/1000000 [25:26<2:21:43, 105.25iteration/s]"
     ]
    },
    {
     "name": "stdout",
     "output_type": "stream",
     "text": [
      "105000: Best Eval: 912.44310, CRC: 0.04949, Polyp: 0.18120, Tick: 71669\n"
     ]
    },
    {
     "name": "stderr",
     "output_type": "stream",
     "text": [
      "Simulated annealing progress:  11%|█         | 107519/1000000 [25:58<2:33:00, 97.21iteration/s] "
     ]
    },
    {
     "name": "stdout",
     "output_type": "stream",
     "text": [
      "107500: Best Eval: 912.44310, CRC: 0.04949, Polyp: 0.18120, Tick: 74169\n"
     ]
    },
    {
     "name": "stderr",
     "output_type": "stream",
     "text": [
      "Simulated annealing progress:  11%|█         | 110005/1000000 [26:29<4:35:59, 53.74iteration/s] "
     ]
    },
    {
     "name": "stdout",
     "output_type": "stream",
     "text": [
      "110000: Best Eval: 912.44310, CRC: 0.04949, Polyp: 0.18120, Tick: 76669\n"
     ]
    },
    {
     "name": "stderr",
     "output_type": "stream",
     "text": [
      "Simulated annealing progress:  11%|█▏        | 112516/1000000 [27:00<2:21:06, 104.83iteration/s]"
     ]
    },
    {
     "name": "stdout",
     "output_type": "stream",
     "text": [
      "112500: Best Eval: 912.44310, CRC: 0.04949, Polyp: 0.18120, Tick: 79169\n"
     ]
    },
    {
     "name": "stderr",
     "output_type": "stream",
     "text": [
      "Simulated annealing progress:  12%|█▏        | 115015/1000000 [27:32<2:26:50, 100.44iteration/s]"
     ]
    },
    {
     "name": "stdout",
     "output_type": "stream",
     "text": [
      "115000: Best Eval: 912.44310, CRC: 0.04949, Polyp: 0.18120, Tick: 81669\n"
     ]
    },
    {
     "name": "stderr",
     "output_type": "stream",
     "text": [
      "Simulated annealing progress:  12%|█▏        | 117517/1000000 [28:03<2:21:20, 104.06iteration/s]"
     ]
    },
    {
     "name": "stdout",
     "output_type": "stream",
     "text": [
      "117500: Best Eval: 912.44310, CRC: 0.04949, Polyp: 0.18120, Tick: 84169\n"
     ]
    },
    {
     "name": "stderr",
     "output_type": "stream",
     "text": [
      "Simulated annealing progress:  12%|█▏        | 120018/1000000 [28:32<2:23:08, 102.46iteration/s]"
     ]
    },
    {
     "name": "stdout",
     "output_type": "stream",
     "text": [
      "120000: Best Eval: 912.44310, CRC: 0.04949, Polyp: 0.18120, Tick: 86669\n"
     ]
    },
    {
     "name": "stderr",
     "output_type": "stream",
     "text": [
      "Simulated annealing progress:  12%|█▏        | 122508/1000000 [29:02<4:11:08, 58.23iteration/s] "
     ]
    },
    {
     "name": "stdout",
     "output_type": "stream",
     "text": [
      "122500: Best Eval: 912.44310, CRC: 0.04949, Polyp: 0.18120, Tick: 89169\n"
     ]
    },
    {
     "name": "stderr",
     "output_type": "stream",
     "text": [
      "Simulated annealing progress:  13%|█▎        | 125014/1000000 [29:31<2:16:00, 107.22iteration/s]"
     ]
    },
    {
     "name": "stdout",
     "output_type": "stream",
     "text": [
      "125000: Best Eval: 912.44310, CRC: 0.04949, Polyp: 0.18120, Tick: 91669\n"
     ]
    },
    {
     "name": "stderr",
     "output_type": "stream",
     "text": [
      "Simulated annealing progress:  13%|█▎        | 127508/1000000 [30:01<4:14:47, 57.07iteration/s] "
     ]
    },
    {
     "name": "stdout",
     "output_type": "stream",
     "text": [
      "127500: Best Eval: 912.44310, CRC: 0.04949, Polyp: 0.18120, Tick: 94169\n"
     ]
    },
    {
     "name": "stderr",
     "output_type": "stream",
     "text": [
      "Simulated annealing progress:  13%|█▎        | 130011/1000000 [30:31<2:19:41, 103.79iteration/s]"
     ]
    },
    {
     "name": "stdout",
     "output_type": "stream",
     "text": [
      "130000: Best Eval: 912.44310, CRC: 0.04949, Polyp: 0.18120, Tick: 96669\n"
     ]
    },
    {
     "name": "stderr",
     "output_type": "stream",
     "text": [
      "Simulated annealing progress:  13%|█▎        | 132506/1000000 [31:02<4:01:47, 59.80iteration/s] "
     ]
    },
    {
     "name": "stdout",
     "output_type": "stream",
     "text": [
      "132500: Best Eval: 912.44310, CRC: 0.04949, Polyp: 0.18120, Tick: 99169\n"
     ]
    },
    {
     "name": "stderr",
     "output_type": "stream",
     "text": [
      "Simulated annealing progress:  14%|█▎        | 135014/1000000 [31:32<2:31:33, 95.12iteration/s] "
     ]
    },
    {
     "name": "stdout",
     "output_type": "stream",
     "text": [
      "135000: Best Eval: 912.44310, CRC: 0.04949, Polyp: 0.18120, Tick: 101669\n"
     ]
    },
    {
     "name": "stderr",
     "output_type": "stream",
     "text": [
      "Simulated annealing progress:  14%|█▍        | 137516/1000000 [32:11<2:18:21, 103.89iteration/s]"
     ]
    },
    {
     "name": "stdout",
     "output_type": "stream",
     "text": [
      "137500: Best Eval: 912.44310, CRC: 0.04949, Polyp: 0.18120, Tick: 104169\n"
     ]
    },
    {
     "name": "stderr",
     "output_type": "stream",
     "text": [
      "Simulated annealing progress:  14%|█▍        | 140008/1000000 [32:45<5:17:17, 45.17iteration/s] "
     ]
    },
    {
     "name": "stdout",
     "output_type": "stream",
     "text": [
      "140000: Best Eval: 912.44310, CRC: 0.04949, Polyp: 0.18120, Tick: 106669\n"
     ]
    },
    {
     "name": "stderr",
     "output_type": "stream",
     "text": [
      "Simulated annealing progress:  14%|█▍        | 142523/1000000 [33:16<2:16:12, 104.92iteration/s]"
     ]
    },
    {
     "name": "stdout",
     "output_type": "stream",
     "text": [
      "142500: Best Eval: 912.44310, CRC: 0.04949, Polyp: 0.18120, Tick: 109169\n"
     ]
    },
    {
     "name": "stderr",
     "output_type": "stream",
     "text": [
      "Simulated annealing progress:  15%|█▍        | 145014/1000000 [33:44<2:16:19, 104.52iteration/s]"
     ]
    },
    {
     "name": "stdout",
     "output_type": "stream",
     "text": [
      "145000: Best Eval: 912.44310, CRC: 0.04949, Polyp: 0.18120, Tick: 111669\n"
     ]
    },
    {
     "name": "stderr",
     "output_type": "stream",
     "text": [
      "Simulated annealing progress:  15%|█▍        | 147515/1000000 [34:22<2:25:34, 97.60iteration/s] "
     ]
    },
    {
     "name": "stdout",
     "output_type": "stream",
     "text": [
      "147500: Best Eval: 912.44310, CRC: 0.04949, Polyp: 0.18120, Tick: 114169\n"
     ]
    },
    {
     "name": "stderr",
     "output_type": "stream",
     "text": [
      "Simulated annealing progress:  15%|█▌        | 150017/1000000 [34:56<2:24:51, 97.80iteration/s] "
     ]
    },
    {
     "name": "stdout",
     "output_type": "stream",
     "text": [
      "150000: Best Eval: 912.44310, CRC: 0.04949, Polyp: 0.18120, Tick: 116669\n",
      "Detailed Progress Report, Iteration = 150000\n",
      "Monthly transition probabilities\n",
      "healthy to LR_polyp: Min: 0.00041, Max: 0.00102, Average: 0.00082\n",
      "LR_polyp to HR_polyp: Min: 0.00041, Max: 0.00219, Average: 0.00145\n",
      "HR_polyp to u_CRC_loc: Min: 0.00122, Max: 0.00243, Average: 0.00183\n",
      "u_CRC_loc to u_CRC_reg: Min: 0.02155, Max: 0.05692, Average: 0.03311\n",
      "u_CRC_reg to u_CRC_dis: Min: 0.03048, Max: 0.06446, Average: 0.04195\n",
      "u_CRC_loc to d_CRC_loc: Min: 0.01415, Max: 0.02113, Average: 0.01589\n",
      "u_CRC_reg to d_CRC_reg: Min: 0.05991, Max: 0.09495, Average: 0.07137\n",
      "u_CRC_dis to d_CRC_dis: Min: 0.09893, Max: 0.27118, Average: 0.15399\n",
      "\n",
      "Annual transition probabilities\n",
      "healthy to LR_polyp: Min: 0.00496, Max: 0.01218, Average: 0.00980\n",
      "LR_polyp to HR_polyp: Min: 0.00496, Max: 0.02593, Average: 0.01724\n",
      "HR_polyp to u_CRC_loc: Min: 0.01453, Max: 0.02877, Average: 0.02178\n",
      "u_CRC_loc to u_CRC_reg: Min: 0.23002, Max: 0.50501, Average: 0.32601\n",
      "u_CRC_reg to u_CRC_dis: Min: 0.31027, Max: 0.55048, Average: 0.39705\n",
      "u_CRC_loc to d_CRC_loc: Min: 0.15717, Max: 0.22607, Average: 0.17462\n",
      "u_CRC_reg to d_CRC_reg: Min: 0.52350, Max: 0.69795, Average: 0.58487\n",
      "u_CRC_dis to d_CRC_dis: Min: 0.71352, Max: 0.97754, Average: 0.82963\n"
     ]
    },
    {
     "name": "stderr",
     "output_type": "stream",
     "text": [
      "Simulated annealing progress:  15%|█▌        | 152515/1000000 [35:30<2:15:07, 104.53iteration/s]"
     ]
    },
    {
     "name": "stdout",
     "output_type": "stream",
     "text": [
      "152500: Best Eval: 912.44310, CRC: 0.04949, Polyp: 0.18120, Tick: 119169\n"
     ]
    },
    {
     "name": "stderr",
     "output_type": "stream",
     "text": [
      "Simulated annealing progress:  16%|█▌        | 155009/1000000 [36:12<4:03:43, 57.78iteration/s] "
     ]
    },
    {
     "name": "stdout",
     "output_type": "stream",
     "text": [
      "155000: Best Eval: 912.44310, CRC: 0.04949, Polyp: 0.18120, Tick: 121669\n"
     ]
    },
    {
     "name": "stderr",
     "output_type": "stream",
     "text": [
      "Simulated annealing progress:  16%|█▌        | 157519/1000000 [36:44<2:16:55, 102.55iteration/s]"
     ]
    },
    {
     "name": "stdout",
     "output_type": "stream",
     "text": [
      "157500: Best Eval: 912.44310, CRC: 0.04949, Polyp: 0.18120, Tick: 124169\n"
     ]
    },
    {
     "name": "stderr",
     "output_type": "stream",
     "text": [
      "Simulated annealing progress:  16%|█▌        | 160008/1000000 [37:21<4:11:32, 55.66iteration/s] "
     ]
    },
    {
     "name": "stdout",
     "output_type": "stream",
     "text": [
      "160000: Best Eval: 912.44310, CRC: 0.04949, Polyp: 0.18120, Tick: 126669\n"
     ]
    },
    {
     "name": "stderr",
     "output_type": "stream",
     "text": [
      "Simulated annealing progress:  16%|█▋        | 162514/1000000 [37:52<2:12:46, 105.12iteration/s]"
     ]
    },
    {
     "name": "stdout",
     "output_type": "stream",
     "text": [
      "162500: Best Eval: 912.44310, CRC: 0.04949, Polyp: 0.18120, Tick: 129169\n"
     ]
    },
    {
     "name": "stderr",
     "output_type": "stream",
     "text": [
      "Simulated annealing progress:  17%|█▋        | 165010/1000000 [38:24<4:50:55, 47.84iteration/s] "
     ]
    },
    {
     "name": "stdout",
     "output_type": "stream",
     "text": [
      "165000: Best Eval: 912.44310, CRC: 0.04949, Polyp: 0.18120, Tick: 131669\n"
     ]
    },
    {
     "name": "stderr",
     "output_type": "stream",
     "text": [
      "Simulated annealing progress:  17%|█▋        | 167502/1000000 [39:01<4:30:44, 51.25iteration/s] "
     ]
    },
    {
     "name": "stdout",
     "output_type": "stream",
     "text": [
      "167500: Best Eval: 912.44310, CRC: 0.04949, Polyp: 0.18120, Tick: 134169\n"
     ]
    },
    {
     "name": "stderr",
     "output_type": "stream",
     "text": [
      "Simulated annealing progress:  17%|█▋        | 170017/1000000 [39:37<3:01:32, 76.20iteration/s] "
     ]
    },
    {
     "name": "stdout",
     "output_type": "stream",
     "text": [
      "170000: Best Eval: 912.44310, CRC: 0.04949, Polyp: 0.18120, Tick: 136669\n"
     ]
    },
    {
     "name": "stderr",
     "output_type": "stream",
     "text": [
      "Simulated annealing progress:  17%|█▋        | 172508/1000000 [40:10<6:40:17, 34.45iteration/s] "
     ]
    },
    {
     "name": "stdout",
     "output_type": "stream",
     "text": [
      "172500: Best Eval: 912.44310, CRC: 0.04949, Polyp: 0.18120, Tick: 139169\n"
     ]
    },
    {
     "name": "stderr",
     "output_type": "stream",
     "text": [
      "Simulated annealing progress:  18%|█▊        | 175006/1000000 [40:50<3:19:56, 68.77iteration/s] "
     ]
    },
    {
     "name": "stdout",
     "output_type": "stream",
     "text": [
      "175000: Best Eval: 912.44310, CRC: 0.04949, Polyp: 0.18120, Tick: 141669\n"
     ]
    },
    {
     "name": "stderr",
     "output_type": "stream",
     "text": [
      "Simulated annealing progress:  18%|█▊        | 177505/1000000 [42:10<7:56:35, 28.76iteration/s] "
     ]
    },
    {
     "name": "stdout",
     "output_type": "stream",
     "text": [
      "177500: Best Eval: 912.44310, CRC: 0.04949, Polyp: 0.18120, Tick: 144169\n"
     ]
    },
    {
     "name": "stderr",
     "output_type": "stream",
     "text": [
      "Simulated annealing progress:  18%|█▊        | 180004/1000000 [43:46<9:31:20, 23.92iteration/s] "
     ]
    },
    {
     "name": "stdout",
     "output_type": "stream",
     "text": [
      "180000: Best Eval: 912.44310, CRC: 0.04949, Polyp: 0.18120, Tick: 146669\n"
     ]
    },
    {
     "name": "stderr",
     "output_type": "stream",
     "text": [
      "Simulated annealing progress:  18%|█▊        | 182503/1000000 [45:15<13:10:42, 17.23iteration/s]"
     ]
    },
    {
     "name": "stdout",
     "output_type": "stream",
     "text": [
      "182500: Best Eval: 912.44310, CRC: 0.04949, Polyp: 0.18120, Tick: 149169\n"
     ]
    },
    {
     "name": "stderr",
     "output_type": "stream",
     "text": [
      "Simulated annealing progress:  19%|█▊        | 185004/1000000 [46:44<8:02:22, 28.16iteration/s] "
     ]
    },
    {
     "name": "stdout",
     "output_type": "stream",
     "text": [
      "185000: Best Eval: 912.44310, CRC: 0.04949, Polyp: 0.18120, Tick: 151669\n"
     ]
    },
    {
     "name": "stderr",
     "output_type": "stream",
     "text": [
      "Simulated annealing progress:  19%|█▉        | 187503/1000000 [48:19<10:12:32, 22.11iteration/s]"
     ]
    },
    {
     "name": "stdout",
     "output_type": "stream",
     "text": [
      "187500: Best Eval: 912.44310, CRC: 0.04949, Polyp: 0.18120, Tick: 154169\n"
     ]
    },
    {
     "name": "stderr",
     "output_type": "stream",
     "text": [
      "Simulated annealing progress:  19%|█▉        | 190004/1000000 [49:50<8:55:50, 25.19iteration/s] "
     ]
    },
    {
     "name": "stdout",
     "output_type": "stream",
     "text": [
      "190000: Best Eval: 912.44310, CRC: 0.04949, Polyp: 0.18120, Tick: 156669\n"
     ]
    },
    {
     "name": "stderr",
     "output_type": "stream",
     "text": [
      "Simulated annealing progress:  19%|█▉        | 192504/1000000 [51:20<7:36:48, 29.46iteration/s] "
     ]
    },
    {
     "name": "stdout",
     "output_type": "stream",
     "text": [
      "192500: Best Eval: 912.44310, CRC: 0.04949, Polyp: 0.18120, Tick: 159169\n"
     ]
    },
    {
     "name": "stderr",
     "output_type": "stream",
     "text": [
      "Simulated annealing progress:  20%|█▉        | 195006/1000000 [52:52<7:49:37, 28.57iteration/s] "
     ]
    },
    {
     "name": "stdout",
     "output_type": "stream",
     "text": [
      "195000: Best Eval: 912.44310, CRC: 0.04949, Polyp: 0.18120, Tick: 161669\n"
     ]
    },
    {
     "name": "stderr",
     "output_type": "stream",
     "text": [
      "Simulated annealing progress:  20%|█▉        | 197505/1000000 [54:19<7:48:49, 28.53iteration/s]"
     ]
    },
    {
     "name": "stdout",
     "output_type": "stream",
     "text": [
      "197500: Best Eval: 912.44310, CRC: 0.04949, Polyp: 0.18120, Tick: 164169\n"
     ]
    },
    {
     "name": "stderr",
     "output_type": "stream",
     "text": [
      "Simulated annealing progress:  20%|██        | 200004/1000000 [55:52<7:35:25, 29.28iteration/s] "
     ]
    },
    {
     "name": "stdout",
     "output_type": "stream",
     "text": [
      "200000: Best Eval: 912.44310, CRC: 0.04949, Polyp: 0.18120, Tick: 166669\n",
      "Detailed Progress Report, Iteration = 200000\n",
      "Monthly transition probabilities\n",
      "healthy to LR_polyp: Min: 0.00041, Max: 0.00102, Average: 0.00082\n",
      "LR_polyp to HR_polyp: Min: 0.00041, Max: 0.00219, Average: 0.00145\n",
      "HR_polyp to u_CRC_loc: Min: 0.00122, Max: 0.00243, Average: 0.00183\n",
      "u_CRC_loc to u_CRC_reg: Min: 0.02155, Max: 0.05692, Average: 0.03311\n",
      "u_CRC_reg to u_CRC_dis: Min: 0.03048, Max: 0.06446, Average: 0.04195\n",
      "u_CRC_loc to d_CRC_loc: Min: 0.01415, Max: 0.02113, Average: 0.01589\n",
      "u_CRC_reg to d_CRC_reg: Min: 0.05991, Max: 0.09495, Average: 0.07137\n",
      "u_CRC_dis to d_CRC_dis: Min: 0.09893, Max: 0.27118, Average: 0.15399\n",
      "\n",
      "Annual transition probabilities\n",
      "healthy to LR_polyp: Min: 0.00496, Max: 0.01218, Average: 0.00980\n",
      "LR_polyp to HR_polyp: Min: 0.00496, Max: 0.02593, Average: 0.01724\n",
      "HR_polyp to u_CRC_loc: Min: 0.01453, Max: 0.02877, Average: 0.02178\n",
      "u_CRC_loc to u_CRC_reg: Min: 0.23002, Max: 0.50501, Average: 0.32601\n",
      "u_CRC_reg to u_CRC_dis: Min: 0.31027, Max: 0.55048, Average: 0.39705\n",
      "u_CRC_loc to d_CRC_loc: Min: 0.15717, Max: 0.22607, Average: 0.17462\n",
      "u_CRC_reg to d_CRC_reg: Min: 0.52350, Max: 0.69795, Average: 0.58487\n",
      "u_CRC_dis to d_CRC_dis: Min: 0.71352, Max: 0.97754, Average: 0.82963\n"
     ]
    },
    {
     "name": "stderr",
     "output_type": "stream",
     "text": [
      "Simulated annealing progress:  20%|██        | 202505/1000000 [57:24<7:38:10, 29.01iteration/s] "
     ]
    },
    {
     "name": "stdout",
     "output_type": "stream",
     "text": [
      "202500: Best Eval: 912.44310, CRC: 0.04949, Polyp: 0.18120, Tick: 169169\n"
     ]
    },
    {
     "name": "stderr",
     "output_type": "stream",
     "text": [
      "Simulated annealing progress:  21%|██        | 205006/1000000 [58:55<7:23:21, 29.88iteration/s]"
     ]
    },
    {
     "name": "stdout",
     "output_type": "stream",
     "text": [
      "205000: Best Eval: 912.44310, CRC: 0.04949, Polyp: 0.18120, Tick: 171669\n"
     ]
    },
    {
     "name": "stderr",
     "output_type": "stream",
     "text": [
      "Simulated annealing progress:  21%|██        | 207504/1000000 [1:00:26<7:24:00, 29.75iteration/s]"
     ]
    },
    {
     "name": "stdout",
     "output_type": "stream",
     "text": [
      "207500: Best Eval: 912.44310, CRC: 0.04949, Polyp: 0.18120, Tick: 174169\n"
     ]
    },
    {
     "name": "stderr",
     "output_type": "stream",
     "text": [
      "Simulated annealing progress:  21%|██        | 210004/1000000 [1:01:58<8:20:07, 26.33iteration/s] "
     ]
    },
    {
     "name": "stdout",
     "output_type": "stream",
     "text": [
      "210000: Best Eval: 912.44310, CRC: 0.04949, Polyp: 0.18120, Tick: 176669\n"
     ]
    },
    {
     "name": "stderr",
     "output_type": "stream",
     "text": [
      "Simulated annealing progress:  21%|██▏       | 212505/1000000 [1:03:29<7:47:57, 28.05iteration/s]"
     ]
    },
    {
     "name": "stdout",
     "output_type": "stream",
     "text": [
      "212500: Best Eval: 912.44310, CRC: 0.04949, Polyp: 0.18120, Tick: 179169\n"
     ]
    },
    {
     "name": "stderr",
     "output_type": "stream",
     "text": [
      "Simulated annealing progress:  22%|██▏       | 215006/1000000 [1:04:59<7:12:30, 30.25iteration/s]"
     ]
    },
    {
     "name": "stdout",
     "output_type": "stream",
     "text": [
      "215000: Best Eval: 912.44310, CRC: 0.04949, Polyp: 0.18120, Tick: 181669\n"
     ]
    },
    {
     "name": "stderr",
     "output_type": "stream",
     "text": [
      "Simulated annealing progress:  22%|██▏       | 217505/1000000 [1:06:29<8:11:23, 26.54iteration/s] "
     ]
    },
    {
     "name": "stdout",
     "output_type": "stream",
     "text": [
      "217500: Best Eval: 912.44310, CRC: 0.04949, Polyp: 0.18120, Tick: 184169\n"
     ]
    },
    {
     "name": "stderr",
     "output_type": "stream",
     "text": [
      "Simulated annealing progress:  22%|██▏       | 220007/1000000 [1:07:59<7:05:51, 30.53iteration/s]"
     ]
    },
    {
     "name": "stdout",
     "output_type": "stream",
     "text": [
      "220000: Best Eval: 912.44310, CRC: 0.04949, Polyp: 0.18120, Tick: 186669\n"
     ]
    },
    {
     "name": "stderr",
     "output_type": "stream",
     "text": [
      "Simulated annealing progress:  22%|██▏       | 222504/1000000 [1:09:19<6:45:18, 31.97iteration/s]"
     ]
    },
    {
     "name": "stdout",
     "output_type": "stream",
     "text": [
      "222500: Best Eval: 912.44310, CRC: 0.04949, Polyp: 0.18120, Tick: 189169\n"
     ]
    },
    {
     "name": "stderr",
     "output_type": "stream",
     "text": [
      "Simulated annealing progress:  23%|██▎       | 225007/1000000 [1:10:40<6:57:39, 30.93iteration/s] "
     ]
    },
    {
     "name": "stdout",
     "output_type": "stream",
     "text": [
      "225000: Best Eval: 899.12788, CRC: 0.04957, Polyp: 0.18102, Tick: 1393\n"
     ]
    },
    {
     "name": "stderr",
     "output_type": "stream",
     "text": [
      "Simulated annealing progress:  23%|██▎       | 227505/1000000 [1:12:18<8:27:49, 25.35iteration/s] "
     ]
    },
    {
     "name": "stdout",
     "output_type": "stream",
     "text": [
      "227500: Best Eval: 899.12788, CRC: 0.04957, Polyp: 0.18102, Tick: 3893\n"
     ]
    },
    {
     "name": "stderr",
     "output_type": "stream",
     "text": [
      "Simulated annealing progress:  23%|██▎       | 230005/1000000 [1:13:56<7:51:25, 27.22iteration/s]"
     ]
    },
    {
     "name": "stdout",
     "output_type": "stream",
     "text": [
      "230000: Best Eval: 893.85378, CRC: 0.04967, Polyp: 0.18087, Tick: 1349\n"
     ]
    },
    {
     "name": "stderr",
     "output_type": "stream",
     "text": [
      "Simulated annealing progress:  23%|██▎       | 232504/1000000 [1:15:32<8:00:27, 26.62iteration/s]"
     ]
    },
    {
     "name": "stdout",
     "output_type": "stream",
     "text": [
      "232500: Best Eval: 893.85378, CRC: 0.04967, Polyp: 0.18087, Tick: 3849\n"
     ]
    },
    {
     "name": "stderr",
     "output_type": "stream",
     "text": [
      "Simulated annealing progress:  24%|██▎       | 235006/1000000 [1:17:08<8:38:53, 24.57iteration/s]"
     ]
    },
    {
     "name": "stdout",
     "output_type": "stream",
     "text": [
      "235000: Best Eval: 893.85378, CRC: 0.04967, Polyp: 0.18087, Tick: 6349\n"
     ]
    },
    {
     "name": "stderr",
     "output_type": "stream",
     "text": [
      "Simulated annealing progress:  24%|██▍       | 237505/1000000 [1:18:47<8:49:32, 24.00iteration/s]"
     ]
    },
    {
     "name": "stdout",
     "output_type": "stream",
     "text": [
      "237500: Best Eval: 893.85378, CRC: 0.04967, Polyp: 0.18087, Tick: 8849\n"
     ]
    },
    {
     "name": "stderr",
     "output_type": "stream",
     "text": [
      "Simulated annealing progress:  24%|██▍       | 240003/1000000 [1:20:25<8:18:48, 25.39iteration/s]"
     ]
    },
    {
     "name": "stdout",
     "output_type": "stream",
     "text": [
      "240000: Best Eval: 893.85378, CRC: 0.04967, Polyp: 0.18087, Tick: 11349\n"
     ]
    },
    {
     "name": "stderr",
     "output_type": "stream",
     "text": [
      "Simulated annealing progress:  24%|██▍       | 242505/1000000 [1:22:10<8:36:12, 24.46iteration/s] "
     ]
    },
    {
     "name": "stdout",
     "output_type": "stream",
     "text": [
      "242500: Best Eval: 893.85378, CRC: 0.04967, Polyp: 0.18087, Tick: 13849\n"
     ]
    },
    {
     "name": "stderr",
     "output_type": "stream",
     "text": [
      "Simulated annealing progress:  25%|██▍       | 245006/1000000 [1:23:51<7:34:06, 27.71iteration/s] "
     ]
    },
    {
     "name": "stdout",
     "output_type": "stream",
     "text": [
      "245000: Best Eval: 893.85378, CRC: 0.04967, Polyp: 0.18087, Tick: 16349\n"
     ]
    },
    {
     "name": "stderr",
     "output_type": "stream",
     "text": [
      "Simulated annealing progress:  25%|██▍       | 247507/1000000 [1:25:28<7:02:09, 29.71iteration/s] "
     ]
    },
    {
     "name": "stdout",
     "output_type": "stream",
     "text": [
      "247500: Best Eval: 893.85378, CRC: 0.04967, Polyp: 0.18087, Tick: 18849\n"
     ]
    },
    {
     "name": "stderr",
     "output_type": "stream",
     "text": [
      "Simulated annealing progress:  25%|██▌       | 250005/1000000 [1:27:10<7:45:27, 26.86iteration/s] "
     ]
    },
    {
     "name": "stdout",
     "output_type": "stream",
     "text": [
      "250000: Best Eval: 893.85378, CRC: 0.04967, Polyp: 0.18087, Tick: 21349\n",
      "Detailed Progress Report, Iteration = 250000\n",
      "Monthly transition probabilities\n",
      "healthy to LR_polyp: Min: 0.00042, Max: 0.00102, Average: 0.00082\n",
      "LR_polyp to HR_polyp: Min: 0.00042, Max: 0.00223, Average: 0.00144\n",
      "HR_polyp to u_CRC_loc: Min: 0.00123, Max: 0.00242, Average: 0.00181\n",
      "u_CRC_loc to u_CRC_reg: Min: 0.02059, Max: 0.05677, Average: 0.03265\n",
      "u_CRC_reg to u_CRC_dis: Min: 0.03042, Max: 0.06431, Average: 0.04195\n",
      "u_CRC_loc to d_CRC_loc: Min: 0.01350, Max: 0.02089, Average: 0.01563\n",
      "u_CRC_reg to d_CRC_reg: Min: 0.06007, Max: 0.09465, Average: 0.07018\n",
      "u_CRC_dis to d_CRC_dis: Min: 0.09844, Max: 0.26899, Average: 0.15378\n",
      "\n",
      "Annual transition probabilities\n",
      "healthy to LR_polyp: Min: 0.00498, Max: 0.01219, Average: 0.00979\n",
      "LR_polyp to HR_polyp: Min: 0.00498, Max: 0.02643, Average: 0.01715\n",
      "HR_polyp to u_CRC_loc: Min: 0.01470, Max: 0.02871, Average: 0.02152\n",
      "u_CRC_loc to u_CRC_reg: Min: 0.22093, Max: 0.50407, Average: 0.32169\n",
      "u_CRC_reg to u_CRC_dis: Min: 0.30978, Max: 0.54959, Average: 0.39707\n",
      "u_CRC_loc to d_CRC_loc: Min: 0.15054, Max: 0.22379, Average: 0.17199\n",
      "u_CRC_reg to d_CRC_reg: Min: 0.52449, Max: 0.69677, Average: 0.57908\n",
      "u_CRC_dis to d_CRC_dis: Min: 0.71163, Max: 0.97671, Average: 0.82901\n"
     ]
    },
    {
     "name": "stderr",
     "output_type": "stream",
     "text": [
      "Simulated annealing progress:  25%|██▌       | 252504/1000000 [1:28:48<9:11:37, 22.58iteration/s] "
     ]
    },
    {
     "name": "stdout",
     "output_type": "stream",
     "text": [
      "252500: Best Eval: 893.85378, CRC: 0.04967, Polyp: 0.18087, Tick: 23849\n"
     ]
    },
    {
     "name": "stderr",
     "output_type": "stream",
     "text": [
      "Simulated annealing progress:  26%|██▌       | 255005/1000000 [1:30:26<8:03:18, 25.69iteration/s] "
     ]
    },
    {
     "name": "stdout",
     "output_type": "stream",
     "text": [
      "255000: Best Eval: 893.85378, CRC: 0.04967, Polyp: 0.18087, Tick: 26349\n"
     ]
    },
    {
     "name": "stderr",
     "output_type": "stream",
     "text": [
      "Simulated annealing progress:  26%|██▌       | 257504/1000000 [1:32:16<8:10:35, 25.22iteration/s] "
     ]
    },
    {
     "name": "stdout",
     "output_type": "stream",
     "text": [
      "257500: Best Eval: 893.85378, CRC: 0.04967, Polyp: 0.18087, Tick: 28849\n"
     ]
    },
    {
     "name": "stderr",
     "output_type": "stream",
     "text": [
      "Simulated annealing progress:  26%|██▌       | 260004/1000000 [1:33:58<7:55:39, 25.93iteration/s] "
     ]
    },
    {
     "name": "stdout",
     "output_type": "stream",
     "text": [
      "260000: Best Eval: 893.11444, CRC: 0.04937, Polyp: 0.18096, Tick: 1563\n"
     ]
    },
    {
     "name": "stderr",
     "output_type": "stream",
     "text": [
      "Simulated annealing progress:  26%|██▋       | 262502/1000000 [1:35:42<8:23:26, 24.41iteration/s] "
     ]
    },
    {
     "name": "stdout",
     "output_type": "stream",
     "text": [
      "262500: Best Eval: 893.11444, CRC: 0.04937, Polyp: 0.18096, Tick: 4063\n"
     ]
    },
    {
     "name": "stderr",
     "output_type": "stream",
     "text": [
      "Simulated annealing progress:  27%|██▋       | 265006/1000000 [1:37:22<8:20:41, 24.47iteration/s] "
     ]
    },
    {
     "name": "stdout",
     "output_type": "stream",
     "text": [
      "265000: Best Eval: 893.11444, CRC: 0.04937, Polyp: 0.18096, Tick: 6563\n"
     ]
    },
    {
     "name": "stderr",
     "output_type": "stream",
     "text": [
      "Simulated annealing progress:  27%|██▋       | 267505/1000000 [1:39:07<8:08:52, 24.97iteration/s] "
     ]
    },
    {
     "name": "stdout",
     "output_type": "stream",
     "text": [
      "267500: Best Eval: 880.18858, CRC: 0.04906, Polyp: 0.18110, Tick: 475\n"
     ]
    },
    {
     "name": "stderr",
     "output_type": "stream",
     "text": [
      "Simulated annealing progress:  27%|██▋       | 270005/1000000 [1:40:46<7:52:45, 25.74iteration/s] "
     ]
    },
    {
     "name": "stdout",
     "output_type": "stream",
     "text": [
      "270000: Best Eval: 880.18858, CRC: 0.04906, Polyp: 0.18110, Tick: 2975\n"
     ]
    },
    {
     "name": "stderr",
     "output_type": "stream",
     "text": [
      "Simulated annealing progress:  27%|██▋       | 272502/1000000 [1:42:33<10:43:41, 18.84iteration/s]"
     ]
    },
    {
     "name": "stdout",
     "output_type": "stream",
     "text": [
      "272500: Best Eval: 880.18858, CRC: 0.04906, Polyp: 0.18110, Tick: 5475\n"
     ]
    },
    {
     "name": "stderr",
     "output_type": "stream",
     "text": [
      "Simulated annealing progress:  28%|██▊       | 275005/1000000 [1:44:23<8:18:31, 24.24iteration/s] "
     ]
    },
    {
     "name": "stdout",
     "output_type": "stream",
     "text": [
      "275000: Best Eval: 880.18858, CRC: 0.04906, Polyp: 0.18110, Tick: 7975\n"
     ]
    },
    {
     "name": "stderr",
     "output_type": "stream",
     "text": [
      "Simulated annealing progress:  28%|██▊       | 277506/1000000 [1:46:08<7:57:22, 25.22iteration/s] "
     ]
    },
    {
     "name": "stdout",
     "output_type": "stream",
     "text": [
      "277500: Best Eval: 880.18858, CRC: 0.04906, Polyp: 0.18110, Tick: 10475\n"
     ]
    },
    {
     "name": "stderr",
     "output_type": "stream",
     "text": [
      "Simulated annealing progress:  28%|██▊       | 280004/1000000 [1:47:51<9:20:06, 21.42iteration/s] "
     ]
    },
    {
     "name": "stdout",
     "output_type": "stream",
     "text": [
      "280000: Best Eval: 880.18858, CRC: 0.04906, Polyp: 0.18110, Tick: 12975\n"
     ]
    },
    {
     "name": "stderr",
     "output_type": "stream",
     "text": [
      "Simulated annealing progress:  28%|██▊       | 282504/1000000 [1:49:34<7:47:25, 25.58iteration/s] "
     ]
    },
    {
     "name": "stdout",
     "output_type": "stream",
     "text": [
      "282500: Best Eval: 880.18858, CRC: 0.04906, Polyp: 0.18110, Tick: 15475\n"
     ]
    },
    {
     "name": "stderr",
     "output_type": "stream",
     "text": [
      "Simulated annealing progress:  29%|██▊       | 285005/1000000 [1:51:27<7:28:18, 26.58iteration/s] "
     ]
    },
    {
     "name": "stdout",
     "output_type": "stream",
     "text": [
      "285000: Best Eval: 880.18858, CRC: 0.04906, Polyp: 0.18110, Tick: 17975\n"
     ]
    },
    {
     "name": "stderr",
     "output_type": "stream",
     "text": [
      "Simulated annealing progress:  29%|██▉       | 287503/1000000 [1:53:05<8:14:24, 24.02iteration/s] "
     ]
    },
    {
     "name": "stdout",
     "output_type": "stream",
     "text": [
      "287500: Best Eval: 880.18858, CRC: 0.04906, Polyp: 0.18110, Tick: 20475\n"
     ]
    },
    {
     "name": "stderr",
     "output_type": "stream",
     "text": [
      "Simulated annealing progress:  29%|██▉       | 290003/1000000 [1:54:45<7:50:31, 25.15iteration/s] "
     ]
    },
    {
     "name": "stdout",
     "output_type": "stream",
     "text": [
      "290000: Best Eval: 880.18858, CRC: 0.04906, Polyp: 0.18110, Tick: 22975\n"
     ]
    },
    {
     "name": "stderr",
     "output_type": "stream",
     "text": [
      "Simulated annealing progress:  29%|██▉       | 292505/1000000 [1:56:22<6:42:19, 29.31iteration/s] "
     ]
    },
    {
     "name": "stdout",
     "output_type": "stream",
     "text": [
      "292500: Best Eval: 880.18858, CRC: 0.04906, Polyp: 0.18110, Tick: 25475\n"
     ]
    },
    {
     "name": "stderr",
     "output_type": "stream",
     "text": [
      "Simulated annealing progress:  30%|██▉       | 295007/1000000 [1:57:45<6:26:27, 30.40iteration/s]"
     ]
    },
    {
     "name": "stdout",
     "output_type": "stream",
     "text": [
      "295000: Best Eval: 880.18858, CRC: 0.04906, Polyp: 0.18110, Tick: 27975\n"
     ]
    },
    {
     "name": "stderr",
     "output_type": "stream",
     "text": [
      "Simulated annealing progress:  30%|██▉       | 297506/1000000 [1:59:08<6:20:04, 30.81iteration/s]"
     ]
    },
    {
     "name": "stdout",
     "output_type": "stream",
     "text": [
      "297500: Best Eval: 880.18858, CRC: 0.04906, Polyp: 0.18110, Tick: 30475\n"
     ]
    },
    {
     "name": "stderr",
     "output_type": "stream",
     "text": [
      "Simulated annealing progress:  30%|███       | 300006/1000000 [2:00:31<6:57:47, 27.92iteration/s]"
     ]
    },
    {
     "name": "stdout",
     "output_type": "stream",
     "text": [
      "300000: Best Eval: 880.18858, CRC: 0.04906, Polyp: 0.18110, Tick: 32975\n",
      "Detailed Progress Report, Iteration = 300000\n",
      "Monthly transition probabilities\n",
      "healthy to LR_polyp: Min: 0.00042, Max: 0.00102, Average: 0.00082\n",
      "LR_polyp to HR_polyp: Min: 0.00042, Max: 0.00214, Average: 0.00142\n",
      "HR_polyp to u_CRC_loc: Min: 0.00119, Max: 0.00244, Average: 0.00181\n",
      "u_CRC_loc to u_CRC_reg: Min: 0.02028, Max: 0.05695, Average: 0.03224\n",
      "u_CRC_reg to u_CRC_dis: Min: 0.02943, Max: 0.06406, Average: 0.04165\n",
      "u_CRC_loc to d_CRC_loc: Min: 0.01342, Max: 0.02070, Average: 0.01564\n",
      "u_CRC_reg to d_CRC_reg: Min: 0.05975, Max: 0.09344, Average: 0.06889\n",
      "u_CRC_dis to d_CRC_dis: Min: 0.09708, Max: 0.26783, Average: 0.15377\n",
      "\n",
      "Annual transition probabilities\n",
      "healthy to LR_polyp: Min: 0.00499, Max: 0.01221, Average: 0.00979\n",
      "LR_polyp to HR_polyp: Min: 0.00506, Max: 0.02537, Average: 0.01684\n",
      "HR_polyp to u_CRC_loc: Min: 0.01423, Max: 0.02886, Average: 0.02144\n",
      "u_CRC_loc to u_CRC_reg: Min: 0.21795, Max: 0.50519, Average: 0.31831\n",
      "u_CRC_reg to u_CRC_dis: Min: 0.30123, Max: 0.54818, Average: 0.39489\n",
      "u_CRC_loc to d_CRC_loc: Min: 0.14967, Max: 0.22203, Average: 0.17207\n",
      "u_CRC_reg to d_CRC_reg: Min: 0.52255, Max: 0.69187, Average: 0.57189\n",
      "u_CRC_dis to d_CRC_dis: Min: 0.70639, Max: 0.97627, Average: 0.82908\n"
     ]
    },
    {
     "name": "stderr",
     "output_type": "stream",
     "text": [
      "Simulated annealing progress:  30%|███       | 302504/1000000 [2:01:55<6:31:39, 29.68iteration/s]"
     ]
    },
    {
     "name": "stdout",
     "output_type": "stream",
     "text": [
      "302500: Best Eval: 880.18858, CRC: 0.04906, Polyp: 0.18110, Tick: 35475\n"
     ]
    },
    {
     "name": "stderr",
     "output_type": "stream",
     "text": [
      "Simulated annealing progress:  31%|███       | 305007/1000000 [2:03:18<6:28:56, 29.78iteration/s]"
     ]
    },
    {
     "name": "stdout",
     "output_type": "stream",
     "text": [
      "305000: Best Eval: 880.18858, CRC: 0.04906, Polyp: 0.18110, Tick: 37975\n"
     ]
    },
    {
     "name": "stderr",
     "output_type": "stream",
     "text": [
      "Simulated annealing progress:  31%|███       | 307506/1000000 [2:04:42<6:04:18, 31.68iteration/s]"
     ]
    },
    {
     "name": "stdout",
     "output_type": "stream",
     "text": [
      "307500: Best Eval: 880.18858, CRC: 0.04906, Polyp: 0.18110, Tick: 40475\n"
     ]
    },
    {
     "name": "stderr",
     "output_type": "stream",
     "text": [
      "Simulated annealing progress:  31%|███       | 310005/1000000 [2:06:03<6:40:08, 28.74iteration/s]"
     ]
    },
    {
     "name": "stdout",
     "output_type": "stream",
     "text": [
      "310000: Best Eval: 880.18858, CRC: 0.04906, Polyp: 0.18110, Tick: 42975\n"
     ]
    },
    {
     "name": "stderr",
     "output_type": "stream",
     "text": [
      "Simulated annealing progress:  31%|███▏      | 312505/1000000 [2:07:23<6:25:32, 29.72iteration/s]"
     ]
    },
    {
     "name": "stdout",
     "output_type": "stream",
     "text": [
      "312500: Best Eval: 880.18858, CRC: 0.04906, Polyp: 0.18110, Tick: 45475\n"
     ]
    },
    {
     "name": "stderr",
     "output_type": "stream",
     "text": [
      "Simulated annealing progress:  32%|███▏      | 315006/1000000 [2:08:44<5:55:05, 32.15iteration/s]"
     ]
    },
    {
     "name": "stdout",
     "output_type": "stream",
     "text": [
      "315000: Best Eval: 880.18858, CRC: 0.04906, Polyp: 0.18110, Tick: 47975\n"
     ]
    },
    {
     "name": "stderr",
     "output_type": "stream",
     "text": [
      "Simulated annealing progress:  32%|███▏      | 317506/1000000 [2:10:05<5:56:46, 31.88iteration/s]"
     ]
    },
    {
     "name": "stdout",
     "output_type": "stream",
     "text": [
      "317500: Best Eval: 880.18858, CRC: 0.04906, Polyp: 0.18110, Tick: 50475\n"
     ]
    },
    {
     "name": "stderr",
     "output_type": "stream",
     "text": [
      "Simulated annealing progress:  32%|███▏      | 320003/1000000 [2:11:56<10:48:57, 17.46iteration/s]"
     ]
    },
    {
     "name": "stdout",
     "output_type": "stream",
     "text": [
      "320000: Best Eval: 880.18858, CRC: 0.04906, Polyp: 0.18110, Tick: 52975\n"
     ]
    },
    {
     "name": "stderr",
     "output_type": "stream",
     "text": [
      "Simulated annealing progress:  32%|███▏      | 322503/1000000 [2:14:35<11:09:47, 16.86iteration/s]"
     ]
    },
    {
     "name": "stdout",
     "output_type": "stream",
     "text": [
      "322500: Best Eval: 880.18858, CRC: 0.04906, Polyp: 0.18110, Tick: 55475\n"
     ]
    },
    {
     "name": "stderr",
     "output_type": "stream",
     "text": [
      "Simulated annealing progress:  33%|███▎      | 325004/1000000 [2:17:15<10:27:46, 17.92iteration/s]"
     ]
    },
    {
     "name": "stdout",
     "output_type": "stream",
     "text": [
      "325000: Best Eval: 880.18858, CRC: 0.04906, Polyp: 0.18110, Tick: 57975\n"
     ]
    },
    {
     "name": "stderr",
     "output_type": "stream",
     "text": [
      "Simulated annealing progress:  33%|███▎      | 327503/1000000 [2:19:50<13:08:08, 14.22iteration/s]"
     ]
    },
    {
     "name": "stdout",
     "output_type": "stream",
     "text": [
      "327500: Best Eval: 880.18858, CRC: 0.04906, Polyp: 0.18110, Tick: 60475\n"
     ]
    },
    {
     "name": "stderr",
     "output_type": "stream",
     "text": [
      "Simulated annealing progress:  33%|███▎      | 330003/1000000 [2:22:27<11:39:24, 15.97iteration/s]"
     ]
    },
    {
     "name": "stdout",
     "output_type": "stream",
     "text": [
      "330000: Best Eval: 880.18858, CRC: 0.04906, Polyp: 0.18110, Tick: 62975\n"
     ]
    },
    {
     "name": "stderr",
     "output_type": "stream",
     "text": [
      "Simulated annealing progress:  33%|███▎      | 332503/1000000 [2:25:00<10:51:25, 17.08iteration/s]"
     ]
    },
    {
     "name": "stdout",
     "output_type": "stream",
     "text": [
      "332500: Best Eval: 880.18858, CRC: 0.04906, Polyp: 0.18110, Tick: 65475\n"
     ]
    },
    {
     "name": "stderr",
     "output_type": "stream",
     "text": [
      "Simulated annealing progress:  34%|███▎      | 335004/1000000 [2:27:42<11:34:08, 15.97iteration/s]"
     ]
    },
    {
     "name": "stdout",
     "output_type": "stream",
     "text": [
      "335000: Best Eval: 880.18858, CRC: 0.04906, Polyp: 0.18110, Tick: 67975\n"
     ]
    },
    {
     "name": "stderr",
     "output_type": "stream",
     "text": [
      "Simulated annealing progress:  34%|███▍      | 337503/1000000 [2:30:25<11:53:59, 15.46iteration/s]"
     ]
    },
    {
     "name": "stdout",
     "output_type": "stream",
     "text": [
      "337500: Best Eval: 880.18858, CRC: 0.04906, Polyp: 0.18110, Tick: 70475\n"
     ]
    },
    {
     "name": "stderr",
     "output_type": "stream",
     "text": [
      "Simulated annealing progress:  34%|███▍      | 340004/1000000 [2:33:09<12:26:35, 14.73iteration/s]"
     ]
    },
    {
     "name": "stdout",
     "output_type": "stream",
     "text": [
      "340000: Best Eval: 880.18858, CRC: 0.04906, Polyp: 0.18110, Tick: 72975\n"
     ]
    },
    {
     "name": "stderr",
     "output_type": "stream",
     "text": [
      "Simulated annealing progress:  34%|███▍      | 342503/1000000 [2:35:50<11:34:42, 15.77iteration/s]"
     ]
    },
    {
     "name": "stdout",
     "output_type": "stream",
     "text": [
      "342500: Best Eval: 880.18858, CRC: 0.04906, Polyp: 0.18110, Tick: 75475\n"
     ]
    },
    {
     "name": "stderr",
     "output_type": "stream",
     "text": [
      "Simulated annealing progress:  35%|███▍      | 345003/1000000 [2:38:28<11:57:12, 15.22iteration/s]"
     ]
    },
    {
     "name": "stdout",
     "output_type": "stream",
     "text": [
      "345000: Best Eval: 880.18858, CRC: 0.04906, Polyp: 0.18110, Tick: 77975\n"
     ]
    },
    {
     "name": "stderr",
     "output_type": "stream",
     "text": [
      "Simulated annealing progress:  35%|███▍      | 347506/1000000 [2:39:57<5:45:11, 31.50iteration/s] "
     ]
    },
    {
     "name": "stdout",
     "output_type": "stream",
     "text": [
      "347500: Best Eval: 880.18858, CRC: 0.04906, Polyp: 0.18110, Tick: 80475\n"
     ]
    },
    {
     "name": "stderr",
     "output_type": "stream",
     "text": [
      "Simulated annealing progress:  35%|███▌      | 350004/1000000 [2:41:18<5:54:51, 30.53iteration/s]"
     ]
    },
    {
     "name": "stdout",
     "output_type": "stream",
     "text": [
      "350000: Best Eval: 880.18858, CRC: 0.04906, Polyp: 0.18110, Tick: 82975\n",
      "Detailed Progress Report, Iteration = 350000\n",
      "Monthly transition probabilities\n",
      "healthy to LR_polyp: Min: 0.00042, Max: 0.00102, Average: 0.00082\n",
      "LR_polyp to HR_polyp: Min: 0.00042, Max: 0.00214, Average: 0.00142\n",
      "HR_polyp to u_CRC_loc: Min: 0.00119, Max: 0.00244, Average: 0.00181\n",
      "u_CRC_loc to u_CRC_reg: Min: 0.02028, Max: 0.05695, Average: 0.03224\n",
      "u_CRC_reg to u_CRC_dis: Min: 0.02943, Max: 0.06406, Average: 0.04165\n",
      "u_CRC_loc to d_CRC_loc: Min: 0.01342, Max: 0.02070, Average: 0.01564\n",
      "u_CRC_reg to d_CRC_reg: Min: 0.05975, Max: 0.09344, Average: 0.06889\n",
      "u_CRC_dis to d_CRC_dis: Min: 0.09708, Max: 0.26783, Average: 0.15377\n",
      "\n",
      "Annual transition probabilities\n",
      "healthy to LR_polyp: Min: 0.00499, Max: 0.01221, Average: 0.00979\n",
      "LR_polyp to HR_polyp: Min: 0.00506, Max: 0.02537, Average: 0.01684\n",
      "HR_polyp to u_CRC_loc: Min: 0.01423, Max: 0.02886, Average: 0.02144\n",
      "u_CRC_loc to u_CRC_reg: Min: 0.21795, Max: 0.50519, Average: 0.31831\n",
      "u_CRC_reg to u_CRC_dis: Min: 0.30123, Max: 0.54818, Average: 0.39489\n",
      "u_CRC_loc to d_CRC_loc: Min: 0.14967, Max: 0.22203, Average: 0.17207\n",
      "u_CRC_reg to d_CRC_reg: Min: 0.52255, Max: 0.69187, Average: 0.57189\n",
      "u_CRC_dis to d_CRC_dis: Min: 0.70639, Max: 0.97627, Average: 0.82908\n"
     ]
    },
    {
     "name": "stderr",
     "output_type": "stream",
     "text": [
      "Simulated annealing progress:  35%|███▌      | 352507/1000000 [2:42:39<5:41:27, 31.60iteration/s]"
     ]
    },
    {
     "name": "stdout",
     "output_type": "stream",
     "text": [
      "352500: Best Eval: 880.18858, CRC: 0.04906, Polyp: 0.18110, Tick: 85475\n"
     ]
    },
    {
     "name": "stderr",
     "output_type": "stream",
     "text": [
      "Simulated annealing progress:  36%|███▌      | 355005/1000000 [2:44:02<5:33:23, 32.24iteration/s]"
     ]
    },
    {
     "name": "stdout",
     "output_type": "stream",
     "text": [
      "355000: Best Eval: 880.18858, CRC: 0.04906, Polyp: 0.18110, Tick: 87975\n"
     ]
    },
    {
     "name": "stderr",
     "output_type": "stream",
     "text": [
      "Simulated annealing progress:  36%|███▌      | 357507/1000000 [2:45:23<5:47:51, 30.78iteration/s]"
     ]
    },
    {
     "name": "stdout",
     "output_type": "stream",
     "text": [
      "357500: Best Eval: 880.18858, CRC: 0.04906, Polyp: 0.18110, Tick: 90475\n"
     ]
    },
    {
     "name": "stderr",
     "output_type": "stream",
     "text": [
      "Simulated annealing progress:  36%|███▌      | 360005/1000000 [2:46:46<5:34:44, 31.87iteration/s]"
     ]
    },
    {
     "name": "stdout",
     "output_type": "stream",
     "text": [
      "360000: Best Eval: 880.18858, CRC: 0.04906, Polyp: 0.18110, Tick: 92975\n"
     ]
    },
    {
     "name": "stderr",
     "output_type": "stream",
     "text": [
      "Simulated annealing progress:  36%|███▋      | 362507/1000000 [2:48:06<5:32:37, 31.94iteration/s]"
     ]
    },
    {
     "name": "stdout",
     "output_type": "stream",
     "text": [
      "362500: Best Eval: 880.18858, CRC: 0.04906, Polyp: 0.18110, Tick: 95475\n"
     ]
    },
    {
     "name": "stderr",
     "output_type": "stream",
     "text": [
      "Simulated annealing progress:  37%|███▋      | 365005/1000000 [2:49:26<5:46:37, 30.53iteration/s]"
     ]
    },
    {
     "name": "stdout",
     "output_type": "stream",
     "text": [
      "365000: Best Eval: 880.18858, CRC: 0.04906, Polyp: 0.18110, Tick: 97975\n"
     ]
    },
    {
     "name": "stderr",
     "output_type": "stream",
     "text": [
      "Simulated annealing progress:  37%|███▋      | 367505/1000000 [2:50:47<5:30:21, 31.91iteration/s]"
     ]
    },
    {
     "name": "stdout",
     "output_type": "stream",
     "text": [
      "367500: Best Eval: 880.18858, CRC: 0.04906, Polyp: 0.18110, Tick: 100475\n"
     ]
    },
    {
     "name": "stderr",
     "output_type": "stream",
     "text": [
      "Simulated annealing progress:  37%|███▋      | 370005/1000000 [2:52:19<7:08:03, 24.53iteration/s] "
     ]
    },
    {
     "name": "stdout",
     "output_type": "stream",
     "text": [
      "370000: Best Eval: 880.18858, CRC: 0.04906, Polyp: 0.18110, Tick: 102975\n"
     ]
    },
    {
     "name": "stderr",
     "output_type": "stream",
     "text": [
      "Simulated annealing progress:  37%|███▋      | 372505/1000000 [2:53:51<6:39:27, 26.18iteration/s] "
     ]
    },
    {
     "name": "stdout",
     "output_type": "stream",
     "text": [
      "372500: Best Eval: 880.18858, CRC: 0.04906, Polyp: 0.18110, Tick: 105475\n"
     ]
    },
    {
     "name": "stderr",
     "output_type": "stream",
     "text": [
      "Simulated annealing progress:  38%|███▊      | 375025/1000000 [2:54:22<1:33:25, 111.49iteration/s]"
     ]
    },
    {
     "name": "stdout",
     "output_type": "stream",
     "text": [
      "375000: Best Eval: 880.18858, CRC: 0.04906, Polyp: 0.18110, Tick: 107975\n"
     ]
    },
    {
     "name": "stderr",
     "output_type": "stream",
     "text": [
      "Simulated annealing progress:  38%|███▊      | 377524/1000000 [2:54:49<1:34:22, 109.93iteration/s]"
     ]
    },
    {
     "name": "stdout",
     "output_type": "stream",
     "text": [
      "377500: Best Eval: 880.18858, CRC: 0.04906, Polyp: 0.18110, Tick: 110475\n"
     ]
    },
    {
     "name": "stderr",
     "output_type": "stream",
     "text": [
      "Simulated annealing progress:  38%|███▊      | 380011/1000000 [2:55:20<1:32:44, 111.43iteration/s]"
     ]
    },
    {
     "name": "stdout",
     "output_type": "stream",
     "text": [
      "380000: Best Eval: 880.18858, CRC: 0.04906, Polyp: 0.18110, Tick: 112975\n"
     ]
    },
    {
     "name": "stderr",
     "output_type": "stream",
     "text": [
      "Simulated annealing progress:  38%|███▊      | 382504/1000000 [2:55:48<2:56:57, 58.16iteration/s] "
     ]
    },
    {
     "name": "stdout",
     "output_type": "stream",
     "text": [
      "382500: Best Eval: 880.18858, CRC: 0.04906, Polyp: 0.18110, Tick: 115475\n"
     ]
    },
    {
     "name": "stderr",
     "output_type": "stream",
     "text": [
      "Simulated annealing progress:  39%|███▊      | 385002/1000000 [2:57:37<8:31:30, 20.04iteration/s] "
     ]
    },
    {
     "name": "stdout",
     "output_type": "stream",
     "text": [
      "385000: Best Eval: 880.18858, CRC: 0.04906, Polyp: 0.18110, Tick: 117975\n"
     ]
    },
    {
     "name": "stderr",
     "output_type": "stream",
     "text": [
      "Simulated annealing progress:  39%|███▉      | 387504/1000000 [2:59:42<7:52:24, 21.61iteration/s] "
     ]
    },
    {
     "name": "stdout",
     "output_type": "stream",
     "text": [
      "387500: Best Eval: 880.18858, CRC: 0.04906, Polyp: 0.18110, Tick: 120475\n"
     ]
    },
    {
     "name": "stderr",
     "output_type": "stream",
     "text": [
      "Simulated annealing progress:  39%|███▉      | 390004/1000000 [3:01:25<7:51:23, 21.57iteration/s]"
     ]
    },
    {
     "name": "stdout",
     "output_type": "stream",
     "text": [
      "390000: Best Eval: 880.18858, CRC: 0.04906, Polyp: 0.18110, Tick: 122975\n"
     ]
    },
    {
     "name": "stderr",
     "output_type": "stream",
     "text": [
      "Simulated annealing progress:  39%|███▉      | 392503/1000000 [3:03:20<7:12:34, 23.41iteration/s] "
     ]
    },
    {
     "name": "stdout",
     "output_type": "stream",
     "text": [
      "392500: Best Eval: 880.18858, CRC: 0.04906, Polyp: 0.18110, Tick: 125475\n"
     ]
    },
    {
     "name": "stderr",
     "output_type": "stream",
     "text": [
      "Simulated annealing progress:  40%|███▉      | 395005/1000000 [3:05:15<7:52:41, 21.33iteration/s] "
     ]
    },
    {
     "name": "stdout",
     "output_type": "stream",
     "text": [
      "395000: Best Eval: 880.18858, CRC: 0.04906, Polyp: 0.18110, Tick: 127975\n"
     ]
    },
    {
     "name": "stderr",
     "output_type": "stream",
     "text": [
      "Simulated annealing progress:  40%|███▉      | 397506/1000000 [3:07:12<6:33:58, 25.49iteration/s] "
     ]
    },
    {
     "name": "stdout",
     "output_type": "stream",
     "text": [
      "397500: Best Eval: 880.18858, CRC: 0.04906, Polyp: 0.18110, Tick: 130475\n"
     ]
    },
    {
     "name": "stderr",
     "output_type": "stream",
     "text": [
      "Simulated annealing progress:  40%|████      | 400003/1000000 [3:09:05<7:35:41, 21.94iteration/s] "
     ]
    },
    {
     "name": "stdout",
     "output_type": "stream",
     "text": [
      "400000: Best Eval: 880.18858, CRC: 0.04906, Polyp: 0.18110, Tick: 132975\n",
      "Detailed Progress Report, Iteration = 400000\n",
      "Monthly transition probabilities\n",
      "healthy to LR_polyp: Min: 0.00042, Max: 0.00102, Average: 0.00082\n",
      "LR_polyp to HR_polyp: Min: 0.00042, Max: 0.00214, Average: 0.00142\n",
      "HR_polyp to u_CRC_loc: Min: 0.00119, Max: 0.00244, Average: 0.00181\n",
      "u_CRC_loc to u_CRC_reg: Min: 0.02028, Max: 0.05695, Average: 0.03224\n",
      "u_CRC_reg to u_CRC_dis: Min: 0.02943, Max: 0.06406, Average: 0.04165\n",
      "u_CRC_loc to d_CRC_loc: Min: 0.01342, Max: 0.02070, Average: 0.01564\n",
      "u_CRC_reg to d_CRC_reg: Min: 0.05975, Max: 0.09344, Average: 0.06889\n",
      "u_CRC_dis to d_CRC_dis: Min: 0.09708, Max: 0.26783, Average: 0.15377\n",
      "\n",
      "Annual transition probabilities\n",
      "healthy to LR_polyp: Min: 0.00499, Max: 0.01221, Average: 0.00979\n",
      "LR_polyp to HR_polyp: Min: 0.00506, Max: 0.02537, Average: 0.01684\n",
      "HR_polyp to u_CRC_loc: Min: 0.01423, Max: 0.02886, Average: 0.02144\n",
      "u_CRC_loc to u_CRC_reg: Min: 0.21795, Max: 0.50519, Average: 0.31831\n",
      "u_CRC_reg to u_CRC_dis: Min: 0.30123, Max: 0.54818, Average: 0.39489\n",
      "u_CRC_loc to d_CRC_loc: Min: 0.14967, Max: 0.22203, Average: 0.17207\n",
      "u_CRC_reg to d_CRC_reg: Min: 0.52255, Max: 0.69187, Average: 0.57189\n",
      "u_CRC_dis to d_CRC_dis: Min: 0.70639, Max: 0.97627, Average: 0.82908\n"
     ]
    },
    {
     "name": "stderr",
     "output_type": "stream",
     "text": [
      "Simulated annealing progress:  40%|████      | 402508/1000000 [3:11:40<5:12:05, 31.91iteration/s] "
     ]
    },
    {
     "name": "stdout",
     "output_type": "stream",
     "text": [
      "402500: Best Eval: 880.18858, CRC: 0.04906, Polyp: 0.18110, Tick: 135475\n"
     ]
    },
    {
     "name": "stderr",
     "output_type": "stream",
     "text": [
      "Simulated annealing progress:  41%|████      | 405002/1000000 [3:15:16<13:09:25, 12.56iteration/s]"
     ]
    },
    {
     "name": "stdout",
     "output_type": "stream",
     "text": [
      "405000: Best Eval: 880.18858, CRC: 0.04906, Polyp: 0.18110, Tick: 137975\n"
     ]
    },
    {
     "name": "stderr",
     "output_type": "stream",
     "text": [
      "Simulated annealing progress:  41%|████      | 407506/1000000 [3:18:11<6:09:54, 26.70iteration/s] "
     ]
    },
    {
     "name": "stdout",
     "output_type": "stream",
     "text": [
      "407500: Best Eval: 880.18858, CRC: 0.04906, Polyp: 0.18110, Tick: 140475\n"
     ]
    },
    {
     "name": "stderr",
     "output_type": "stream",
     "text": [
      "Simulated annealing progress:  41%|████      | 410005/1000000 [3:19:57<6:56:23, 23.62iteration/s]"
     ]
    },
    {
     "name": "stdout",
     "output_type": "stream",
     "text": [
      "410000: Best Eval: 880.18858, CRC: 0.04906, Polyp: 0.18110, Tick: 142975\n"
     ]
    },
    {
     "name": "stderr",
     "output_type": "stream",
     "text": [
      "Simulated annealing progress:  41%|████▏     | 412503/1000000 [3:21:46<8:12:22, 19.89iteration/s]"
     ]
    },
    {
     "name": "stdout",
     "output_type": "stream",
     "text": [
      "412500: Best Eval: 880.18858, CRC: 0.04906, Polyp: 0.18110, Tick: 145475\n"
     ]
    },
    {
     "name": "stderr",
     "output_type": "stream",
     "text": [
      "Simulated annealing progress:  42%|████▏     | 415004/1000000 [3:23:36<6:53:45, 23.56iteration/s]"
     ]
    },
    {
     "name": "stdout",
     "output_type": "stream",
     "text": [
      "415000: Best Eval: 880.18858, CRC: 0.04906, Polyp: 0.18110, Tick: 147975\n"
     ]
    },
    {
     "name": "stderr",
     "output_type": "stream",
     "text": [
      "Simulated annealing progress:  42%|████▏     | 417505/1000000 [3:25:23<6:42:07, 24.14iteration/s]"
     ]
    },
    {
     "name": "stdout",
     "output_type": "stream",
     "text": [
      "417500: Best Eval: 880.18858, CRC: 0.04906, Polyp: 0.18110, Tick: 150475\n"
     ]
    },
    {
     "name": "stderr",
     "output_type": "stream",
     "text": [
      "Simulated annealing progress:  42%|████▏     | 420004/1000000 [3:27:11<7:20:06, 21.96iteration/s] "
     ]
    },
    {
     "name": "stdout",
     "output_type": "stream",
     "text": [
      "420000: Best Eval: 880.18858, CRC: 0.04906, Polyp: 0.18110, Tick: 152975\n"
     ]
    },
    {
     "name": "stderr",
     "output_type": "stream",
     "text": [
      "Simulated annealing progress:  42%|████▏     | 422503/1000000 [3:28:56<7:06:18, 22.58iteration/s]"
     ]
    },
    {
     "name": "stdout",
     "output_type": "stream",
     "text": [
      "422500: Best Eval: 880.18858, CRC: 0.04906, Polyp: 0.18110, Tick: 155475\n"
     ]
    },
    {
     "name": "stderr",
     "output_type": "stream",
     "text": [
      "Simulated annealing progress:  43%|████▎     | 425005/1000000 [3:30:40<6:40:24, 23.93iteration/s]"
     ]
    },
    {
     "name": "stdout",
     "output_type": "stream",
     "text": [
      "425000: Best Eval: 880.18858, CRC: 0.04906, Polyp: 0.18110, Tick: 157975\n"
     ]
    },
    {
     "name": "stderr",
     "output_type": "stream",
     "text": [
      "Simulated annealing progress:  43%|████▎     | 427503/1000000 [3:32:25<6:09:46, 25.80iteration/s]"
     ]
    },
    {
     "name": "stdout",
     "output_type": "stream",
     "text": [
      "427500: Best Eval: 880.18858, CRC: 0.04906, Polyp: 0.18110, Tick: 160475\n"
     ]
    },
    {
     "name": "stderr",
     "output_type": "stream",
     "text": [
      "Simulated annealing progress:  43%|████▎     | 430006/1000000 [3:34:12<6:39:25, 23.78iteration/s] "
     ]
    },
    {
     "name": "stdout",
     "output_type": "stream",
     "text": [
      "430000: Best Eval: 880.18858, CRC: 0.04906, Polyp: 0.18110, Tick: 162975\n"
     ]
    },
    {
     "name": "stderr",
     "output_type": "stream",
     "text": [
      "Simulated annealing progress:  43%|████▎     | 432503/1000000 [3:35:58<6:34:01, 24.00iteration/s]"
     ]
    },
    {
     "name": "stdout",
     "output_type": "stream",
     "text": [
      "432500: Best Eval: 880.18858, CRC: 0.04906, Polyp: 0.18110, Tick: 165475\n"
     ]
    },
    {
     "name": "stderr",
     "output_type": "stream",
     "text": [
      "Simulated annealing progress:  44%|████▎     | 435004/1000000 [3:37:46<6:51:01, 22.91iteration/s] "
     ]
    },
    {
     "name": "stdout",
     "output_type": "stream",
     "text": [
      "435000: Best Eval: 880.18858, CRC: 0.04906, Polyp: 0.18110, Tick: 167975\n"
     ]
    },
    {
     "name": "stderr",
     "output_type": "stream",
     "text": [
      "Simulated annealing progress:  44%|████▍     | 437504/1000000 [3:39:31<7:21:55, 21.21iteration/s]"
     ]
    },
    {
     "name": "stdout",
     "output_type": "stream",
     "text": [
      "437500: Best Eval: 880.18858, CRC: 0.04906, Polyp: 0.18110, Tick: 170475\n"
     ]
    },
    {
     "name": "stderr",
     "output_type": "stream",
     "text": [
      "Simulated annealing progress:  44%|████▍     | 440004/1000000 [3:41:17<6:30:23, 23.91iteration/s]"
     ]
    },
    {
     "name": "stdout",
     "output_type": "stream",
     "text": [
      "440000: Best Eval: 880.18858, CRC: 0.04906, Polyp: 0.18110, Tick: 172975\n"
     ]
    },
    {
     "name": "stderr",
     "output_type": "stream",
     "text": [
      "Simulated annealing progress:  44%|████▍     | 442506/1000000 [3:43:00<6:22:07, 24.32iteration/s]"
     ]
    },
    {
     "name": "stdout",
     "output_type": "stream",
     "text": [
      "442500: Best Eval: 880.18858, CRC: 0.04906, Polyp: 0.18110, Tick: 175475\n"
     ]
    },
    {
     "name": "stderr",
     "output_type": "stream",
     "text": [
      "Simulated annealing progress:  45%|████▍     | 445006/1000000 [3:44:42<6:09:57, 25.00iteration/s]"
     ]
    },
    {
     "name": "stdout",
     "output_type": "stream",
     "text": [
      "445000: Best Eval: 880.18858, CRC: 0.04906, Polyp: 0.18110, Tick: 177975\n"
     ]
    },
    {
     "name": "stderr",
     "output_type": "stream",
     "text": [
      "Simulated annealing progress:  45%|████▍     | 447504/1000000 [3:46:25<6:16:14, 24.47iteration/s]"
     ]
    },
    {
     "name": "stdout",
     "output_type": "stream",
     "text": [
      "447500: Best Eval: 880.18858, CRC: 0.04906, Polyp: 0.18110, Tick: 180475\n"
     ]
    },
    {
     "name": "stderr",
     "output_type": "stream",
     "text": [
      "Simulated annealing progress:  45%|████▌     | 450004/1000000 [3:48:09<6:16:43, 24.33iteration/s]"
     ]
    },
    {
     "name": "stdout",
     "output_type": "stream",
     "text": [
      "450000: Best Eval: 880.18858, CRC: 0.04906, Polyp: 0.18110, Tick: 182975\n",
      "Detailed Progress Report, Iteration = 450000\n",
      "Monthly transition probabilities\n",
      "healthy to LR_polyp: Min: 0.00042, Max: 0.00102, Average: 0.00082\n",
      "LR_polyp to HR_polyp: Min: 0.00042, Max: 0.00214, Average: 0.00142\n",
      "HR_polyp to u_CRC_loc: Min: 0.00119, Max: 0.00244, Average: 0.00181\n",
      "u_CRC_loc to u_CRC_reg: Min: 0.02028, Max: 0.05695, Average: 0.03224\n",
      "u_CRC_reg to u_CRC_dis: Min: 0.02943, Max: 0.06406, Average: 0.04165\n",
      "u_CRC_loc to d_CRC_loc: Min: 0.01342, Max: 0.02070, Average: 0.01564\n",
      "u_CRC_reg to d_CRC_reg: Min: 0.05975, Max: 0.09344, Average: 0.06889\n",
      "u_CRC_dis to d_CRC_dis: Min: 0.09708, Max: 0.26783, Average: 0.15377\n",
      "\n",
      "Annual transition probabilities\n",
      "healthy to LR_polyp: Min: 0.00499, Max: 0.01221, Average: 0.00979\n",
      "LR_polyp to HR_polyp: Min: 0.00506, Max: 0.02537, Average: 0.01684\n",
      "HR_polyp to u_CRC_loc: Min: 0.01423, Max: 0.02886, Average: 0.02144\n",
      "u_CRC_loc to u_CRC_reg: Min: 0.21795, Max: 0.50519, Average: 0.31831\n",
      "u_CRC_reg to u_CRC_dis: Min: 0.30123, Max: 0.54818, Average: 0.39489\n",
      "u_CRC_loc to d_CRC_loc: Min: 0.14967, Max: 0.22203, Average: 0.17207\n",
      "u_CRC_reg to d_CRC_reg: Min: 0.52255, Max: 0.69187, Average: 0.57189\n",
      "u_CRC_dis to d_CRC_dis: Min: 0.70639, Max: 0.97627, Average: 0.82908\n"
     ]
    },
    {
     "name": "stderr",
     "output_type": "stream",
     "text": [
      "Simulated annealing progress:  45%|████▌     | 452504/1000000 [3:49:55<6:38:50, 22.88iteration/s]"
     ]
    },
    {
     "name": "stdout",
     "output_type": "stream",
     "text": [
      "452500: Best Eval: 880.18858, CRC: 0.04906, Polyp: 0.18110, Tick: 185475\n"
     ]
    },
    {
     "name": "stderr",
     "output_type": "stream",
     "text": [
      "Simulated annealing progress:  46%|████▌     | 455004/1000000 [3:51:40<6:13:24, 24.33iteration/s]"
     ]
    },
    {
     "name": "stdout",
     "output_type": "stream",
     "text": [
      "455000: Best Eval: 880.18858, CRC: 0.04906, Polyp: 0.18110, Tick: 187975\n"
     ]
    },
    {
     "name": "stderr",
     "output_type": "stream",
     "text": [
      "Simulated annealing progress:  46%|████▌     | 457506/1000000 [3:53:24<6:02:07, 24.97iteration/s]"
     ]
    },
    {
     "name": "stdout",
     "output_type": "stream",
     "text": [
      "457500: Best Eval: 880.18858, CRC: 0.04906, Polyp: 0.18110, Tick: 190475\n"
     ]
    },
    {
     "name": "stderr",
     "output_type": "stream",
     "text": [
      "Simulated annealing progress:  46%|████▌     | 460004/1000000 [3:55:07<5:39:43, 26.49iteration/s]"
     ]
    },
    {
     "name": "stdout",
     "output_type": "stream",
     "text": [
      "460000: Best Eval: 880.18858, CRC: 0.04906, Polyp: 0.18110, Tick: 192975\n"
     ]
    },
    {
     "name": "stderr",
     "output_type": "stream",
     "text": [
      "Simulated annealing progress:  46%|████▋     | 462503/1000000 [3:56:53<6:39:09, 22.44iteration/s]"
     ]
    },
    {
     "name": "stdout",
     "output_type": "stream",
     "text": [
      "462500: Best Eval: 880.18858, CRC: 0.04906, Polyp: 0.18110, Tick: 195475\n"
     ]
    },
    {
     "name": "stderr",
     "output_type": "stream",
     "text": [
      "Simulated annealing progress:  47%|████▋     | 465003/1000000 [3:58:39<6:30:10, 22.85iteration/s]"
     ]
    },
    {
     "name": "stdout",
     "output_type": "stream",
     "text": [
      "465000: Best Eval: 880.18858, CRC: 0.04906, Polyp: 0.18110, Tick: 197975\n"
     ]
    },
    {
     "name": "stderr",
     "output_type": "stream",
     "text": [
      "Simulated annealing progress:  47%|████▋     | 467504/1000000 [4:00:26<6:07:36, 24.14iteration/s]"
     ]
    },
    {
     "name": "stdout",
     "output_type": "stream",
     "text": [
      "467500: Best Eval: 880.18858, CRC: 0.04906, Polyp: 0.18110, Tick: 200475\n"
     ]
    },
    {
     "name": "stderr",
     "output_type": "stream",
     "text": [
      "Simulated annealing progress:  47%|████▋     | 470005/1000000 [4:02:12<6:43:34, 21.89iteration/s]"
     ]
    },
    {
     "name": "stdout",
     "output_type": "stream",
     "text": [
      "470000: Best Eval: 880.18858, CRC: 0.04906, Polyp: 0.18110, Tick: 202975\n"
     ]
    },
    {
     "name": "stderr",
     "output_type": "stream",
     "text": [
      "Simulated annealing progress:  47%|████▋     | 472506/1000000 [4:03:56<6:18:21, 23.24iteration/s]"
     ]
    },
    {
     "name": "stdout",
     "output_type": "stream",
     "text": [
      "472500: Best Eval: 880.18858, CRC: 0.04906, Polyp: 0.18110, Tick: 205475\n"
     ]
    },
    {
     "name": "stderr",
     "output_type": "stream",
     "text": [
      "Simulated annealing progress:  48%|████▊     | 475005/1000000 [4:05:41<5:53:41, 24.74iteration/s]"
     ]
    },
    {
     "name": "stdout",
     "output_type": "stream",
     "text": [
      "475000: Best Eval: 880.18858, CRC: 0.04906, Polyp: 0.18110, Tick: 207975\n"
     ]
    },
    {
     "name": "stderr",
     "output_type": "stream",
     "text": [
      "Simulated annealing progress:  48%|████▊     | 477505/1000000 [4:07:26<6:06:48, 23.74iteration/s]"
     ]
    },
    {
     "name": "stdout",
     "output_type": "stream",
     "text": [
      "477500: Best Eval: 880.18858, CRC: 0.04906, Polyp: 0.18110, Tick: 210475\n"
     ]
    },
    {
     "name": "stderr",
     "output_type": "stream",
     "text": [
      "Simulated annealing progress:  48%|████▊     | 480005/1000000 [4:09:09<6:02:51, 23.88iteration/s]"
     ]
    },
    {
     "name": "stdout",
     "output_type": "stream",
     "text": [
      "480000: Best Eval: 880.18858, CRC: 0.04906, Polyp: 0.18110, Tick: 212975\n"
     ]
    },
    {
     "name": "stderr",
     "output_type": "stream",
     "text": [
      "Simulated annealing progress:  48%|████▊     | 482504/1000000 [4:10:54<6:11:44, 23.20iteration/s]"
     ]
    },
    {
     "name": "stdout",
     "output_type": "stream",
     "text": [
      "482500: Best Eval: 880.18858, CRC: 0.04906, Polyp: 0.18110, Tick: 215475\n"
     ]
    },
    {
     "name": "stderr",
     "output_type": "stream",
     "text": [
      "Simulated annealing progress:  49%|████▊     | 485003/1000000 [4:12:38<6:18:17, 22.69iteration/s]"
     ]
    },
    {
     "name": "stdout",
     "output_type": "stream",
     "text": [
      "485000: Best Eval: 880.18858, CRC: 0.04906, Polyp: 0.18110, Tick: 217975\n"
     ]
    },
    {
     "name": "stderr",
     "output_type": "stream",
     "text": [
      "Simulated annealing progress:  49%|████▉     | 487505/1000000 [4:14:24<5:53:26, 24.17iteration/s]"
     ]
    },
    {
     "name": "stdout",
     "output_type": "stream",
     "text": [
      "487500: Best Eval: 880.18858, CRC: 0.04906, Polyp: 0.18110, Tick: 220475\n"
     ]
    },
    {
     "name": "stderr",
     "output_type": "stream",
     "text": [
      "Simulated annealing progress:  49%|████▉     | 490005/1000000 [4:16:09<5:54:28, 23.98iteration/s]"
     ]
    },
    {
     "name": "stdout",
     "output_type": "stream",
     "text": [
      "490000: Best Eval: 880.18858, CRC: 0.04906, Polyp: 0.18110, Tick: 222975\n"
     ]
    },
    {
     "name": "stderr",
     "output_type": "stream",
     "text": [
      "Simulated annealing progress:  49%|████▉     | 492504/1000000 [4:17:53<6:01:25, 23.40iteration/s]"
     ]
    },
    {
     "name": "stdout",
     "output_type": "stream",
     "text": [
      "492500: Best Eval: 880.18858, CRC: 0.04906, Polyp: 0.18110, Tick: 225475\n"
     ]
    },
    {
     "name": "stderr",
     "output_type": "stream",
     "text": [
      "Simulated annealing progress:  50%|████▉     | 495004/1000000 [4:19:37<5:37:44, 24.92iteration/s]"
     ]
    },
    {
     "name": "stdout",
     "output_type": "stream",
     "text": [
      "495000: Best Eval: 880.18858, CRC: 0.04906, Polyp: 0.18110, Tick: 227975\n"
     ]
    },
    {
     "name": "stderr",
     "output_type": "stream",
     "text": [
      "Simulated annealing progress:  50%|████▉     | 497503/1000000 [4:21:24<5:56:57, 23.46iteration/s] "
     ]
    },
    {
     "name": "stdout",
     "output_type": "stream",
     "text": [
      "497500: Best Eval: 880.18858, CRC: 0.04906, Polyp: 0.18110, Tick: 230475\n"
     ]
    },
    {
     "name": "stderr",
     "output_type": "stream",
     "text": [
      "Simulated annealing progress:  50%|█████     | 500004/1000000 [4:23:10<5:46:37, 24.04iteration/s]"
     ]
    },
    {
     "name": "stdout",
     "output_type": "stream",
     "text": [
      "500000: Best Eval: 880.18858, CRC: 0.04906, Polyp: 0.18110, Tick: 232975\n",
      "Detailed Progress Report, Iteration = 500000\n",
      "Monthly transition probabilities\n",
      "healthy to LR_polyp: Min: 0.00042, Max: 0.00102, Average: 0.00082\n",
      "LR_polyp to HR_polyp: Min: 0.00042, Max: 0.00214, Average: 0.00142\n",
      "HR_polyp to u_CRC_loc: Min: 0.00119, Max: 0.00244, Average: 0.00181\n",
      "u_CRC_loc to u_CRC_reg: Min: 0.02028, Max: 0.05695, Average: 0.03224\n",
      "u_CRC_reg to u_CRC_dis: Min: 0.02943, Max: 0.06406, Average: 0.04165\n",
      "u_CRC_loc to d_CRC_loc: Min: 0.01342, Max: 0.02070, Average: 0.01564\n",
      "u_CRC_reg to d_CRC_reg: Min: 0.05975, Max: 0.09344, Average: 0.06889\n",
      "u_CRC_dis to d_CRC_dis: Min: 0.09708, Max: 0.26783, Average: 0.15377\n",
      "\n",
      "Annual transition probabilities\n",
      "healthy to LR_polyp: Min: 0.00499, Max: 0.01221, Average: 0.00979\n",
      "LR_polyp to HR_polyp: Min: 0.00506, Max: 0.02537, Average: 0.01684\n",
      "HR_polyp to u_CRC_loc: Min: 0.01423, Max: 0.02886, Average: 0.02144\n",
      "u_CRC_loc to u_CRC_reg: Min: 0.21795, Max: 0.50519, Average: 0.31831\n",
      "u_CRC_reg to u_CRC_dis: Min: 0.30123, Max: 0.54818, Average: 0.39489\n",
      "u_CRC_loc to d_CRC_loc: Min: 0.14967, Max: 0.22203, Average: 0.17207\n",
      "u_CRC_reg to d_CRC_reg: Min: 0.52255, Max: 0.69187, Average: 0.57189\n",
      "u_CRC_dis to d_CRC_dis: Min: 0.70639, Max: 0.97627, Average: 0.82908\n"
     ]
    },
    {
     "name": "stderr",
     "output_type": "stream",
     "text": [
      "Simulated annealing progress:  50%|█████     | 502505/1000000 [4:24:55<5:57:14, 23.21iteration/s]"
     ]
    },
    {
     "name": "stdout",
     "output_type": "stream",
     "text": [
      "502500: Best Eval: 880.18858, CRC: 0.04906, Polyp: 0.18110, Tick: 235475\n"
     ]
    },
    {
     "name": "stderr",
     "output_type": "stream",
     "text": [
      "Simulated annealing progress:  51%|█████     | 505006/1000000 [4:26:41<5:41:29, 24.16iteration/s]"
     ]
    },
    {
     "name": "stdout",
     "output_type": "stream",
     "text": [
      "505000: Best Eval: 880.18858, CRC: 0.04906, Polyp: 0.18110, Tick: 237975\n"
     ]
    },
    {
     "name": "stderr",
     "output_type": "stream",
     "text": [
      "Simulated annealing progress:  51%|█████     | 507506/1000000 [4:28:26<5:22:57, 25.42iteration/s]"
     ]
    },
    {
     "name": "stdout",
     "output_type": "stream",
     "text": [
      "507500: Best Eval: 880.18858, CRC: 0.04906, Polyp: 0.18110, Tick: 240475\n"
     ]
    },
    {
     "name": "stderr",
     "output_type": "stream",
     "text": [
      "Simulated annealing progress:  51%|█████     | 510003/1000000 [4:30:10<5:33:10, 24.51iteration/s]"
     ]
    },
    {
     "name": "stdout",
     "output_type": "stream",
     "text": [
      "510000: Best Eval: 880.18858, CRC: 0.04906, Polyp: 0.18110, Tick: 242975\n"
     ]
    },
    {
     "name": "stderr",
     "output_type": "stream",
     "text": [
      "Simulated annealing progress:  51%|█████▏    | 512505/1000000 [4:32:00<5:53:27, 22.99iteration/s] "
     ]
    },
    {
     "name": "stdout",
     "output_type": "stream",
     "text": [
      "512500: Best Eval: 880.18858, CRC: 0.04906, Polyp: 0.18110, Tick: 245475\n"
     ]
    },
    {
     "name": "stderr",
     "output_type": "stream",
     "text": [
      "Simulated annealing progress:  52%|█████▏    | 515003/1000000 [4:33:53<6:02:14, 22.31iteration/s]"
     ]
    },
    {
     "name": "stdout",
     "output_type": "stream",
     "text": [
      "515000: Best Eval: 880.18858, CRC: 0.04906, Polyp: 0.18110, Tick: 247975\n"
     ]
    },
    {
     "name": "stderr",
     "output_type": "stream",
     "text": [
      "Simulated annealing progress:  52%|█████▏    | 517504/1000000 [4:35:41<7:53:45, 16.97iteration/s] "
     ]
    },
    {
     "name": "stdout",
     "output_type": "stream",
     "text": [
      "517500: Best Eval: 880.18858, CRC: 0.04906, Polyp: 0.18110, Tick: 250475\n"
     ]
    },
    {
     "name": "stderr",
     "output_type": "stream",
     "text": [
      "Simulated annealing progress:  52%|█████▏    | 520005/1000000 [4:37:44<4:11:56, 31.75iteration/s] "
     ]
    },
    {
     "name": "stdout",
     "output_type": "stream",
     "text": [
      "520000: Best Eval: 880.18858, CRC: 0.04906, Polyp: 0.18110, Tick: 252975\n"
     ]
    },
    {
     "name": "stderr",
     "output_type": "stream",
     "text": [
      "Simulated annealing progress:  52%|█████▏    | 522506/1000000 [4:39:42<4:39:29, 28.47iteration/s] "
     ]
    },
    {
     "name": "stdout",
     "output_type": "stream",
     "text": [
      "522500: Best Eval: 880.18858, CRC: 0.04906, Polyp: 0.18110, Tick: 255475\n"
     ]
    },
    {
     "name": "stderr",
     "output_type": "stream",
     "text": [
      "Simulated annealing progress:  53%|█████▎    | 525005/1000000 [4:41:34<3:48:45, 34.61iteration/s] "
     ]
    },
    {
     "name": "stdout",
     "output_type": "stream",
     "text": [
      "525000: Best Eval: 880.18858, CRC: 0.04906, Polyp: 0.18110, Tick: 257975\n"
     ]
    },
    {
     "name": "stderr",
     "output_type": "stream",
     "text": [
      "Simulated annealing progress:  53%|█████▎    | 527507/1000000 [4:43:24<5:14:32, 25.04iteration/s] "
     ]
    },
    {
     "name": "stdout",
     "output_type": "stream",
     "text": [
      "527500: Best Eval: 880.18858, CRC: 0.04906, Polyp: 0.18110, Tick: 260475\n"
     ]
    },
    {
     "name": "stderr",
     "output_type": "stream",
     "text": [
      "Simulated annealing progress:  53%|█████▎    | 530005/1000000 [4:45:09<5:17:46, 24.65iteration/s] "
     ]
    },
    {
     "name": "stdout",
     "output_type": "stream",
     "text": [
      "530000: Best Eval: 880.18858, CRC: 0.04906, Polyp: 0.18110, Tick: 262975\n"
     ]
    },
    {
     "name": "stderr",
     "output_type": "stream",
     "text": [
      "Simulated annealing progress:  53%|█████▎    | 532504/1000000 [4:47:05<4:00:42, 32.37iteration/s] "
     ]
    },
    {
     "name": "stdout",
     "output_type": "stream",
     "text": [
      "532500: Best Eval: 880.18858, CRC: 0.04906, Polyp: 0.18110, Tick: 265475\n"
     ]
    },
    {
     "name": "stderr",
     "output_type": "stream",
     "text": [
      "Simulated annealing progress:  54%|█████▎    | 535004/1000000 [4:48:52<3:57:52, 32.58iteration/s] "
     ]
    },
    {
     "name": "stdout",
     "output_type": "stream",
     "text": [
      "535000: Best Eval: 880.18858, CRC: 0.04906, Polyp: 0.18110, Tick: 267975\n"
     ]
    },
    {
     "name": "stderr",
     "output_type": "stream",
     "text": [
      "Simulated annealing progress:  54%|█████▍    | 537508/1000000 [4:50:38<4:34:35, 28.07iteration/s] "
     ]
    },
    {
     "name": "stdout",
     "output_type": "stream",
     "text": [
      "537500: Best Eval: 880.18858, CRC: 0.04906, Polyp: 0.18110, Tick: 270475\n"
     ]
    },
    {
     "name": "stderr",
     "output_type": "stream",
     "text": [
      "Simulated annealing progress:  54%|█████▍    | 540005/1000000 [4:52:22<7:08:45, 17.88iteration/s] "
     ]
    },
    {
     "name": "stdout",
     "output_type": "stream",
     "text": [
      "540000: Best Eval: 880.18858, CRC: 0.04906, Polyp: 0.18110, Tick: 272975\n"
     ]
    },
    {
     "name": "stderr",
     "output_type": "stream",
     "text": [
      "Simulated annealing progress:  54%|█████▍    | 542506/1000000 [4:54:16<5:02:30, 25.20iteration/s] "
     ]
    },
    {
     "name": "stdout",
     "output_type": "stream",
     "text": [
      "542500: Best Eval: 880.18858, CRC: 0.04906, Polyp: 0.18110, Tick: 275475\n"
     ]
    },
    {
     "name": "stderr",
     "output_type": "stream",
     "text": [
      "Simulated annealing progress:  55%|█████▍    | 545004/1000000 [4:56:03<5:58:19, 21.16iteration/s] "
     ]
    },
    {
     "name": "stdout",
     "output_type": "stream",
     "text": [
      "545000: Best Eval: 880.18858, CRC: 0.04906, Polyp: 0.18110, Tick: 277975\n"
     ]
    },
    {
     "name": "stderr",
     "output_type": "stream",
     "text": [
      "Simulated annealing progress:  55%|█████▍    | 547505/1000000 [4:58:36<6:08:47, 20.45iteration/s] "
     ]
    },
    {
     "name": "stdout",
     "output_type": "stream",
     "text": [
      "547500: Best Eval: 880.18858, CRC: 0.04906, Polyp: 0.18110, Tick: 280475\n"
     ]
    },
    {
     "name": "stderr",
     "output_type": "stream",
     "text": [
      "Simulated annealing progress:  55%|█████▌    | 550007/1000000 [5:00:45<3:43:36, 33.54iteration/s] "
     ]
    },
    {
     "name": "stdout",
     "output_type": "stream",
     "text": [
      "550000: Best Eval: 880.18858, CRC: 0.04906, Polyp: 0.18110, Tick: 282975\n",
      "Detailed Progress Report, Iteration = 550000\n",
      "Monthly transition probabilities\n",
      "healthy to LR_polyp: Min: 0.00042, Max: 0.00102, Average: 0.00082\n",
      "LR_polyp to HR_polyp: Min: 0.00042, Max: 0.00214, Average: 0.00142\n",
      "HR_polyp to u_CRC_loc: Min: 0.00119, Max: 0.00244, Average: 0.00181\n",
      "u_CRC_loc to u_CRC_reg: Min: 0.02028, Max: 0.05695, Average: 0.03224\n",
      "u_CRC_reg to u_CRC_dis: Min: 0.02943, Max: 0.06406, Average: 0.04165\n",
      "u_CRC_loc to d_CRC_loc: Min: 0.01342, Max: 0.02070, Average: 0.01564\n",
      "u_CRC_reg to d_CRC_reg: Min: 0.05975, Max: 0.09344, Average: 0.06889\n",
      "u_CRC_dis to d_CRC_dis: Min: 0.09708, Max: 0.26783, Average: 0.15377\n",
      "\n",
      "Annual transition probabilities\n",
      "healthy to LR_polyp: Min: 0.00499, Max: 0.01221, Average: 0.00979\n",
      "LR_polyp to HR_polyp: Min: 0.00506, Max: 0.02537, Average: 0.01684\n",
      "HR_polyp to u_CRC_loc: Min: 0.01423, Max: 0.02886, Average: 0.02144\n",
      "u_CRC_loc to u_CRC_reg: Min: 0.21795, Max: 0.50519, Average: 0.31831\n",
      "u_CRC_reg to u_CRC_dis: Min: 0.30123, Max: 0.54818, Average: 0.39489\n",
      "u_CRC_loc to d_CRC_loc: Min: 0.14967, Max: 0.22203, Average: 0.17207\n",
      "u_CRC_reg to d_CRC_reg: Min: 0.52255, Max: 0.69187, Average: 0.57189\n",
      "u_CRC_dis to d_CRC_dis: Min: 0.70639, Max: 0.97627, Average: 0.82908\n"
     ]
    },
    {
     "name": "stderr",
     "output_type": "stream",
     "text": [
      "Simulated annealing progress:  55%|█████▌    | 552506/1000000 [5:02:45<4:04:20, 30.52iteration/s] "
     ]
    },
    {
     "name": "stdout",
     "output_type": "stream",
     "text": [
      "552500: Best Eval: 880.18858, CRC: 0.04906, Polyp: 0.18110, Tick: 285475\n"
     ]
    },
    {
     "name": "stderr",
     "output_type": "stream",
     "text": [
      "Simulated annealing progress:  56%|█████▌    | 555006/1000000 [5:04:10<3:47:26, 32.61iteration/s] "
     ]
    },
    {
     "name": "stdout",
     "output_type": "stream",
     "text": [
      "555000: Best Eval: 880.18858, CRC: 0.04906, Polyp: 0.18110, Tick: 287975\n"
     ]
    },
    {
     "name": "stderr",
     "output_type": "stream",
     "text": [
      "Simulated annealing progress:  56%|█████▌    | 557506/1000000 [5:05:45<4:06:51, 29.88iteration/s] "
     ]
    },
    {
     "name": "stdout",
     "output_type": "stream",
     "text": [
      "557500: Best Eval: 880.18858, CRC: 0.04906, Polyp: 0.18110, Tick: 290475\n"
     ]
    },
    {
     "name": "stderr",
     "output_type": "stream",
     "text": [
      "Simulated annealing progress:  56%|█████▌    | 560002/1000000 [5:07:33<6:49:06, 17.93iteration/s] "
     ]
    },
    {
     "name": "stdout",
     "output_type": "stream",
     "text": [
      "560000: Best Eval: 880.18858, CRC: 0.04906, Polyp: 0.18110, Tick: 292975\n"
     ]
    },
    {
     "name": "stderr",
     "output_type": "stream",
     "text": [
      "Simulated annealing progress:  56%|█████▋    | 562505/1000000 [5:09:12<5:29:38, 22.12iteration/s] "
     ]
    },
    {
     "name": "stdout",
     "output_type": "stream",
     "text": [
      "562500: Best Eval: 880.18858, CRC: 0.04906, Polyp: 0.18110, Tick: 295475\n"
     ]
    },
    {
     "name": "stderr",
     "output_type": "stream",
     "text": [
      "Simulated annealing progress:  57%|█████▋    | 565006/1000000 [18:06:11<4:18:13, 28.08iteration/s]       "
     ]
    },
    {
     "name": "stdout",
     "output_type": "stream",
     "text": [
      "565000: Best Eval: 880.18858, CRC: 0.04906, Polyp: 0.18110, Tick: 297975\n"
     ]
    },
    {
     "name": "stderr",
     "output_type": "stream",
     "text": [
      "Simulated annealing progress:  57%|█████▋    | 567505/1000000 [25:41:33<3:36:49, 33.25iteration/s]       "
     ]
    },
    {
     "name": "stdout",
     "output_type": "stream",
     "text": [
      "567500: Best Eval: 880.18858, CRC: 0.04906, Polyp: 0.18110, Tick: 300475\n"
     ]
    },
    {
     "name": "stderr",
     "output_type": "stream",
     "text": [
      "Simulated annealing progress:  57%|█████▋    | 570002/1000000 [25:43:21<6:02:12, 19.79iteration/s] "
     ]
    },
    {
     "name": "stdout",
     "output_type": "stream",
     "text": [
      "570000: Best Eval: 880.18858, CRC: 0.04906, Polyp: 0.18110, Tick: 302975\n"
     ]
    },
    {
     "name": "stderr",
     "output_type": "stream",
     "text": [
      "Simulated annealing progress:  57%|█████▋    | 572505/1000000 [25:45:50<4:00:30, 29.62iteration/s] "
     ]
    },
    {
     "name": "stdout",
     "output_type": "stream",
     "text": [
      "572500: Best Eval: 880.18858, CRC: 0.04906, Polyp: 0.18110, Tick: 305475\n"
     ]
    },
    {
     "name": "stderr",
     "output_type": "stream",
     "text": [
      "Simulated annealing progress:  58%|█████▊    | 575004/1000000 [25:48:22<5:49:31, 20.27iteration/s] "
     ]
    },
    {
     "name": "stdout",
     "output_type": "stream",
     "text": [
      "575000: Best Eval: 880.18858, CRC: 0.04906, Polyp: 0.18110, Tick: 307975\n"
     ]
    },
    {
     "name": "stderr",
     "output_type": "stream",
     "text": [
      "Simulated annealing progress:  58%|█████▊    | 577507/1000000 [25:50:24<3:50:23, 30.56iteration/s] "
     ]
    },
    {
     "name": "stdout",
     "output_type": "stream",
     "text": [
      "577500: Best Eval: 880.18858, CRC: 0.04906, Polyp: 0.18110, Tick: 310475\n"
     ]
    },
    {
     "name": "stderr",
     "output_type": "stream",
     "text": [
      "Simulated annealing progress:  58%|█████▊    | 580007/1000000 [25:51:50<3:20:03, 34.99iteration/s] "
     ]
    },
    {
     "name": "stdout",
     "output_type": "stream",
     "text": [
      "580000: Best Eval: 880.18858, CRC: 0.04906, Polyp: 0.18110, Tick: 312975\n"
     ]
    },
    {
     "name": "stderr",
     "output_type": "stream",
     "text": [
      "Simulated annealing progress:  58%|█████▊    | 582502/1000000 [25:53:49<3:07:53, 37.03iteration/s] "
     ]
    },
    {
     "name": "stdout",
     "output_type": "stream",
     "text": [
      "582500: Best Eval: 880.18858, CRC: 0.04906, Polyp: 0.18110, Tick: 315475\n"
     ]
    },
    {
     "name": "stderr",
     "output_type": "stream",
     "text": [
      "Simulated annealing progress:  59%|█████▊    | 585003/1000000 [25:55:43<5:46:42, 19.95iteration/s] "
     ]
    },
    {
     "name": "stdout",
     "output_type": "stream",
     "text": [
      "585000: Best Eval: 880.18858, CRC: 0.04906, Polyp: 0.18110, Tick: 317975\n"
     ]
    },
    {
     "name": "stderr",
     "output_type": "stream",
     "text": [
      "Simulated annealing progress:  59%|█████▉    | 587503/1000000 [25:57:20<6:49:51, 16.77iteration/s] "
     ]
    },
    {
     "name": "stdout",
     "output_type": "stream",
     "text": [
      "587500: Best Eval: 880.18858, CRC: 0.04906, Polyp: 0.18110, Tick: 320475\n"
     ]
    },
    {
     "name": "stderr",
     "output_type": "stream",
     "text": [
      "Simulated annealing progress:  59%|█████▉    | 590004/1000000 [25:59:41<3:51:25, 29.53iteration/s] "
     ]
    },
    {
     "name": "stdout",
     "output_type": "stream",
     "text": [
      "590000: Best Eval: 880.18858, CRC: 0.04906, Polyp: 0.18110, Tick: 322975\n"
     ]
    },
    {
     "name": "stderr",
     "output_type": "stream",
     "text": [
      "Simulated annealing progress:  59%|█████▉    | 592504/1000000 [26:02:00<6:23:49, 17.69iteration/s] "
     ]
    },
    {
     "name": "stdout",
     "output_type": "stream",
     "text": [
      "592500: Best Eval: 880.18858, CRC: 0.04906, Polyp: 0.18110, Tick: 325475\n"
     ]
    },
    {
     "name": "stderr",
     "output_type": "stream",
     "text": [
      "Simulated annealing progress:  60%|█████▉    | 595006/1000000 [26:03:40<3:07:01, 36.09iteration/s] "
     ]
    },
    {
     "name": "stdout",
     "output_type": "stream",
     "text": [
      "595000: Best Eval: 880.18858, CRC: 0.04906, Polyp: 0.18110, Tick: 327975\n"
     ]
    },
    {
     "name": "stderr",
     "output_type": "stream",
     "text": [
      "Simulated annealing progress:  60%|█████▉    | 597504/1000000 [26:05:26<3:29:19, 32.05iteration/s] "
     ]
    },
    {
     "name": "stdout",
     "output_type": "stream",
     "text": [
      "597500: Best Eval: 880.18858, CRC: 0.04906, Polyp: 0.18110, Tick: 330475\n"
     ]
    },
    {
     "name": "stderr",
     "output_type": "stream",
     "text": [
      "Simulated annealing progress:  60%|██████    | 600004/1000000 [26:07:29<6:42:24, 16.57iteration/s] "
     ]
    },
    {
     "name": "stdout",
     "output_type": "stream",
     "text": [
      "600000: Best Eval: 880.18858, CRC: 0.04906, Polyp: 0.18110, Tick: 332975\n",
      "Detailed Progress Report, Iteration = 600000\n",
      "Monthly transition probabilities\n",
      "healthy to LR_polyp: Min: 0.00042, Max: 0.00102, Average: 0.00082\n",
      "LR_polyp to HR_polyp: Min: 0.00042, Max: 0.00214, Average: 0.00142\n",
      "HR_polyp to u_CRC_loc: Min: 0.00119, Max: 0.00244, Average: 0.00181\n",
      "u_CRC_loc to u_CRC_reg: Min: 0.02028, Max: 0.05695, Average: 0.03224\n",
      "u_CRC_reg to u_CRC_dis: Min: 0.02943, Max: 0.06406, Average: 0.04165\n",
      "u_CRC_loc to d_CRC_loc: Min: 0.01342, Max: 0.02070, Average: 0.01564\n",
      "u_CRC_reg to d_CRC_reg: Min: 0.05975, Max: 0.09344, Average: 0.06889\n",
      "u_CRC_dis to d_CRC_dis: Min: 0.09708, Max: 0.26783, Average: 0.15377\n",
      "\n",
      "Annual transition probabilities\n",
      "healthy to LR_polyp: Min: 0.00499, Max: 0.01221, Average: 0.00979\n",
      "LR_polyp to HR_polyp: Min: 0.00506, Max: 0.02537, Average: 0.01684\n",
      "HR_polyp to u_CRC_loc: Min: 0.01423, Max: 0.02886, Average: 0.02144\n",
      "u_CRC_loc to u_CRC_reg: Min: 0.21795, Max: 0.50519, Average: 0.31831\n",
      "u_CRC_reg to u_CRC_dis: Min: 0.30123, Max: 0.54818, Average: 0.39489\n",
      "u_CRC_loc to d_CRC_loc: Min: 0.14967, Max: 0.22203, Average: 0.17207\n",
      "u_CRC_reg to d_CRC_reg: Min: 0.52255, Max: 0.69187, Average: 0.57189\n",
      "u_CRC_dis to d_CRC_dis: Min: 0.70639, Max: 0.97627, Average: 0.82908\n"
     ]
    },
    {
     "name": "stderr",
     "output_type": "stream",
     "text": [
      "Simulated annealing progress:  60%|██████    | 602503/1000000 [26:09:28<6:28:50, 17.04iteration/s] "
     ]
    },
    {
     "name": "stdout",
     "output_type": "stream",
     "text": [
      "602500: Best Eval: 880.18858, CRC: 0.04906, Polyp: 0.18110, Tick: 335475\n"
     ]
    },
    {
     "name": "stderr",
     "output_type": "stream",
     "text": [
      "Simulated annealing progress:  61%|██████    | 605007/1000000 [26:11:02<3:38:58, 30.06iteration/s] "
     ]
    },
    {
     "name": "stdout",
     "output_type": "stream",
     "text": [
      "605000: Best Eval: 880.18858, CRC: 0.04906, Polyp: 0.18110, Tick: 337975\n"
     ]
    },
    {
     "name": "stderr",
     "output_type": "stream",
     "text": [
      "Simulated annealing progress:  61%|██████    | 607508/1000000 [26:12:45<3:08:58, 34.61iteration/s] "
     ]
    },
    {
     "name": "stdout",
     "output_type": "stream",
     "text": [
      "607500: Best Eval: 880.18858, CRC: 0.04906, Polyp: 0.18110, Tick: 340475\n"
     ]
    },
    {
     "name": "stderr",
     "output_type": "stream",
     "text": [
      "Simulated annealing progress:  61%|██████    | 610001/1000000 [26:14:50<3:05:08, 35.11iteration/s] "
     ]
    },
    {
     "name": "stdout",
     "output_type": "stream",
     "text": [
      "610000: Best Eval: 880.18858, CRC: 0.04906, Polyp: 0.18110, Tick: 342975\n"
     ]
    },
    {
     "name": "stderr",
     "output_type": "stream",
     "text": [
      "Simulated annealing progress:  61%|██████▏   | 612507/1000000 [26:17:00<2:59:45, 35.93iteration/s] "
     ]
    },
    {
     "name": "stdout",
     "output_type": "stream",
     "text": [
      "612500: Best Eval: 880.18858, CRC: 0.04906, Polyp: 0.18110, Tick: 345475\n"
     ]
    },
    {
     "name": "stderr",
     "output_type": "stream",
     "text": [
      "Simulated annealing progress:  62%|██████▏   | 615001/1000000 [26:19:01<4:15:43, 25.09iteration/s] "
     ]
    },
    {
     "name": "stdout",
     "output_type": "stream",
     "text": [
      "615000: Best Eval: 880.18858, CRC: 0.04906, Polyp: 0.18110, Tick: 347975\n"
     ]
    },
    {
     "name": "stderr",
     "output_type": "stream",
     "text": [
      "Simulated annealing progress:  62%|██████▏   | 617518/1000000 [26:21:19<1:17:33, 82.20iteration/s] "
     ]
    },
    {
     "name": "stdout",
     "output_type": "stream",
     "text": [
      "617500: Best Eval: 880.18858, CRC: 0.04906, Polyp: 0.18110, Tick: 350475\n"
     ]
    },
    {
     "name": "stderr",
     "output_type": "stream",
     "text": [
      "Simulated annealing progress:  62%|██████▏   | 620004/1000000 [26:24:11<10:27:45, 10.09iteration/s]"
     ]
    },
    {
     "name": "stdout",
     "output_type": "stream",
     "text": [
      "620000: Best Eval: 880.18858, CRC: 0.04906, Polyp: 0.18110, Tick: 352975\n"
     ]
    },
    {
     "name": "stderr",
     "output_type": "stream",
     "text": [
      "Simulated annealing progress:  62%|██████▏   | 622501/1000000 [26:30:34<34:46:33,  3.02iteration/s] "
     ]
    },
    {
     "name": "stdout",
     "output_type": "stream",
     "text": [
      "622500: Best Eval: 880.18858, CRC: 0.04906, Polyp: 0.18110, Tick: 355475\n"
     ]
    },
    {
     "name": "stderr",
     "output_type": "stream",
     "text": [
      "Simulated annealing progress:  63%|██████▎   | 625003/1000000 [26:33:59<5:09:42, 20.18iteration/s]  "
     ]
    },
    {
     "name": "stdout",
     "output_type": "stream",
     "text": [
      "625000: Best Eval: 880.18858, CRC: 0.04906, Polyp: 0.18110, Tick: 357975\n"
     ]
    },
    {
     "name": "stderr",
     "output_type": "stream",
     "text": [
      "Simulated annealing progress:  63%|██████▎   | 627508/1000000 [26:35:41<3:00:21, 34.42iteration/s] "
     ]
    },
    {
     "name": "stdout",
     "output_type": "stream",
     "text": [
      "627500: Best Eval: 880.18858, CRC: 0.04906, Polyp: 0.18110, Tick: 360475\n"
     ]
    },
    {
     "name": "stderr",
     "output_type": "stream",
     "text": [
      "Simulated annealing progress:  63%|██████▎   | 630002/1000000 [26:37:25<5:42:33, 18.00iteration/s] "
     ]
    },
    {
     "name": "stdout",
     "output_type": "stream",
     "text": [
      "630000: Best Eval: 880.18858, CRC: 0.04906, Polyp: 0.18110, Tick: 362975\n"
     ]
    },
    {
     "name": "stderr",
     "output_type": "stream",
     "text": [
      "Simulated annealing progress:  63%|██████▎   | 632505/1000000 [26:39:09<3:12:10, 31.87iteration/s] "
     ]
    },
    {
     "name": "stdout",
     "output_type": "stream",
     "text": [
      "632500: Best Eval: 880.18858, CRC: 0.04906, Polyp: 0.18110, Tick: 365475\n"
     ]
    },
    {
     "name": "stderr",
     "output_type": "stream",
     "text": [
      "Simulated annealing progress:  64%|██████▎   | 635004/1000000 [26:40:59<3:43:45, 27.19iteration/s] "
     ]
    },
    {
     "name": "stdout",
     "output_type": "stream",
     "text": [
      "635000: Best Eval: 880.18858, CRC: 0.04906, Polyp: 0.18110, Tick: 367975\n"
     ]
    },
    {
     "name": "stderr",
     "output_type": "stream",
     "text": [
      "Simulated annealing progress:  64%|██████▍   | 637505/1000000 [26:43:01<3:16:48, 30.70iteration/s] "
     ]
    },
    {
     "name": "stdout",
     "output_type": "stream",
     "text": [
      "637500: Best Eval: 880.18858, CRC: 0.04906, Polyp: 0.18110, Tick: 370475\n"
     ]
    },
    {
     "name": "stderr",
     "output_type": "stream",
     "text": [
      "Simulated annealing progress:  64%|██████▍   | 640006/1000000 [26:44:50<2:43:43, 36.65iteration/s] "
     ]
    },
    {
     "name": "stdout",
     "output_type": "stream",
     "text": [
      "640000: Best Eval: 880.18858, CRC: 0.04906, Polyp: 0.18110, Tick: 372975\n"
     ]
    },
    {
     "name": "stderr",
     "output_type": "stream",
     "text": [
      "Simulated annealing progress:  64%|██████▍   | 642507/1000000 [26:46:15<2:57:42, 33.53iteration/s] "
     ]
    },
    {
     "name": "stdout",
     "output_type": "stream",
     "text": [
      "642500: Best Eval: 880.18858, CRC: 0.04906, Polyp: 0.18110, Tick: 375475\n"
     ]
    },
    {
     "name": "stderr",
     "output_type": "stream",
     "text": [
      "Simulated annealing progress:  65%|██████▍   | 645004/1000000 [26:47:46<4:39:14, 21.19iteration/s] "
     ]
    },
    {
     "name": "stdout",
     "output_type": "stream",
     "text": [
      "645000: Best Eval: 880.18858, CRC: 0.04906, Polyp: 0.18110, Tick: 377975\n"
     ]
    },
    {
     "name": "stderr",
     "output_type": "stream",
     "text": [
      "Simulated annealing progress:  65%|██████▍   | 647503/1000000 [26:50:25<6:04:12, 16.13iteration/s] "
     ]
    },
    {
     "name": "stdout",
     "output_type": "stream",
     "text": [
      "647500: Best Eval: 880.18858, CRC: 0.04906, Polyp: 0.18110, Tick: 380475\n"
     ]
    },
    {
     "name": "stderr",
     "output_type": "stream",
     "text": [
      "Simulated annealing progress:  65%|██████▌   | 650004/1000000 [26:52:35<4:12:02, 23.14iteration/s] "
     ]
    },
    {
     "name": "stdout",
     "output_type": "stream",
     "text": [
      "650000: Best Eval: 880.18858, CRC: 0.04906, Polyp: 0.18110, Tick: 382975\n",
      "Detailed Progress Report, Iteration = 650000\n",
      "Monthly transition probabilities\n",
      "healthy to LR_polyp: Min: 0.00042, Max: 0.00102, Average: 0.00082\n",
      "LR_polyp to HR_polyp: Min: 0.00042, Max: 0.00214, Average: 0.00142\n",
      "HR_polyp to u_CRC_loc: Min: 0.00119, Max: 0.00244, Average: 0.00181\n",
      "u_CRC_loc to u_CRC_reg: Min: 0.02028, Max: 0.05695, Average: 0.03224\n",
      "u_CRC_reg to u_CRC_dis: Min: 0.02943, Max: 0.06406, Average: 0.04165\n",
      "u_CRC_loc to d_CRC_loc: Min: 0.01342, Max: 0.02070, Average: 0.01564\n",
      "u_CRC_reg to d_CRC_reg: Min: 0.05975, Max: 0.09344, Average: 0.06889\n",
      "u_CRC_dis to d_CRC_dis: Min: 0.09708, Max: 0.26783, Average: 0.15377\n",
      "\n",
      "Annual transition probabilities\n",
      "healthy to LR_polyp: Min: 0.00499, Max: 0.01221, Average: 0.00979\n",
      "LR_polyp to HR_polyp: Min: 0.00506, Max: 0.02537, Average: 0.01684\n",
      "HR_polyp to u_CRC_loc: Min: 0.01423, Max: 0.02886, Average: 0.02144\n",
      "u_CRC_loc to u_CRC_reg: Min: 0.21795, Max: 0.50519, Average: 0.31831\n",
      "u_CRC_reg to u_CRC_dis: Min: 0.30123, Max: 0.54818, Average: 0.39489\n",
      "u_CRC_loc to d_CRC_loc: Min: 0.14967, Max: 0.22203, Average: 0.17207\n",
      "u_CRC_reg to d_CRC_reg: Min: 0.52255, Max: 0.69187, Average: 0.57189\n",
      "u_CRC_dis to d_CRC_dis: Min: 0.70639, Max: 0.97627, Average: 0.82908\n"
     ]
    },
    {
     "name": "stderr",
     "output_type": "stream",
     "text": [
      "Simulated annealing progress:  65%|██████▌   | 652504/1000000 [26:55:01<5:43:27, 16.86iteration/s] "
     ]
    },
    {
     "name": "stdout",
     "output_type": "stream",
     "text": [
      "652500: Best Eval: 880.18858, CRC: 0.04906, Polyp: 0.18110, Tick: 385475\n"
     ]
    },
    {
     "name": "stderr",
     "output_type": "stream",
     "text": [
      "Simulated annealing progress:  66%|██████▌   | 655004/1000000 [26:57:21<5:00:00, 19.17iteration/s]"
     ]
    },
    {
     "name": "stdout",
     "output_type": "stream",
     "text": [
      "655000: Best Eval: 880.18858, CRC: 0.04906, Polyp: 0.18110, Tick: 387975\n"
     ]
    },
    {
     "name": "stderr",
     "output_type": "stream",
     "text": [
      "Simulated annealing progress:  66%|██████▌   | 657504/1000000 [26:59:37<4:54:08, 19.41iteration/s] "
     ]
    },
    {
     "name": "stdout",
     "output_type": "stream",
     "text": [
      "657500: Best Eval: 880.18858, CRC: 0.04906, Polyp: 0.18110, Tick: 390475\n"
     ]
    },
    {
     "name": "stderr",
     "output_type": "stream",
     "text": [
      "Simulated annealing progress:  66%|██████▌   | 660004/1000000 [27:01:52<4:40:44, 20.18iteration/s]"
     ]
    },
    {
     "name": "stdout",
     "output_type": "stream",
     "text": [
      "660000: Best Eval: 880.18858, CRC: 0.04906, Polyp: 0.18110, Tick: 392975\n"
     ]
    },
    {
     "name": "stderr",
     "output_type": "stream",
     "text": [
      "Simulated annealing progress:  66%|██████▋   | 662504/1000000 [27:04:06<4:51:37, 19.29iteration/s]"
     ]
    },
    {
     "name": "stdout",
     "output_type": "stream",
     "text": [
      "662500: Best Eval: 880.18858, CRC: 0.04906, Polyp: 0.18110, Tick: 395475\n"
     ]
    },
    {
     "name": "stderr",
     "output_type": "stream",
     "text": [
      "Simulated annealing progress:  67%|██████▋   | 665004/1000000 [27:06:20<4:43:27, 19.70iteration/s]"
     ]
    },
    {
     "name": "stdout",
     "output_type": "stream",
     "text": [
      "665000: Best Eval: 880.18858, CRC: 0.04906, Polyp: 0.18110, Tick: 397975\n"
     ]
    },
    {
     "name": "stderr",
     "output_type": "stream",
     "text": [
      "Simulated annealing progress:  67%|██████▋   | 667504/1000000 [27:08:35<4:57:12, 18.65iteration/s]"
     ]
    },
    {
     "name": "stdout",
     "output_type": "stream",
     "text": [
      "667500: Best Eval: 880.18858, CRC: 0.04906, Polyp: 0.18110, Tick: 400475\n"
     ]
    },
    {
     "name": "stderr",
     "output_type": "stream",
     "text": [
      "Simulated annealing progress:  67%|██████▋   | 670003/1000000 [27:10:54<5:02:41, 18.17iteration/s]"
     ]
    },
    {
     "name": "stdout",
     "output_type": "stream",
     "text": [
      "670000: Best Eval: 880.18858, CRC: 0.04906, Polyp: 0.18110, Tick: 402975\n"
     ]
    },
    {
     "name": "stderr",
     "output_type": "stream",
     "text": [
      "Simulated annealing progress:  67%|██████▋   | 672504/1000000 [27:13:11<4:53:02, 18.63iteration/s]"
     ]
    },
    {
     "name": "stdout",
     "output_type": "stream",
     "text": [
      "672500: Best Eval: 880.18858, CRC: 0.04906, Polyp: 0.18110, Tick: 405475\n"
     ]
    },
    {
     "name": "stderr",
     "output_type": "stream",
     "text": [
      "Simulated annealing progress:  68%|██████▊   | 675003/1000000 [27:15:27<4:42:31, 19.17iteration/s]"
     ]
    },
    {
     "name": "stdout",
     "output_type": "stream",
     "text": [
      "675000: Best Eval: 880.18858, CRC: 0.04906, Polyp: 0.18110, Tick: 407975\n"
     ]
    },
    {
     "name": "stderr",
     "output_type": "stream",
     "text": [
      "Simulated annealing progress:  68%|██████▊   | 677503/1000000 [27:17:45<5:00:13, 17.90iteration/s]"
     ]
    },
    {
     "name": "stdout",
     "output_type": "stream",
     "text": [
      "677500: Best Eval: 880.18858, CRC: 0.04906, Polyp: 0.18110, Tick: 410475\n"
     ]
    },
    {
     "name": "stderr",
     "output_type": "stream",
     "text": [
      "Simulated annealing progress:  68%|██████▊   | 680003/1000000 [27:20:03<4:39:10, 19.10iteration/s]"
     ]
    },
    {
     "name": "stdout",
     "output_type": "stream",
     "text": [
      "680000: Best Eval: 880.18858, CRC: 0.04906, Polyp: 0.18110, Tick: 412975\n"
     ]
    },
    {
     "name": "stderr",
     "output_type": "stream",
     "text": [
      "Simulated annealing progress:  68%|██████▊   | 682505/1000000 [27:22:20<4:24:10, 20.03iteration/s]"
     ]
    },
    {
     "name": "stdout",
     "output_type": "stream",
     "text": [
      "682500: Best Eval: 880.18858, CRC: 0.04906, Polyp: 0.18110, Tick: 415475\n"
     ]
    },
    {
     "name": "stderr",
     "output_type": "stream",
     "text": [
      "Simulated annealing progress:  69%|██████▊   | 685003/1000000 [27:24:37<4:44:08, 18.48iteration/s]"
     ]
    },
    {
     "name": "stdout",
     "output_type": "stream",
     "text": [
      "685000: Best Eval: 880.18858, CRC: 0.04906, Polyp: 0.18110, Tick: 417975\n"
     ]
    },
    {
     "name": "stderr",
     "output_type": "stream",
     "text": [
      "Simulated annealing progress:  69%|██████▉   | 687504/1000000 [27:26:55<4:00:24, 21.66iteration/s]"
     ]
    },
    {
     "name": "stdout",
     "output_type": "stream",
     "text": [
      "687500: Best Eval: 880.18858, CRC: 0.04906, Polyp: 0.18110, Tick: 420475\n"
     ]
    },
    {
     "name": "stderr",
     "output_type": "stream",
     "text": [
      "Simulated annealing progress:  69%|██████▉   | 690005/1000000 [27:29:12<5:02:48, 17.06iteration/s]"
     ]
    },
    {
     "name": "stdout",
     "output_type": "stream",
     "text": [
      "690000: Best Eval: 880.18858, CRC: 0.04906, Polyp: 0.18110, Tick: 422975\n"
     ]
    },
    {
     "name": "stderr",
     "output_type": "stream",
     "text": [
      "Simulated annealing progress:  69%|██████▉   | 692504/1000000 [27:31:27<5:01:42, 16.99iteration/s]"
     ]
    },
    {
     "name": "stdout",
     "output_type": "stream",
     "text": [
      "692500: Best Eval: 880.18858, CRC: 0.04906, Polyp: 0.18110, Tick: 425475\n"
     ]
    },
    {
     "name": "stderr",
     "output_type": "stream",
     "text": [
      "Simulated annealing progress:  70%|██████▉   | 695001/1000000 [27:38:17<12:43:13,  6.66iteration/s]  "
     ]
    },
    {
     "name": "stdout",
     "output_type": "stream",
     "text": [
      "695000: Best Eval: 880.18858, CRC: 0.04906, Polyp: 0.18110, Tick: 427975\n"
     ]
    },
    {
     "name": "stderr",
     "output_type": "stream",
     "text": [
      "Simulated annealing progress:  70%|██████▉   | 697504/1000000 [27:39:59<3:07:21, 26.91iteration/s] "
     ]
    },
    {
     "name": "stdout",
     "output_type": "stream",
     "text": [
      "697500: Best Eval: 880.18858, CRC: 0.04906, Polyp: 0.18110, Tick: 430475\n"
     ]
    },
    {
     "name": "stderr",
     "output_type": "stream",
     "text": [
      "Simulated annealing progress:  70%|███████   | 700004/1000000 [27:41:34<3:13:43, 25.81iteration/s]"
     ]
    },
    {
     "name": "stdout",
     "output_type": "stream",
     "text": [
      "700000: Best Eval: 880.18858, CRC: 0.04906, Polyp: 0.18110, Tick: 432975\n",
      "Detailed Progress Report, Iteration = 700000\n",
      "Monthly transition probabilities\n",
      "healthy to LR_polyp: Min: 0.00042, Max: 0.00102, Average: 0.00082\n",
      "LR_polyp to HR_polyp: Min: 0.00042, Max: 0.00214, Average: 0.00142\n",
      "HR_polyp to u_CRC_loc: Min: 0.00119, Max: 0.00244, Average: 0.00181\n",
      "u_CRC_loc to u_CRC_reg: Min: 0.02028, Max: 0.05695, Average: 0.03224\n",
      "u_CRC_reg to u_CRC_dis: Min: 0.02943, Max: 0.06406, Average: 0.04165\n",
      "u_CRC_loc to d_CRC_loc: Min: 0.01342, Max: 0.02070, Average: 0.01564\n",
      "u_CRC_reg to d_CRC_reg: Min: 0.05975, Max: 0.09344, Average: 0.06889\n",
      "u_CRC_dis to d_CRC_dis: Min: 0.09708, Max: 0.26783, Average: 0.15377\n",
      "\n",
      "Annual transition probabilities\n",
      "healthy to LR_polyp: Min: 0.00499, Max: 0.01221, Average: 0.00979\n",
      "LR_polyp to HR_polyp: Min: 0.00506, Max: 0.02537, Average: 0.01684\n",
      "HR_polyp to u_CRC_loc: Min: 0.01423, Max: 0.02886, Average: 0.02144\n",
      "u_CRC_loc to u_CRC_reg: Min: 0.21795, Max: 0.50519, Average: 0.31831\n",
      "u_CRC_reg to u_CRC_dis: Min: 0.30123, Max: 0.54818, Average: 0.39489\n",
      "u_CRC_loc to d_CRC_loc: Min: 0.14967, Max: 0.22203, Average: 0.17207\n",
      "u_CRC_reg to d_CRC_reg: Min: 0.52255, Max: 0.69187, Average: 0.57189\n",
      "u_CRC_dis to d_CRC_dis: Min: 0.70639, Max: 0.97627, Average: 0.82908\n"
     ]
    },
    {
     "name": "stderr",
     "output_type": "stream",
     "text": [
      "Simulated annealing progress:  70%|███████   | 702503/1000000 [27:43:06<3:34:57, 23.07iteration/s]"
     ]
    },
    {
     "name": "stdout",
     "output_type": "stream",
     "text": [
      "702500: Best Eval: 880.18858, CRC: 0.04906, Polyp: 0.18110, Tick: 435475\n"
     ]
    },
    {
     "name": "stderr",
     "output_type": "stream",
     "text": [
      "Simulated annealing progress:  71%|███████   | 705006/1000000 [27:44:56<3:02:25, 26.95iteration/s] "
     ]
    },
    {
     "name": "stdout",
     "output_type": "stream",
     "text": [
      "705000: Best Eval: 880.18858, CRC: 0.04906, Polyp: 0.18110, Tick: 437975\n"
     ]
    },
    {
     "name": "stderr",
     "output_type": "stream",
     "text": [
      "Simulated annealing progress:  71%|███████   | 707502/1000000 [27:53:04<5:38:53, 14.39iteration/s]   "
     ]
    },
    {
     "name": "stdout",
     "output_type": "stream",
     "text": [
      "707500: Best Eval: 880.18858, CRC: 0.04906, Polyp: 0.18110, Tick: 440475\n"
     ]
    },
    {
     "name": "stderr",
     "output_type": "stream",
     "text": [
      "Simulated annealing progress:  71%|███████   | 710004/1000000 [27:55:06<3:23:20, 23.77iteration/s] "
     ]
    },
    {
     "name": "stdout",
     "output_type": "stream",
     "text": [
      "710000: Best Eval: 880.18858, CRC: 0.04906, Polyp: 0.18110, Tick: 442975\n"
     ]
    },
    {
     "name": "stderr",
     "output_type": "stream",
     "text": [
      "Simulated annealing progress:  71%|███████▏  | 712504/1000000 [27:58:52<3:37:57, 21.98iteration/s] "
     ]
    },
    {
     "name": "stdout",
     "output_type": "stream",
     "text": [
      "712500: Best Eval: 880.18858, CRC: 0.04906, Polyp: 0.18110, Tick: 445475\n"
     ]
    },
    {
     "name": "stderr",
     "output_type": "stream",
     "text": [
      "Simulated annealing progress:  72%|███████▏  | 715002/1000000 [28:03:06<6:33:30, 12.07iteration/s] "
     ]
    },
    {
     "name": "stdout",
     "output_type": "stream",
     "text": [
      "715000: Best Eval: 880.18858, CRC: 0.04906, Polyp: 0.18110, Tick: 447975\n"
     ]
    },
    {
     "name": "stderr",
     "output_type": "stream",
     "text": [
      "Simulated annealing progress:  72%|███████▏  | 717506/1000000 [28:07:31<3:06:12, 25.28iteration/s] "
     ]
    },
    {
     "name": "stdout",
     "output_type": "stream",
     "text": [
      "717500: Best Eval: 880.18858, CRC: 0.04906, Polyp: 0.18110, Tick: 450475\n"
     ]
    },
    {
     "name": "stderr",
     "output_type": "stream",
     "text": [
      "Simulated annealing progress:  72%|███████▏  | 720003/1000000 [28:10:25<2:53:39, 26.87iteration/s] "
     ]
    },
    {
     "name": "stdout",
     "output_type": "stream",
     "text": [
      "720000: Best Eval: 880.18858, CRC: 0.04906, Polyp: 0.18110, Tick: 452975\n"
     ]
    },
    {
     "name": "stderr",
     "output_type": "stream",
     "text": [
      "Simulated annealing progress:  72%|███████▏  | 722504/1000000 [28:12:06<3:09:43, 24.38iteration/s] "
     ]
    },
    {
     "name": "stdout",
     "output_type": "stream",
     "text": [
      "722500: Best Eval: 880.18858, CRC: 0.04906, Polyp: 0.18110, Tick: 455475\n"
     ]
    },
    {
     "name": "stderr",
     "output_type": "stream",
     "text": [
      "Simulated annealing progress:  73%|███████▎  | 725006/1000000 [28:15:19<3:38:41, 20.96iteration/s] "
     ]
    },
    {
     "name": "stdout",
     "output_type": "stream",
     "text": [
      "725000: Best Eval: 880.18858, CRC: 0.04906, Polyp: 0.18110, Tick: 457975\n"
     ]
    },
    {
     "name": "stderr",
     "output_type": "stream",
     "text": [
      "Simulated annealing progress:  73%|███████▎  | 727503/1000000 [28:18:59<3:59:31, 18.96iteration/s] "
     ]
    },
    {
     "name": "stdout",
     "output_type": "stream",
     "text": [
      "727500: Best Eval: 880.18858, CRC: 0.04906, Polyp: 0.18110, Tick: 460475\n"
     ]
    },
    {
     "name": "stderr",
     "output_type": "stream",
     "text": [
      "Simulated annealing progress:  73%|███████▎  | 730004/1000000 [28:22:00<4:45:44, 15.75iteration/s] "
     ]
    },
    {
     "name": "stdout",
     "output_type": "stream",
     "text": [
      "730000: Best Eval: 880.18858, CRC: 0.04906, Polyp: 0.18110, Tick: 462975\n"
     ]
    },
    {
     "name": "stderr",
     "output_type": "stream",
     "text": [
      "Simulated annealing progress:  73%|███████▎  | 732503/1000000 [28:24:58<4:56:17, 15.05iteration/s] "
     ]
    },
    {
     "name": "stdout",
     "output_type": "stream",
     "text": [
      "732500: Best Eval: 880.18858, CRC: 0.04906, Polyp: 0.18110, Tick: 465475\n"
     ]
    },
    {
     "name": "stderr",
     "output_type": "stream",
     "text": [
      "Simulated annealing progress:  74%|███████▎  | 735002/1000000 [28:27:33<14:06:15,  5.22iteration/s]"
     ]
    },
    {
     "name": "stdout",
     "output_type": "stream",
     "text": [
      "735000: Best Eval: 880.18858, CRC: 0.04906, Polyp: 0.18110, Tick: 467975\n"
     ]
    },
    {
     "name": "stderr",
     "output_type": "stream",
     "text": [
      "Simulated annealing progress:  74%|███████▍  | 737502/1000000 [28:33:44<16:14:03,  4.49iteration/s]"
     ]
    },
    {
     "name": "stdout",
     "output_type": "stream",
     "text": [
      "737500: Best Eval: 880.18858, CRC: 0.04906, Polyp: 0.18110, Tick: 470475\n"
     ]
    },
    {
     "name": "stderr",
     "output_type": "stream",
     "text": [
      "Simulated annealing progress:  74%|███████▍  | 740003/1000000 [28:36:18<3:18:46, 21.80iteration/s] "
     ]
    },
    {
     "name": "stdout",
     "output_type": "stream",
     "text": [
      "740000: Best Eval: 880.18858, CRC: 0.04906, Polyp: 0.18110, Tick: 472975\n"
     ]
    },
    {
     "name": "stderr",
     "output_type": "stream",
     "text": [
      "Simulated annealing progress:  74%|███████▍  | 742505/1000000 [28:40:50<3:06:20, 23.03iteration/s]  "
     ]
    },
    {
     "name": "stdout",
     "output_type": "stream",
     "text": [
      "742500: Best Eval: 880.18858, CRC: 0.04906, Polyp: 0.18110, Tick: 475475\n"
     ]
    },
    {
     "name": "stderr",
     "output_type": "stream",
     "text": [
      "Simulated annealing progress:  75%|███████▍  | 745006/1000000 [28:42:47<2:44:22, 25.86iteration/s] "
     ]
    },
    {
     "name": "stdout",
     "output_type": "stream",
     "text": [
      "745000: Best Eval: 880.18858, CRC: 0.04906, Polyp: 0.18110, Tick: 477975\n"
     ]
    },
    {
     "name": "stderr",
     "output_type": "stream",
     "text": [
      "Simulated annealing progress:  75%|███████▍  | 747504/1000000 [28:46:03<4:45:12, 14.75iteration/s] "
     ]
    },
    {
     "name": "stdout",
     "output_type": "stream",
     "text": [
      "747500: Best Eval: 880.18858, CRC: 0.04906, Polyp: 0.18110, Tick: 480475\n"
     ]
    },
    {
     "name": "stderr",
     "output_type": "stream",
     "text": [
      "Simulated annealing progress:  75%|███████▌  | 750005/1000000 [28:49:12<2:18:51, 30.01iteration/s] "
     ]
    },
    {
     "name": "stdout",
     "output_type": "stream",
     "text": [
      "750000: Best Eval: 880.18858, CRC: 0.04906, Polyp: 0.18110, Tick: 482975\n",
      "Detailed Progress Report, Iteration = 750000\n",
      "Monthly transition probabilities\n",
      "healthy to LR_polyp: Min: 0.00042, Max: 0.00102, Average: 0.00082\n",
      "LR_polyp to HR_polyp: Min: 0.00042, Max: 0.00214, Average: 0.00142\n",
      "HR_polyp to u_CRC_loc: Min: 0.00119, Max: 0.00244, Average: 0.00181\n",
      "u_CRC_loc to u_CRC_reg: Min: 0.02028, Max: 0.05695, Average: 0.03224\n",
      "u_CRC_reg to u_CRC_dis: Min: 0.02943, Max: 0.06406, Average: 0.04165\n",
      "u_CRC_loc to d_CRC_loc: Min: 0.01342, Max: 0.02070, Average: 0.01564\n",
      "u_CRC_reg to d_CRC_reg: Min: 0.05975, Max: 0.09344, Average: 0.06889\n",
      "u_CRC_dis to d_CRC_dis: Min: 0.09708, Max: 0.26783, Average: 0.15377\n",
      "\n",
      "Annual transition probabilities\n",
      "healthy to LR_polyp: Min: 0.00499, Max: 0.01221, Average: 0.00979\n",
      "LR_polyp to HR_polyp: Min: 0.00506, Max: 0.02537, Average: 0.01684\n",
      "HR_polyp to u_CRC_loc: Min: 0.01423, Max: 0.02886, Average: 0.02144\n",
      "u_CRC_loc to u_CRC_reg: Min: 0.21795, Max: 0.50519, Average: 0.31831\n",
      "u_CRC_reg to u_CRC_dis: Min: 0.30123, Max: 0.54818, Average: 0.39489\n",
      "u_CRC_loc to d_CRC_loc: Min: 0.14967, Max: 0.22203, Average: 0.17207\n",
      "u_CRC_reg to d_CRC_reg: Min: 0.52255, Max: 0.69187, Average: 0.57189\n",
      "u_CRC_dis to d_CRC_dis: Min: 0.70639, Max: 0.97627, Average: 0.82908\n"
     ]
    },
    {
     "name": "stderr",
     "output_type": "stream",
     "text": [
      "Simulated annealing progress:  75%|███████▌  | 752505/1000000 [28:50:54<2:24:14, 28.60iteration/s] "
     ]
    },
    {
     "name": "stdout",
     "output_type": "stream",
     "text": [
      "752500: Best Eval: 880.18858, CRC: 0.04906, Polyp: 0.18110, Tick: 485475\n"
     ]
    },
    {
     "name": "stderr",
     "output_type": "stream",
     "text": [
      "Simulated annealing progress:  76%|███████▌  | 755004/1000000 [28:52:26<2:22:01, 28.75iteration/s]"
     ]
    },
    {
     "name": "stdout",
     "output_type": "stream",
     "text": [
      "755000: Best Eval: 880.18858, CRC: 0.04906, Polyp: 0.18110, Tick: 487975\n"
     ]
    },
    {
     "name": "stderr",
     "output_type": "stream",
     "text": [
      "Simulated annealing progress:  76%|███████▌  | 757505/1000000 [28:53:56<2:18:03, 29.28iteration/s]"
     ]
    },
    {
     "name": "stdout",
     "output_type": "stream",
     "text": [
      "757500: Best Eval: 880.18858, CRC: 0.04906, Polyp: 0.18110, Tick: 490475\n"
     ]
    },
    {
     "name": "stderr",
     "output_type": "stream",
     "text": [
      "Simulated annealing progress:  76%|███████▌  | 760006/1000000 [28:55:26<2:30:37, 26.56iteration/s]"
     ]
    },
    {
     "name": "stdout",
     "output_type": "stream",
     "text": [
      "760000: Best Eval: 880.18858, CRC: 0.04906, Polyp: 0.18110, Tick: 492975\n"
     ]
    },
    {
     "name": "stderr",
     "output_type": "stream",
     "text": [
      "Simulated annealing progress:  76%|███████▋  | 762506/1000000 [28:56:57<2:16:39, 28.97iteration/s]"
     ]
    },
    {
     "name": "stdout",
     "output_type": "stream",
     "text": [
      "762500: Best Eval: 880.18858, CRC: 0.04906, Polyp: 0.18110, Tick: 495475\n"
     ]
    },
    {
     "name": "stderr",
     "output_type": "stream",
     "text": [
      "Simulated annealing progress:  77%|███████▋  | 765006/1000000 [28:58:28<2:27:55, 26.48iteration/s]"
     ]
    },
    {
     "name": "stdout",
     "output_type": "stream",
     "text": [
      "765000: Best Eval: 880.18858, CRC: 0.04906, Polyp: 0.18110, Tick: 497975\n"
     ]
    },
    {
     "name": "stderr",
     "output_type": "stream",
     "text": [
      "Simulated annealing progress:  77%|███████▋  | 767504/1000000 [28:59:59<2:30:18, 25.78iteration/s]"
     ]
    },
    {
     "name": "stdout",
     "output_type": "stream",
     "text": [
      "767500: Best Eval: 880.18858, CRC: 0.04906, Polyp: 0.18110, Tick: 500475\n"
     ]
    },
    {
     "name": "stderr",
     "output_type": "stream",
     "text": [
      "Simulated annealing progress:  77%|███████▋  | 770005/1000000 [29:01:30<2:14:57, 28.40iteration/s]"
     ]
    },
    {
     "name": "stdout",
     "output_type": "stream",
     "text": [
      "770000: Best Eval: 880.18858, CRC: 0.04906, Polyp: 0.18110, Tick: 502975\n"
     ]
    },
    {
     "name": "stderr",
     "output_type": "stream",
     "text": [
      "Simulated annealing progress:  77%|███████▋  | 772506/1000000 [29:03:01<2:26:10, 25.94iteration/s]"
     ]
    },
    {
     "name": "stdout",
     "output_type": "stream",
     "text": [
      "772500: Best Eval: 880.18858, CRC: 0.04906, Polyp: 0.18110, Tick: 505475\n"
     ]
    },
    {
     "name": "stderr",
     "output_type": "stream",
     "text": [
      "Simulated annealing progress:  78%|███████▊  | 775006/1000000 [29:04:32<2:17:41, 27.23iteration/s]"
     ]
    },
    {
     "name": "stdout",
     "output_type": "stream",
     "text": [
      "775000: Best Eval: 880.18858, CRC: 0.04906, Polyp: 0.18110, Tick: 507975\n"
     ]
    },
    {
     "name": "stderr",
     "output_type": "stream",
     "text": [
      "Simulated annealing progress:  78%|███████▊  | 777505/1000000 [29:06:03<2:10:28, 28.42iteration/s]"
     ]
    },
    {
     "name": "stdout",
     "output_type": "stream",
     "text": [
      "777500: Best Eval: 880.18858, CRC: 0.04906, Polyp: 0.18110, Tick: 510475\n"
     ]
    },
    {
     "name": "stderr",
     "output_type": "stream",
     "text": [
      "Simulated annealing progress:  78%|███████▊  | 780006/1000000 [29:07:32<2:08:55, 28.44iteration/s]"
     ]
    },
    {
     "name": "stdout",
     "output_type": "stream",
     "text": [
      "780000: Best Eval: 880.18858, CRC: 0.04906, Polyp: 0.18110, Tick: 512975\n"
     ]
    },
    {
     "name": "stderr",
     "output_type": "stream",
     "text": [
      "Simulated annealing progress:  78%|███████▊  | 782506/1000000 [29:09:03<2:13:58, 27.05iteration/s]"
     ]
    },
    {
     "name": "stdout",
     "output_type": "stream",
     "text": [
      "782500: Best Eval: 880.18858, CRC: 0.04906, Polyp: 0.18110, Tick: 515475\n"
     ]
    },
    {
     "name": "stderr",
     "output_type": "stream",
     "text": [
      "Simulated annealing progress:  79%|███████▊  | 785005/1000000 [29:10:34<2:10:08, 27.53iteration/s]"
     ]
    },
    {
     "name": "stdout",
     "output_type": "stream",
     "text": [
      "785000: Best Eval: 880.18858, CRC: 0.04906, Polyp: 0.18110, Tick: 517975\n"
     ]
    },
    {
     "name": "stderr",
     "output_type": "stream",
     "text": [
      "Simulated annealing progress:  79%|███████▉  | 787506/1000000 [29:12:07<2:05:52, 28.13iteration/s]"
     ]
    },
    {
     "name": "stdout",
     "output_type": "stream",
     "text": [
      "787500: Best Eval: 880.18858, CRC: 0.04906, Polyp: 0.18110, Tick: 520475\n"
     ]
    },
    {
     "name": "stderr",
     "output_type": "stream",
     "text": [
      "Simulated annealing progress:  79%|███████▉  | 790007/1000000 [29:13:39<2:07:01, 27.55iteration/s]"
     ]
    },
    {
     "name": "stdout",
     "output_type": "stream",
     "text": [
      "790000: Best Eval: 880.18858, CRC: 0.04906, Polyp: 0.18110, Tick: 522975\n"
     ]
    },
    {
     "name": "stderr",
     "output_type": "stream",
     "text": [
      "Simulated annealing progress:  79%|███████▉  | 792504/1000000 [29:15:10<2:16:29, 25.34iteration/s]"
     ]
    },
    {
     "name": "stdout",
     "output_type": "stream",
     "text": [
      "792500: Best Eval: 880.18858, CRC: 0.04906, Polyp: 0.18110, Tick: 525475\n"
     ]
    },
    {
     "name": "stderr",
     "output_type": "stream",
     "text": [
      "Simulated annealing progress:  80%|███████▉  | 795006/1000000 [29:16:43<2:05:32, 27.21iteration/s]"
     ]
    },
    {
     "name": "stdout",
     "output_type": "stream",
     "text": [
      "795000: Best Eval: 880.18858, CRC: 0.04906, Polyp: 0.18110, Tick: 527975\n"
     ]
    },
    {
     "name": "stderr",
     "output_type": "stream",
     "text": [
      "Simulated annealing progress:  80%|███████▉  | 797506/1000000 [29:18:15<2:08:18, 26.30iteration/s]"
     ]
    },
    {
     "name": "stdout",
     "output_type": "stream",
     "text": [
      "797500: Best Eval: 880.18858, CRC: 0.04906, Polyp: 0.18110, Tick: 530475\n"
     ]
    },
    {
     "name": "stderr",
     "output_type": "stream",
     "text": [
      "Simulated annealing progress:  80%|████████  | 800005/1000000 [29:19:47<2:10:15, 25.59iteration/s]"
     ]
    },
    {
     "name": "stdout",
     "output_type": "stream",
     "text": [
      "800000: Best Eval: 880.18858, CRC: 0.04906, Polyp: 0.18110, Tick: 532975\n",
      "Detailed Progress Report, Iteration = 800000\n",
      "Monthly transition probabilities\n",
      "healthy to LR_polyp: Min: 0.00042, Max: 0.00102, Average: 0.00082\n",
      "LR_polyp to HR_polyp: Min: 0.00042, Max: 0.00214, Average: 0.00142\n",
      "HR_polyp to u_CRC_loc: Min: 0.00119, Max: 0.00244, Average: 0.00181\n",
      "u_CRC_loc to u_CRC_reg: Min: 0.02028, Max: 0.05695, Average: 0.03224\n",
      "u_CRC_reg to u_CRC_dis: Min: 0.02943, Max: 0.06406, Average: 0.04165\n",
      "u_CRC_loc to d_CRC_loc: Min: 0.01342, Max: 0.02070, Average: 0.01564\n",
      "u_CRC_reg to d_CRC_reg: Min: 0.05975, Max: 0.09344, Average: 0.06889\n",
      "u_CRC_dis to d_CRC_dis: Min: 0.09708, Max: 0.26783, Average: 0.15377\n",
      "\n",
      "Annual transition probabilities\n",
      "healthy to LR_polyp: Min: 0.00499, Max: 0.01221, Average: 0.00979\n",
      "LR_polyp to HR_polyp: Min: 0.00506, Max: 0.02537, Average: 0.01684\n",
      "HR_polyp to u_CRC_loc: Min: 0.01423, Max: 0.02886, Average: 0.02144\n",
      "u_CRC_loc to u_CRC_reg: Min: 0.21795, Max: 0.50519, Average: 0.31831\n",
      "u_CRC_reg to u_CRC_dis: Min: 0.30123, Max: 0.54818, Average: 0.39489\n",
      "u_CRC_loc to d_CRC_loc: Min: 0.14967, Max: 0.22203, Average: 0.17207\n",
      "u_CRC_reg to d_CRC_reg: Min: 0.52255, Max: 0.69187, Average: 0.57189\n",
      "u_CRC_dis to d_CRC_dis: Min: 0.70639, Max: 0.97627, Average: 0.82908\n"
     ]
    },
    {
     "name": "stderr",
     "output_type": "stream",
     "text": [
      "Simulated annealing progress:  80%|████████  | 802505/1000000 [29:21:19<2:05:52, 26.15iteration/s]"
     ]
    },
    {
     "name": "stdout",
     "output_type": "stream",
     "text": [
      "802500: Best Eval: 880.18858, CRC: 0.04906, Polyp: 0.18110, Tick: 535475\n"
     ]
    },
    {
     "name": "stderr",
     "output_type": "stream",
     "text": [
      "Simulated annealing progress:  81%|████████  | 805005/1000000 [29:22:51<1:55:01, 28.26iteration/s]"
     ]
    },
    {
     "name": "stdout",
     "output_type": "stream",
     "text": [
      "805000: Best Eval: 880.18858, CRC: 0.04906, Polyp: 0.18110, Tick: 537975\n"
     ]
    },
    {
     "name": "stderr",
     "output_type": "stream",
     "text": [
      "Simulated annealing progress:  81%|████████  | 807506/1000000 [29:24:23<1:57:31, 27.30iteration/s]"
     ]
    },
    {
     "name": "stdout",
     "output_type": "stream",
     "text": [
      "807500: Best Eval: 880.18858, CRC: 0.04906, Polyp: 0.18110, Tick: 540475\n"
     ]
    },
    {
     "name": "stderr",
     "output_type": "stream",
     "text": [
      "Simulated annealing progress:  81%|████████  | 810007/1000000 [29:25:55<1:47:27, 29.47iteration/s]"
     ]
    },
    {
     "name": "stdout",
     "output_type": "stream",
     "text": [
      "810000: Best Eval: 880.18858, CRC: 0.04906, Polyp: 0.18110, Tick: 542975\n"
     ]
    },
    {
     "name": "stderr",
     "output_type": "stream",
     "text": [
      "Simulated annealing progress:  81%|████████▏ | 812504/1000000 [29:27:26<1:49:21, 28.58iteration/s]"
     ]
    },
    {
     "name": "stdout",
     "output_type": "stream",
     "text": [
      "812500: Best Eval: 880.18858, CRC: 0.04906, Polyp: 0.18110, Tick: 545475\n"
     ]
    },
    {
     "name": "stderr",
     "output_type": "stream",
     "text": [
      "Simulated annealing progress:  82%|████████▏ | 815005/1000000 [29:28:58<1:51:41, 27.61iteration/s]"
     ]
    },
    {
     "name": "stdout",
     "output_type": "stream",
     "text": [
      "815000: Best Eval: 880.18858, CRC: 0.04906, Polyp: 0.18110, Tick: 547975\n"
     ]
    },
    {
     "name": "stderr",
     "output_type": "stream",
     "text": [
      "Simulated annealing progress:  82%|████████▏ | 817505/1000000 [29:30:30<1:57:27, 25.89iteration/s]"
     ]
    },
    {
     "name": "stdout",
     "output_type": "stream",
     "text": [
      "817500: Best Eval: 880.18858, CRC: 0.04906, Polyp: 0.18110, Tick: 550475\n"
     ]
    },
    {
     "name": "stderr",
     "output_type": "stream",
     "text": [
      "Simulated annealing progress:  82%|████████▏ | 820005/1000000 [29:32:02<1:49:40, 27.35iteration/s]"
     ]
    },
    {
     "name": "stdout",
     "output_type": "stream",
     "text": [
      "820000: Best Eval: 880.18858, CRC: 0.04906, Polyp: 0.18110, Tick: 552975\n"
     ]
    },
    {
     "name": "stderr",
     "output_type": "stream",
     "text": [
      "Simulated annealing progress:  82%|████████▏ | 822505/1000000 [29:33:36<1:46:59, 27.65iteration/s] "
     ]
    },
    {
     "name": "stdout",
     "output_type": "stream",
     "text": [
      "822500: Best Eval: 880.18858, CRC: 0.04906, Polyp: 0.18110, Tick: 555475\n"
     ]
    },
    {
     "name": "stderr",
     "output_type": "stream",
     "text": [
      "Simulated annealing progress:  83%|████████▎ | 825005/1000000 [29:35:07<1:42:11, 28.54iteration/s]"
     ]
    },
    {
     "name": "stdout",
     "output_type": "stream",
     "text": [
      "825000: Best Eval: 880.18858, CRC: 0.04906, Polyp: 0.18110, Tick: 557975\n"
     ]
    },
    {
     "name": "stderr",
     "output_type": "stream",
     "text": [
      "Simulated annealing progress:  83%|████████▎ | 827506/1000000 [29:36:38<1:42:27, 28.06iteration/s]"
     ]
    },
    {
     "name": "stdout",
     "output_type": "stream",
     "text": [
      "827500: Best Eval: 880.18858, CRC: 0.04906, Polyp: 0.18110, Tick: 560475\n"
     ]
    },
    {
     "name": "stderr",
     "output_type": "stream",
     "text": [
      "Simulated annealing progress:  83%|████████▎ | 830006/1000000 [29:38:10<1:42:24, 27.67iteration/s]"
     ]
    },
    {
     "name": "stdout",
     "output_type": "stream",
     "text": [
      "830000: Best Eval: 880.18858, CRC: 0.04906, Polyp: 0.18110, Tick: 562975\n"
     ]
    },
    {
     "name": "stderr",
     "output_type": "stream",
     "text": [
      "Simulated annealing progress:  83%|████████▎ | 832505/1000000 [29:39:42<1:45:23, 26.49iteration/s]"
     ]
    },
    {
     "name": "stdout",
     "output_type": "stream",
     "text": [
      "832500: Best Eval: 880.18858, CRC: 0.04906, Polyp: 0.18110, Tick: 565475\n"
     ]
    },
    {
     "name": "stderr",
     "output_type": "stream",
     "text": [
      "Simulated annealing progress:  84%|████████▎ | 835004/1000000 [29:41:14<1:44:54, 26.21iteration/s]"
     ]
    },
    {
     "name": "stdout",
     "output_type": "stream",
     "text": [
      "835000: Best Eval: 880.18858, CRC: 0.04906, Polyp: 0.18110, Tick: 567975\n"
     ]
    },
    {
     "name": "stderr",
     "output_type": "stream",
     "text": [
      "Simulated annealing progress:  84%|████████▍ | 837505/1000000 [29:42:47<1:37:05, 27.89iteration/s]"
     ]
    },
    {
     "name": "stdout",
     "output_type": "stream",
     "text": [
      "837500: Best Eval: 880.18858, CRC: 0.04906, Polyp: 0.18110, Tick: 570475\n"
     ]
    },
    {
     "name": "stderr",
     "output_type": "stream",
     "text": [
      "Simulated annealing progress:  84%|████████▍ | 840006/1000000 [29:44:19<1:32:55, 28.70iteration/s]"
     ]
    },
    {
     "name": "stdout",
     "output_type": "stream",
     "text": [
      "840000: Best Eval: 880.18858, CRC: 0.04906, Polyp: 0.18110, Tick: 572975\n"
     ]
    },
    {
     "name": "stderr",
     "output_type": "stream",
     "text": [
      "Simulated annealing progress:  84%|████████▍ | 842505/1000000 [29:45:52<1:37:16, 26.98iteration/s]"
     ]
    },
    {
     "name": "stdout",
     "output_type": "stream",
     "text": [
      "842500: Best Eval: 880.18858, CRC: 0.04906, Polyp: 0.18110, Tick: 575475\n"
     ]
    },
    {
     "name": "stderr",
     "output_type": "stream",
     "text": [
      "Simulated annealing progress:  85%|████████▍ | 845003/1000000 [29:47:23<1:50:51, 23.30iteration/s]"
     ]
    },
    {
     "name": "stdout",
     "output_type": "stream",
     "text": [
      "845000: Best Eval: 880.18858, CRC: 0.04906, Polyp: 0.18110, Tick: 577975\n"
     ]
    },
    {
     "name": "stderr",
     "output_type": "stream",
     "text": [
      "Simulated annealing progress:  85%|████████▍ | 847505/1000000 [29:48:54<1:29:08, 28.51iteration/s]"
     ]
    },
    {
     "name": "stdout",
     "output_type": "stream",
     "text": [
      "847500: Best Eval: 880.18858, CRC: 0.04906, Polyp: 0.18110, Tick: 580475\n"
     ]
    },
    {
     "name": "stderr",
     "output_type": "stream",
     "text": [
      "Simulated annealing progress:  85%|████████▌ | 850005/1000000 [29:50:26<1:32:47, 26.94iteration/s]"
     ]
    },
    {
     "name": "stdout",
     "output_type": "stream",
     "text": [
      "850000: Best Eval: 880.18858, CRC: 0.04906, Polyp: 0.18110, Tick: 582975\n",
      "Detailed Progress Report, Iteration = 850000\n",
      "Monthly transition probabilities\n",
      "healthy to LR_polyp: Min: 0.00042, Max: 0.00102, Average: 0.00082\n",
      "LR_polyp to HR_polyp: Min: 0.00042, Max: 0.00214, Average: 0.00142\n",
      "HR_polyp to u_CRC_loc: Min: 0.00119, Max: 0.00244, Average: 0.00181\n",
      "u_CRC_loc to u_CRC_reg: Min: 0.02028, Max: 0.05695, Average: 0.03224\n",
      "u_CRC_reg to u_CRC_dis: Min: 0.02943, Max: 0.06406, Average: 0.04165\n",
      "u_CRC_loc to d_CRC_loc: Min: 0.01342, Max: 0.02070, Average: 0.01564\n",
      "u_CRC_reg to d_CRC_reg: Min: 0.05975, Max: 0.09344, Average: 0.06889\n",
      "u_CRC_dis to d_CRC_dis: Min: 0.09708, Max: 0.26783, Average: 0.15377\n",
      "\n",
      "Annual transition probabilities\n",
      "healthy to LR_polyp: Min: 0.00499, Max: 0.01221, Average: 0.00979\n",
      "LR_polyp to HR_polyp: Min: 0.00506, Max: 0.02537, Average: 0.01684\n",
      "HR_polyp to u_CRC_loc: Min: 0.01423, Max: 0.02886, Average: 0.02144\n",
      "u_CRC_loc to u_CRC_reg: Min: 0.21795, Max: 0.50519, Average: 0.31831\n",
      "u_CRC_reg to u_CRC_dis: Min: 0.30123, Max: 0.54818, Average: 0.39489\n",
      "u_CRC_loc to d_CRC_loc: Min: 0.14967, Max: 0.22203, Average: 0.17207\n",
      "u_CRC_reg to d_CRC_reg: Min: 0.52255, Max: 0.69187, Average: 0.57189\n",
      "u_CRC_dis to d_CRC_dis: Min: 0.70639, Max: 0.97627, Average: 0.82908\n"
     ]
    },
    {
     "name": "stderr",
     "output_type": "stream",
     "text": [
      "Simulated annealing progress:  85%|████████▌ | 852505/1000000 [29:51:58<1:21:27, 30.18iteration/s]"
     ]
    },
    {
     "name": "stdout",
     "output_type": "stream",
     "text": [
      "852500: Best Eval: 880.18858, CRC: 0.04906, Polyp: 0.18110, Tick: 585475\n"
     ]
    },
    {
     "name": "stderr",
     "output_type": "stream",
     "text": [
      "Simulated annealing progress:  86%|████████▌ | 855005/1000000 [29:53:30<1:29:13, 27.08iteration/s]"
     ]
    },
    {
     "name": "stdout",
     "output_type": "stream",
     "text": [
      "855000: Best Eval: 880.18858, CRC: 0.04906, Polyp: 0.18110, Tick: 587975\n"
     ]
    },
    {
     "name": "stderr",
     "output_type": "stream",
     "text": [
      "Simulated annealing progress:  86%|████████▌ | 857506/1000000 [29:55:01<1:21:26, 29.16iteration/s]"
     ]
    },
    {
     "name": "stdout",
     "output_type": "stream",
     "text": [
      "857500: Best Eval: 880.18858, CRC: 0.04906, Polyp: 0.18110, Tick: 590475\n"
     ]
    },
    {
     "name": "stderr",
     "output_type": "stream",
     "text": [
      "Simulated annealing progress:  86%|████████▌ | 860005/1000000 [29:56:32<1:18:57, 29.55iteration/s]"
     ]
    },
    {
     "name": "stdout",
     "output_type": "stream",
     "text": [
      "860000: Best Eval: 880.18858, CRC: 0.04906, Polyp: 0.18110, Tick: 592975\n"
     ]
    },
    {
     "name": "stderr",
     "output_type": "stream",
     "text": [
      "Simulated annealing progress:  86%|████████▋ | 862506/1000000 [29:58:04<1:23:06, 27.57iteration/s]"
     ]
    },
    {
     "name": "stdout",
     "output_type": "stream",
     "text": [
      "862500: Best Eval: 880.18858, CRC: 0.04906, Polyp: 0.18110, Tick: 595475\n"
     ]
    },
    {
     "name": "stderr",
     "output_type": "stream",
     "text": [
      "Simulated annealing progress:  87%|████████▋ | 865004/1000000 [29:59:37<1:19:35, 28.27iteration/s]"
     ]
    },
    {
     "name": "stdout",
     "output_type": "stream",
     "text": [
      "865000: Best Eval: 880.18858, CRC: 0.04906, Polyp: 0.18110, Tick: 597975\n"
     ]
    },
    {
     "name": "stderr",
     "output_type": "stream",
     "text": [
      "Simulated annealing progress:  87%|████████▋ | 867507/1000000 [30:01:10<1:16:33, 28.84iteration/s]"
     ]
    },
    {
     "name": "stdout",
     "output_type": "stream",
     "text": [
      "867500: Best Eval: 880.18858, CRC: 0.04906, Polyp: 0.18110, Tick: 600475\n"
     ]
    },
    {
     "name": "stderr",
     "output_type": "stream",
     "text": [
      "Simulated annealing progress:  87%|████████▋ | 870004/1000000 [30:02:42<1:14:50, 28.95iteration/s]"
     ]
    },
    {
     "name": "stdout",
     "output_type": "stream",
     "text": [
      "870000: Best Eval: 880.18858, CRC: 0.04906, Polyp: 0.18110, Tick: 602975\n"
     ]
    },
    {
     "name": "stderr",
     "output_type": "stream",
     "text": [
      "Simulated annealing progress:  87%|████████▋ | 872506/1000000 [30:04:13<1:12:04, 29.48iteration/s]"
     ]
    },
    {
     "name": "stdout",
     "output_type": "stream",
     "text": [
      "872500: Best Eval: 880.18858, CRC: 0.04906, Polyp: 0.18110, Tick: 605475\n"
     ]
    },
    {
     "name": "stderr",
     "output_type": "stream",
     "text": [
      "Simulated annealing progress:  88%|████████▊ | 875006/1000000 [30:05:45<1:19:06, 26.34iteration/s]"
     ]
    },
    {
     "name": "stdout",
     "output_type": "stream",
     "text": [
      "875000: Best Eval: 880.18858, CRC: 0.04906, Polyp: 0.18110, Tick: 607975\n"
     ]
    },
    {
     "name": "stderr",
     "output_type": "stream",
     "text": [
      "Simulated annealing progress:  88%|████████▊ | 877504/1000000 [30:07:17<1:17:59, 26.18iteration/s]"
     ]
    },
    {
     "name": "stdout",
     "output_type": "stream",
     "text": [
      "877500: Best Eval: 880.18858, CRC: 0.04906, Polyp: 0.18110, Tick: 610475\n"
     ]
    },
    {
     "name": "stderr",
     "output_type": "stream",
     "text": [
      "Simulated annealing progress:  88%|████████▊ | 880004/1000000 [30:08:49<1:10:57, 28.18iteration/s]"
     ]
    },
    {
     "name": "stdout",
     "output_type": "stream",
     "text": [
      "880000: Best Eval: 880.18858, CRC: 0.04906, Polyp: 0.18110, Tick: 612975\n"
     ]
    },
    {
     "name": "stderr",
     "output_type": "stream",
     "text": [
      "Simulated annealing progress:  88%|████████▊ | 882504/1000000 [30:10:20<1:16:27, 25.61iteration/s]"
     ]
    },
    {
     "name": "stdout",
     "output_type": "stream",
     "text": [
      "882500: Best Eval: 880.18858, CRC: 0.04906, Polyp: 0.18110, Tick: 615475\n"
     ]
    },
    {
     "name": "stderr",
     "output_type": "stream",
     "text": [
      "Simulated annealing progress:  89%|████████▊ | 885004/1000000 [30:11:52<1:12:37, 26.39iteration/s]"
     ]
    },
    {
     "name": "stdout",
     "output_type": "stream",
     "text": [
      "885000: Best Eval: 880.18858, CRC: 0.04906, Polyp: 0.18110, Tick: 617975\n"
     ]
    },
    {
     "name": "stderr",
     "output_type": "stream",
     "text": [
      "Simulated annealing progress:  89%|████████▉ | 887506/1000000 [30:13:24<1:07:16, 27.87iteration/s]"
     ]
    },
    {
     "name": "stdout",
     "output_type": "stream",
     "text": [
      "887500: Best Eval: 880.18858, CRC: 0.04906, Polyp: 0.18110, Tick: 620475\n"
     ]
    },
    {
     "name": "stderr",
     "output_type": "stream",
     "text": [
      "Simulated annealing progress:  89%|████████▉ | 890004/1000000 [30:14:56<1:04:05, 28.60iteration/s]"
     ]
    },
    {
     "name": "stdout",
     "output_type": "stream",
     "text": [
      "890000: Best Eval: 880.18858, CRC: 0.04906, Polyp: 0.18110, Tick: 622975\n"
     ]
    },
    {
     "name": "stderr",
     "output_type": "stream",
     "text": [
      "Simulated annealing progress:  89%|████████▉ | 892502/1000000 [46:54:30<2:34:36, 11.59iteration/s]       "
     ]
    },
    {
     "name": "stdout",
     "output_type": "stream",
     "text": [
      "892500: Best Eval: 880.18858, CRC: 0.04906, Polyp: 0.18110, Tick: 625475\n"
     ]
    },
    {
     "name": "stderr",
     "output_type": "stream",
     "text": [
      "Simulated annealing progress:  90%|████████▉ | 895011/1000000 [46:56:05<30:56, 56.57iteration/s]  "
     ]
    },
    {
     "name": "stdout",
     "output_type": "stream",
     "text": [
      "895000: Best Eval: 880.18858, CRC: 0.04906, Polyp: 0.18110, Tick: 627975\n"
     ]
    },
    {
     "name": "stderr",
     "output_type": "stream",
     "text": [
      "Simulated annealing progress:  90%|████████▉ | 895023/1000000 [46:56:05<5:30:17,  5.30iteration/s]\n"
     ]
    },
    {
     "ename": "KeyboardInterrupt",
     "evalue": "",
     "output_type": "error",
     "traceback": [
      "\u001b[1;31m---------------------------------------------------------------------------\u001b[0m",
      "\u001b[1;31mKeyboardInterrupt\u001b[0m                         Traceback (most recent call last)",
      "Cell \u001b[1;32mIn[8], line 2\u001b[0m\n\u001b[0;32m      1\u001b[0m result \u001b[38;5;241m=\u001b[39m create_matrix()\n\u001b[1;32m----> 2\u001b[0m result \u001b[38;5;241m=\u001b[39m \u001b[43mrun_sa\u001b[49m\u001b[43m(\u001b[49m\u001b[43mresult\u001b[49m\u001b[43m,\u001b[49m\u001b[43m \u001b[49m\u001b[38;5;28;43;01mTrue\u001b[39;49;00m\u001b[43m,\u001b[49m\u001b[43m \u001b[49m\u001b[38;5;241;43m1000000\u001b[39;49m\u001b[43m,\u001b[49m\u001b[43m \u001b[49m\u001b[43mstep_size\u001b[49m\u001b[38;5;241;43m=\u001b[39;49m\u001b[38;5;241;43m0.3\u001b[39;49m\u001b[43m,\u001b[49m\u001b[43m \u001b[49m\u001b[43mn_adj\u001b[49m\u001b[38;5;241;43m=\u001b[39;49m\u001b[38;5;241;43m7\u001b[39;49m\u001b[43m,\u001b[49m\u001b[43m \u001b[49m\u001b[43mobj\u001b[49m\u001b[38;5;241;43m=\u001b[39;49m\u001b[38;5;124;43m\"\u001b[39;49m\u001b[38;5;124;43mpol\u001b[39;49m\u001b[38;5;124;43m\"\u001b[39;49m\u001b[43m,\u001b[49m\u001b[43m \u001b[49m\u001b[43mstarting_temp\u001b[49m\u001b[38;5;241;43m=\u001b[39;49m\u001b[38;5;241;43m25\u001b[39;49m\u001b[43m)\u001b[49m\n",
      "Cell \u001b[1;32mIn[7], line 9\u001b[0m, in \u001b[0;36mrun_sa\u001b[1;34m(tmat, save_all, n_iterations, step_size, n_adj, starting_temp, obj)\u001b[0m\n\u001b[0;32m      6\u001b[0m \u001b[38;5;28mprint\u001b[39m(\u001b[38;5;124mf\u001b[39m\u001b[38;5;124m\"\u001b[39m\u001b[38;5;124mInitial score: \u001b[39m\u001b[38;5;132;01m{\u001b[39;00m\u001b[38;5;28mround\u001b[39m(initial_score,\u001b[38;5;250m \u001b[39m\u001b[38;5;241m5\u001b[39m)\u001b[38;5;132;01m}\u001b[39;00m\u001b[38;5;124m\"\u001b[39m)\n\u001b[0;32m      7\u001b[0m \u001b[38;5;66;03m# print(\"Starting calibration...\")\u001b[39;00m\n\u001b[1;32m----> 9\u001b[0m result \u001b[38;5;241m=\u001b[39m \u001b[43msimulated_annealing\u001b[49m\u001b[43m(\u001b[49m\u001b[43mn_iterations\u001b[49m\u001b[38;5;241;43m=\u001b[39;49m\u001b[43mn_iterations\u001b[49m\u001b[43m,\u001b[49m\u001b[43m \u001b[49m\u001b[43mstep_size\u001b[49m\u001b[38;5;241;43m=\u001b[39;49m\u001b[43mstep_size\u001b[49m\u001b[43m,\u001b[49m\u001b[43m \u001b[49m\u001b[43mstart_tmat\u001b[49m\u001b[38;5;241;43m=\u001b[39;49m\u001b[43mtmat\u001b[49m\u001b[43m,\u001b[49m\u001b[43m \u001b[49m\u001b[43mn_adj\u001b[49m\u001b[38;5;241;43m=\u001b[39;49m\u001b[43mn_adj\u001b[49m\u001b[43m,\u001b[49m\u001b[43m \u001b[49m\u001b[43mstarting_temp\u001b[49m\u001b[38;5;241;43m=\u001b[39;49m\u001b[43mstarting_temp\u001b[49m\u001b[43m,\u001b[49m\u001b[43m \u001b[49m\u001b[43mverbose\u001b[49m\u001b[38;5;241;43m=\u001b[39;49m\u001b[38;5;28;43;01mTrue\u001b[39;49;00m\u001b[43m,\u001b[49m\u001b[43m \u001b[49m\u001b[43mobj\u001b[49m\u001b[38;5;241;43m=\u001b[39;49m\u001b[43mobj\u001b[49m\u001b[43m)\u001b[49m\n\u001b[0;32m     10\u001b[0m timestamp \u001b[38;5;241m=\u001b[39m datetime\u001b[38;5;241m.\u001b[39mnow()\u001b[38;5;241m.\u001b[39mstrftime(\u001b[38;5;124m\"\u001b[39m\u001b[38;5;124m%\u001b[39m\u001b[38;5;124mY\u001b[39m\u001b[38;5;124m%\u001b[39m\u001b[38;5;124mm\u001b[39m\u001b[38;5;132;01m%d\u001b[39;00m\u001b[38;5;124m_\u001b[39m\u001b[38;5;124m%\u001b[39m\u001b[38;5;124mH\u001b[39m\u001b[38;5;124m%\u001b[39m\u001b[38;5;124mM\u001b[39m\u001b[38;5;124m\"\u001b[39m)\n\u001b[0;32m     12\u001b[0m curr_tmat \u001b[38;5;241m=\u001b[39m result\u001b[38;5;241m.\u001b[39mcopy()\n",
      "Cell \u001b[1;32mIn[6], line 30\u001b[0m, in \u001b[0;36msimulated_annealing\u001b[1;34m(n_iterations, step_size, start_tmat, n_adj, verbose, starting_temp, print_interval, obj)\u001b[0m\n\u001b[0;32m     28\u001b[0m candidate_t \u001b[38;5;241m=\u001b[39m np\u001b[38;5;241m.\u001b[39mcopy(curr_t)\n\u001b[0;32m     29\u001b[0m candidate_t \u001b[38;5;241m=\u001b[39m step(candidate_t, step_size, n_adj)\n\u001b[1;32m---> 30\u001b[0m candidate_log \u001b[38;5;241m=\u001b[39m \u001b[43mrun_markov\u001b[49m\u001b[43m(\u001b[49m\u001b[43mcandidate_t\u001b[49m\u001b[43m)\u001b[49m\n\u001b[0;32m     31\u001b[0m candidate_eval \u001b[38;5;241m=\u001b[39m gof\u001b[38;5;241m.\u001b[39mobjective(candidate_log, i, obj)  \u001b[38;5;66;03m# Evaluate candidate point\u001b[39;00m\n\u001b[0;32m     33\u001b[0m \u001b[38;5;66;03m# Update \"best\" if better than candidate\u001b[39;00m\n",
      "Cell \u001b[1;32mIn[3], line 19\u001b[0m, in \u001b[0;36mrun_markov\u001b[1;34m(matrix, starting_age, max_age)\u001b[0m\n\u001b[0;32m     17\u001b[0m \u001b[38;5;66;03m# Add to log\u001b[39;00m\n\u001b[0;32m     18\u001b[0m inc_log \u001b[38;5;241m=\u001b[39m np\u001b[38;5;241m.\u001b[39mconcatenate((inc_log, month_inc), axis\u001b[38;5;241m=\u001b[39m\u001b[38;5;241m1\u001b[39m)\n\u001b[1;32m---> 19\u001b[0m pop_log \u001b[38;5;241m=\u001b[39m \u001b[43mnp\u001b[49m\u001b[38;5;241;43m.\u001b[39;49m\u001b[43mconcatenate\u001b[49m\u001b[43m(\u001b[49m\u001b[43m(\u001b[49m\u001b[43mpop_log\u001b[49m\u001b[43m,\u001b[49m\u001b[43m \u001b[49m\u001b[43mmonth_pop\u001b[49m\u001b[43m)\u001b[49m\u001b[43m,\u001b[49m\u001b[43m \u001b[49m\u001b[43maxis\u001b[49m\u001b[38;5;241;43m=\u001b[39;49m\u001b[38;5;241;43m1\u001b[39;49m\u001b[43m)\u001b[49m\n\u001b[0;32m     21\u001b[0m stage \u001b[38;5;241m+\u001b[39m\u001b[38;5;241m=\u001b[39m \u001b[38;5;241m1\u001b[39m\n\u001b[0;32m     22\u001b[0m \u001b[38;5;28;01mif\u001b[39;00m stage \u001b[38;5;241m%\u001b[39m \u001b[38;5;241m12\u001b[39m \u001b[38;5;241m==\u001b[39m \u001b[38;5;241m0\u001b[39m:\n",
      "\u001b[1;31mKeyboardInterrupt\u001b[0m: "
     ]
    }
   ],
   "source": [
    "result = create_matrix()\n",
    "result = run_sa(result, True, 1000000, step_size=0.3, n_adj=7, obj=\"pol\", starting_temp=25)"
   ]
  },
  {
   "cell_type": "markdown",
   "metadata": {},
   "source": [
    "### Current"
   ]
  },
  {
   "cell_type": "markdown",
   "metadata": {},
   "source": [
    "## Post-processing"
   ]
  },
  {
   "cell_type": "code",
   "execution_count": 54,
   "metadata": {},
   "outputs": [],
   "source": [
    "\n",
    "def objective_cp(tmat):\n",
    "    score = 0\n",
    "    cp = cancer_progression(tmat)\n",
    "    score += np.square(cp-3.0).sum()\n",
    "    return score\n",
    "    \n",
    "def cancer_progression(tmat):\n",
    "    \"\"\"\n",
    "    Calculate time from preclinical local to preclinical distant. MFPT\n",
    "    \"\"\"\n",
    "    p_12 = tmat[:, 3, 4] # loc to reg\n",
    "    p_23 = tmat[:, 4, 5] # reg to dis\n",
    "    p_11 = tmat[:, 3, 3] # stay loc\n",
    "    p_22 = tmat[:, 4, 4] # stay reg\n",
    "    p_33 = tmat[:, 5, 5] # stay dis\n",
    "    \n",
    "    cp = (1 + p_12 * (1 + p_23 * (1 / (1 - p_33))) * (1 / (1 - p_22))) * (1 / (1 - p_11))\n",
    "    \n",
    "    return cp\n",
    "    \n",
    "    \n",
    "def sojourn_time_weighted(tm, metric=\"mean\"):\n",
    "    \"\"\"\n",
    "    Calculate  time spent in each path.\n",
    "    \"\"\"\n",
    "    in_loc, in_reg, in_dis = [1/(1-tm[:, x, x]) for x in [3,4,5]]\n",
    "    mloc = in_loc\n",
    "    mreg = in_loc + in_reg\n",
    "    mdis = (in_loc + in_reg * tm[:, 3, 4]) + in_dis\n",
    "    \n",
    "    if metric == \"mean\": # Mean across paths per age \n",
    "        sj_time =  np.mean([mloc, mreg, mdis], axis=0)\n",
    "    else: # Each path per age\n",
    "        sj_time = np.array([mloc, mreg, mdis])\n",
    "    \n",
    "    return sj_time\n",
    "\n",
    "def sojourn_time_weighted2(tm):\n",
    "    \"\"\"\n",
    "    Calculate  time spent in each path, weighted by stage.\n",
    "    \"\"\"\n",
    "    in_loc, in_reg, in_dis = [1/(1-tm[:, x, x]) for x in [3,4,5]]\n",
    "    mloc = in_loc\n",
    "    mreg = in_loc * tm[:, 3, 4] + in_reg\n",
    "    mdis = in_loc * tm[:, 3, 4] + in_reg * tm[:, 4, 5] + in_dis\n",
    "    sj_time = np.array([mloc, mreg, mdis])\n",
    "    \n",
    "    return sj_time\n",
    "\n",
    "def sojourn_time_in_stage(tmat):\n",
    "    \"\"\"\n",
    "    Calculate mean time in each state. Average over all states.\n",
    "    \"\"\"\n",
    "    sojourn_times = np.zeros((3,80))\n",
    "    for i in np.arange(3,6,1):\n",
    "        p_stay = tmat[:, i, i]\n",
    "        sojourn_times[i-3] = 1 / (1 - p_stay)\n",
    "    return sojourn_times"
   ]
  },
  {
   "cell_type": "code",
   "execution_count": 5,
   "metadata": {},
   "outputs": [],
   "source": [
    "from scipy.stats import sem, t\n",
    "\n",
    "def summarize_data(data):\n",
    "    \"\"\"\n",
    "    Returns the min, max, median, mean, and 95% confidence interval of a dataset.\n",
    "    \n",
    "    Parameters:\n",
    "        data (list or numpy array): Input data\n",
    "    \n",
    "    Returns:\n",
    "        dict: Summary statistics\n",
    "    \"\"\"\n",
    "    if len(data) == 0:\n",
    "        return \"Data is empty.\"\n",
    "    \n",
    "    # Convert to numpy array for convenience\n",
    "    data = np.array(data)\n",
    "    \n",
    "    # Summary statistics\n",
    "    min_val = np.min(data)\n",
    "    max_val = np.max(data)\n",
    "    median_val = np.median(data)\n",
    "    mean_val = np.mean(data)\n",
    "    \n",
    "    # Compute 95% confidence interval\n",
    "    confidence = 0.95\n",
    "    n = len(data)\n",
    "    if n > 1:\n",
    "        std_err = sem(data)\n",
    "        h = std_err * t.ppf((1 + confidence) / 2, n - 1)\n",
    "        ci_lower = mean_val - h\n",
    "        ci_upper = mean_val + h\n",
    "    else:\n",
    "        ci_lower = ci_upper = mean_val  # No confidence interval for a single data point\n",
    "\n",
    "    return {\n",
    "        \"min\": min_val,\n",
    "        \"max\": max_val,\n",
    "        \"median\": median_val,\n",
    "        \"mean\": mean_val,\n",
    "        \"95% CI\": (ci_lower, ci_upper)\n",
    "    }"
   ]
  },
  {
   "cell_type": "code",
   "execution_count": null,
   "metadata": {},
   "outputs": [],
   "source": [
    "loc, reg, dis = sojourn_time_weighted(tmat, metric=\"\")\n",
    "total = sojourn_time_weighted(tmat)\n",
    "print(summarize_data(loc))\n",
    "print(summarize_data(reg))\n",
    "print(summarize_data(dis))\n",
    "print(summarize_data(total))\n",
    "\n",
    "plt.plot(np.arange(0,80,1), loc, color=\"blue\", label=\"L\")\n",
    "plt.plot(np.arange(0,80,1), reg, color=\"red\", label=\"R\")\n",
    "plt.plot(np.arange(0,80,1), dis, color=\"green\", label=\"D\")\n",
    "plt.plot(np.arange(0,80,1), total, color=\"grey\", label=\"All\")\n",
    "plt.title(\"Sojourn Time by Age (cumulative uL->dX)\")\n",
    "plt.xlabel(\"Age\")\n",
    "plt.ylabel(\"Months\")\n",
    "plt.legend()\n",
    "plt.show()\n",
    "\n",
    "import seaborn as sns\n",
    "plt.hist(loc, bins=30, density=True, alpha=0.6, color=\"blue\", label=\"Loc\")\n",
    "plt.hist(reg, bins=30, density=True, alpha=0.6, color=\"red\", label=\"Reg\")\n",
    "plt.hist(dis, bins=30, density=True, alpha=0.6, color=\"green\", label=\"Dis \")\n",
    "sns.kdeplot(loc, fill=True, color=\"blue\", alpha=0.3, clip=(0, None))  \n",
    "sns.kdeplot(reg, fill=True, color=\"red\", alpha=0.3, clip=(0, None))  \n",
    "sns.kdeplot(dis, fill=True, color=\"green\", alpha=0.3, clip=(0, None))\n",
    "plt.title(\"Density Distribution of Sojourn Time by Stage at DX (cumulative uL->dX)\")\n",
    "plt.xlabel(\"Months\")\n",
    "plt.ylabel(\"Density\")\n",
    "plt.legend()\n",
    "plt.show()"
   ]
  },
  {
   "cell_type": "markdown",
   "metadata": {},
   "source": [
    "## Extend Parameters to Age 100\n",
    "\n",
    "- Use cubic spline interpolation to interpolate probabilities from 20-100\n",
    "- Anchor increasing parameters at age 100 to prevent exponential incidence increase"
   ]
  },
  {
   "cell_type": "code",
   "execution_count": null,
   "metadata": {},
   "outputs": [],
   "source": [
    "def smooth_tmat(mat, save=False, outpath=\"\", timestamp=\"\"):\n",
    "    \n",
    "    # Interpolation without anchoring\n",
    "    tmat = csaps(age_mids, mat, smooth=0.01, axis=2)(np.linspace(20,100,81)) \n",
    "    \n",
    "    # Anchor with mean at 100 (if mean < last age bucket value) and Smooth interpolation over age\n",
    "    tmat_anchored = np.concatenate([mat, np.minimum(mat[-1:, :, :], np.mean(mat, axis=0, keepdims=True))], axis=0)\n",
    "    tmat_anchored = csaps([25,35,45,52.5,57.5,62.5,67.5,72.5,77.5,82.5, 100], tmat_anchored, smooth=0.01, axis=2)(np.linspace(18,100,83)).clip(0.0, 1.0)\n",
    "\n",
    "    # If smoothed tmat is exp increasing towards end, used anchored probs\n",
    "    increasing_at_100 = tmat[-2:-1, :, :] < tmat[-1:, :, :]\n",
    "    tmat_anchored = np.where(increasing_at_100, tmat_anchored, tmat)\n",
    "    transition_mask = np.zeros((14, 14), dtype=bool)\n",
    "    from_states, to_states = zip(*c.points)\n",
    "    transition_mask[from_states, to_states] = True\n",
    "    tmat_anchored = np.where(increasing_at_100 & transition_mask[np.newaxis, ...], tmat_anchored, tmat)\n",
    "\n",
    "    tmat = tmat_anchored\n",
    "    \n",
    "    # HANDLE NEGATIVE CASE: Sometimes spline dips below 0 and becomes positive again, causing a spike after clipping the matrix to 0 and 1.\n",
    "    # Find the index of the first negative before a positive index from the last age\n",
    "    neg_after_pos = ((tmat[:, :, :-1, :, :] >= 0) & (tmat[:, :, 1:, :, :] < 0)) # any negative after positive marked True\n",
    "    neg_after_pos = np.insert(neg_after_pos, 0, False, axis=0) # insert False at the first index to make arr shape same as tmat, by definition first idx is False\n",
    "    neg_after_pos_reversed = np.flip(neg_after_pos, axis=0)\n",
    "    last_neg_after_pos_til_end = np.flip(np.where(np.cumsum(neg_after_pos_reversed, axis=0) == 0, True, neg_after_pos_reversed), axis=0) # reverse to find the last True, set values from last True until end to True\n",
    "    mask = np.any(neg_after_pos, axis=2).reshape(2, 2, 1, 18, 18) & last_neg_after_pos_til_end # only apply this to indices that have negative at the end\n",
    "    # Set indices from last negative after positive to end to zero\n",
    "    tmat[mask] = 0\n",
    "\n",
    "    tmat = row_normalize(tmat)\n",
    "\n",
    "    if save:\n",
    "      os.makedirs(outpath, exist_ok=True)\n",
    "      # Save tmat\n",
    "      np.save(f\"{outpath}/{timestamp}_100.npy\", tmat)\n",
    "    return tmat"
   ]
  }
 ],
 "metadata": {
  "kernelspec": {
   "display_name": "drcrc_env",
   "language": "python",
   "name": "python3"
  },
  "language_info": {
   "codemirror_mode": {
    "name": "ipython",
    "version": 3
   },
   "file_extension": ".py",
   "mimetype": "text/x-python",
   "name": "python",
   "nbconvert_exporter": "python",
   "pygments_lexer": "ipython3",
   "version": "3.12.4"
  }
 },
 "nbformat": 4,
 "nbformat_minor": 2
}
