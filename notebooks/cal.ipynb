{
 "cells": [
  {
   "cell_type": "markdown",
   "metadata": {},
   "source": [
    "# DR CRC Calibration\n",
    "\n",
    "Author: Sophie Wagner, sw3767@cumc.columbia.edu"
   ]
  },
  {
   "cell_type": "code",
   "execution_count": 1,
   "metadata": {},
   "outputs": [],
   "source": [
    "# Required Packages\n",
    "import numpy as np  # For matrix manipulation\n",
    "import pandas as pd  # For output/input data processing\n",
    "import matplotlib.pyplot as plt  # For visualizations\n",
    "from csaps import csaps\n",
    "from scipy.interpolate import interp1d\n",
    "from tqdm import tqdm\n",
    "from datetime import datetime\n",
    "\n",
    "# Add the src directory to the Python path\n",
    "import sys\n",
    "import os\n",
    "sys.path.append(os.path.abspath('../src'))\n",
    "\n",
    "# Load .py files\n",
    "import common_functions as func\n",
    "import calibration_plots as p\n",
    "import configs as c\n",
    "import gof\n",
    "\n",
    "\n",
    "# Some aesthetic options\n",
    "np.set_printoptions(suppress=True, linewidth=300, formatter={'float': '{: 0.9f}'.format})\n",
    "pd.set_option('display.max_columns', None)\n",
    "pd.set_option('display.max_rows', None)"
   ]
  },
  {
   "cell_type": "markdown",
   "metadata": {},
   "source": [
    "### Matrix setup, normalization, constraints"
   ]
  },
  {
   "cell_type": "code",
   "execution_count": 13,
   "metadata": {},
   "outputs": [],
   "source": [
    "def row_normalize(matrix):\n",
    "    for age_layer in range(matrix.shape[0]):  # Loop over each age layer\n",
    "        layer = matrix[age_layer]\n",
    "        # Calculate the sum of non-diagonal elements for each row\n",
    "        sum_of_columns = np.sum(layer, axis=1) - np.diag(layer)\n",
    "        # Set the diagonal elements\n",
    "        np.fill_diagonal(layer, 1 - sum_of_columns)\n",
    "    return matrix\n",
    "\n",
    "\n",
    "def create_matrix():\n",
    "    matrix = np.zeros((len(c.age_layers), len(c.health_states), len(c.health_states)))\n",
    "    matrix[:, 0, 1] = func.probtoprob(0.005)  # Healthy to LR\n",
    "    matrix[:, 1, 2] = func.probtoprob(0.015)  # LR to HR\n",
    "    matrix[:, 2, 3] = func.probtoprob(0.05)  # HR to uLoc\n",
    "    matrix[:, 3, 4] = func.probtoprob(0.45)  # uLoc to uReg\n",
    "    matrix[:, 4, 5] = func.probtoprob(0.50)  # uReg to uDis\n",
    "    matrix[:, 3, 6] = func.probtoprob(0.20)  # uLoc to dLoc\n",
    "    matrix[:, 4, 7] = func.probtoprob(0.60)  # uReg to dReg\n",
    "    matrix[:, 5, 8] = func.probtoprob(0.90)  # uDis to dDis\n",
    "\n",
    "    matrix = add_acm(matrix)  # ACM\n",
    "    matrix = add_csd(matrix)  # CSD\n",
    "    matrix = constrain_matrix(matrix)  # constrain\n",
    "    matrix = row_normalize(matrix)  # normalize\n",
    "\n",
    "    return matrix\n",
    "\n",
    "\n",
    "def constrain_matrix(matrix):\n",
    "    matrix = np.clip(matrix, 0.0, 0.5)\n",
    "\n",
    "    # Progression Block\n",
    "    matrix[:, 0, 1] = np.maximum(0.000001, matrix[:, 0, 1])  # not below 0\n",
    "    matrix[:, 1, 2] = np.maximum(matrix[:, 0, 1], matrix[:, 1, 2])  \n",
    "    matrix[:, 2, 3] = np.maximum(matrix[:, 1, 2], matrix[:, 2, 3])\n",
    "    matrix[:, 3, 4] = np.maximum(matrix[:, 2, 3], matrix[:, 3, 4])\n",
    "    matrix[:, 4, 5] = np.maximum(matrix[:, 3, 4], matrix[:, 4, 5])\n",
    "\n",
    "    # Detection Block\n",
    "    matrix[:, 3, 6] = np.maximum(0.000001, matrix[:, 3, 6])\n",
    "    matrix[:, 4, 7] = np.maximum(matrix[:, 3, 6], matrix[:, 4, 7])\n",
    "    matrix[:, 5, 8] = np.maximum(matrix[:, 4, 7], matrix[:, 5, 8])\n",
    "    \n",
    "    # Age dependencies\n",
    "    # matrix[:, 0, 1] = np.maximum.accumulate(matrix[:,0,1])\n",
    "    # matrix[:, 1, 2] = np.maximum.accumulate(matrix[:,0,1])\n",
    "    # matrix[:, 2, 3] = np.maximum.accumulate(matrix[:,0,1])\n",
    "\n",
    "    return matrix\n",
    "\n",
    "\n",
    "def add_acm(matrix):\n",
    "    matrix[:, 0, 10] = c.acm_rate  # Healthy to ACM\n",
    "    matrix[:, 1:3, 12] = c.acm_rate[:, np.newaxis]  # Polyp to ACM\n",
    "    matrix[:, 3:6, 13] = c.acm_rate[:, np.newaxis]  # Undiagnosed to ACM\n",
    "    matrix[:, 6:9, 11] = c.acm_rate[:, np.newaxis]  # Cancer to ACM\n",
    "    matrix[:, 9, 9] = 1  # Stay in CSD\n",
    "    matrix[:, 10, 10] = 1  # Stay in ACM\n",
    "    matrix[:, 11, 11] = 1  # Stay in Cancer ACM\n",
    "    matrix[:, 12, 12] = 1  # Stay in Polyp ACM\n",
    "    matrix[:, 13, 13] = 1  # Stay in uCRC ACM\n",
    "\n",
    "    return matrix\n",
    "\n",
    "\n",
    "def add_csd(matrix):\n",
    "    matrix[:, 6, 9] = c.csd_rate[:, 0]\n",
    "    matrix[:, 7, 9] = c.csd_rate[:, 1]\n",
    "    matrix[:, 8, 9] = c.csd_rate[:, 2]\n",
    "    return matrix"
   ]
  },
  {
   "cell_type": "markdown",
   "metadata": {},
   "source": [
    "### Markov model"
   ]
  },
  {
   "cell_type": "code",
   "execution_count": 14,
   "metadata": {},
   "outputs": [],
   "source": [
    "def run_markov(matrix, starting_age=20, max_age=100):\n",
    "    \n",
    "    current_age = starting_age\n",
    "    stage, age_layer = 1, 0\n",
    "    month_pop, pop_log = c.starting_pop, c.starting_pop\n",
    "    inc_log = np.zeros(pop_log.shape)  # to track new incidences in each state\n",
    "    matrixT = matrix.transpose(0,2,1)\n",
    "    inflow_matrix = np.tril(matrixT, k=-1)\n",
    "    \n",
    "    while current_age <= max_age:\n",
    "        \n",
    "        # Matrix multiplication (state transition)\n",
    "        mat, inflow_mat = matrixT[age_layer], inflow_matrix[age_layer] \n",
    "        month_inc = np.matmul(inflow_mat, month_pop)  # (9, 9)(9, 1)->(9, 1)\n",
    "        month_pop = np.matmul(mat, month_pop)  # (9, 9)(9, 1)->(9, 1)\n",
    "        \n",
    "        # Add to log\n",
    "        inc_log = np.concatenate((inc_log, month_inc), axis=1)\n",
    "        pop_log = np.concatenate((pop_log, month_pop), axis=1)\n",
    "        \n",
    "        stage += 1\n",
    "        if stage % 12 == 0:\n",
    "            current_age += 1\n",
    "            age_layer = min(age_layer+1, 79)\n",
    "\n",
    "    incidence = inc_log.copy()  # make (14,960)\n",
    "    dead_factor = np.divide(c.N, c.N - pop_log[9:, :].sum(axis=0))  # inc and prev denominator is out of living only\n",
    "    prevalence = np.zeros(pop_log.shape)  # (14,80)\n",
    "\n",
    "    for state in range(14):\n",
    "        incidence[state, :] = np.multiply(incidence[state, :], dead_factor)\n",
    "        prevalence[state, :] = np.multiply(pop_log[state, :], dead_factor)\n",
    "\n",
    "    incidence = incidence.reshape(len(c.health_states), 81, 12).sum(axis=2)  # getting annual incidence (rate per 100k)\n",
    "    incidence_unadj = inc_log.reshape(len(c.health_states), 81, 12).sum(axis=2)  # getting inc unadjusted\n",
    "    prevalence = prevalence.reshape(len(c.health_states), 81, 12).mean(axis=2)  # getting mean annual prevalence\n",
    "    \n",
    "    return incidence, prevalence, incidence_unadj, pop_log"
   ]
  },
  {
   "cell_type": "markdown",
   "metadata": {},
   "source": [
    "### Simulated annealing"
   ]
  },
  {
   "cell_type": "code",
   "execution_count": 15,
   "metadata": {},
   "outputs": [],
   "source": [
    "def step(matrix, step_size, num_adj=5):\n",
    "    new_matrix = np.copy(matrix)\n",
    "    step_mat = np.random.choice(len(c.points), size=num_adj, replace=True)\n",
    "    step_age = np.random.choice(len(c.age_layers_5y), size=num_adj, replace=True)\n",
    "    small_matrix = new_matrix[2:65:5, :, :]  # (13, 14, 14)\n",
    "\n",
    "    for i in range(num_adj):\n",
    "        (from_state, to_state) = c.points[step_mat[i]]\n",
    "        step_param = np.mean(small_matrix[:, from_state, to_state]) * step_size\n",
    "        small_matrix[step_age[i], from_state, to_state] += np.random.uniform(low=-step_param, high=step_param)\n",
    "    \n",
    "    # anchor = small_matrix[:,:,:].mean(axis=0)  # Mean accross ages\n",
    "    # anchored_matrix = np.append(small_matrix, anchor, axis=0)  # add final age to axis 0 ages\n",
    "    small_matrix[12,:,:] = np.minimum(small_matrix[11,:],small_matrix[12,:,:])  # Limit potential increase before splining\n",
    "    new_matrix = csaps([22.5,27.5,32.5,37.5,42.5,47.5,52.5,57.5,62.5,67.5,72.5,77.5,82.5], small_matrix, smooth=0.01, axis=0)(np.arange(20,100,1)).clip(0.0,1.0)\n",
    "    new_matrix = constrain_matrix(new_matrix)\n",
    "    new_matrix = add_acm(new_matrix)\n",
    "    new_matrix = add_csd(new_matrix)\n",
    "    new_matrix = row_normalize(new_matrix)\n",
    "\n",
    "    return new_matrix"
   ]
  },
  {
   "cell_type": "code",
   "execution_count": 16,
   "metadata": {},
   "outputs": [],
   "source": [
    "def progress_report(iteration, best_eval, best_log, ticker, best_t):\n",
    "    \"\"\"\n",
    "    Prints progress report during simulated annealing.\n",
    "    \"\"\"\n",
    "    log_adj, _, inc_log, _ = best_log\n",
    "    total_dxd = np.sum(inc_log[6:9, :]) / c.N\n",
    "    print(f\"{iteration}: Best Eval: {best_eval:.5f}, CRC: {total_dxd:.5f}, Tick: {ticker}\")\n",
    "\n",
    "    if iteration % 50000 == 0:\n",
    "        transition_probs = p.extract_transition_probs(best_t, c.health_states, c.desired_transitions)\n",
    "        print(f\"Detailed Progress Report, Iteration = {iteration}\")\n",
    "        p.print_trans_probs(transition_probs)"
   ]
  },
  {
   "cell_type": "code",
   "execution_count": 17,
   "metadata": {},
   "outputs": [],
   "source": [
    "def simulated_annealing(n_iterations, step_size, start_tmat=None, n_adj=7, verbose=False, starting_temp=1, print_interval=2500):\n",
    "    \"\"\"\n",
    "    Performs simulated annealing to optimize a transition matrix.\n",
    "\n",
    "    Args:\n",
    "        n_iterations (int): Number of iterations for optimization.\n",
    "        step_size (float): Step size for parameter adjustments.\n",
    "        start_tmat (numpy.ndarray): Initial transition matrix.\n",
    "        n_adj (int): Number of parameters to adjust per step.\n",
    "        starting_temp (float): Initial temperature for annealing.\n",
    "        verbose (bool): Whether to print progress reports.\n",
    "        print_interval (int): Interval for progress reporting.\n",
    "\n",
    "    Returns:\n",
    "        numpy.ndarray: Optimized transition matrix.\n",
    "    \"\"\"\n",
    "    best_t = np.copy(start_tmat)\n",
    "    best_log = run_markov(best_t)\n",
    "    best_eval = gof.objective(run_markov(start_tmat), -1)\n",
    "    curr_t, curr_eval = best_t, best_eval\n",
    "    ticker = 0\n",
    "\n",
    "    with tqdm(total=n_iterations, desc=\"Simulated annealing progress\", unit=\"iteration\") as pbar:\n",
    "        \n",
    "        for i in range(n_iterations):\n",
    "\n",
    "            # Run model\n",
    "            candidate_t = np.copy(curr_t)\n",
    "            candidate_t = step(candidate_t, step_size, n_adj)\n",
    "            candidate_log = run_markov(candidate_t)\n",
    "            candidate_eval = gof.objective(candidate_log, i)  # Evaluate candidate point\n",
    "\n",
    "            # Update \"best\" if better than candidate\n",
    "            if candidate_eval < best_eval:\n",
    "                ticker = 0\n",
    "                best_t, best_eval = np.copy(candidate_t), np.copy(candidate_eval)\n",
    "                best_log = run_markov(best_t)\n",
    "\n",
    "            else:\n",
    "                ticker += 1\n",
    "\n",
    "            # Calculate temperature and Metropolis acceptance criterion\n",
    "            t = starting_temp / (1 + np.log(i + 1))\n",
    "            diff = candidate_eval - curr_eval\n",
    "            metropolis = np.exp(-diff / t)\n",
    "\n",
    "            if diff < 0 or np.random.random() < metropolis:\n",
    "                curr_t, curr_eval = np.copy(candidate_t), candidate_eval\n",
    "\n",
    "            # Print progress report\n",
    "            if verbose and i > 0 and i % print_interval == 0:\n",
    "                progress_report(i, best_eval, best_log, ticker, best_t)\n",
    "\n",
    "            # Check if we should update \"curr\"\n",
    "            diff = (candidate_eval - curr_eval)  # difference between candidate and current point evaluation\n",
    "            metropolis = np.exp(-diff / t)  # calculate metropolis acceptance criterion\n",
    "            if (diff < 0 or np.random.random() < metropolis):  # check if we should keep the new point\n",
    "                curr_t, curr_eval = np.copy(candidate_t), np.copy(candidate_eval)  # store the new current point\n",
    "                ticker = 0\n",
    "\n",
    "            pbar.update(1)\n",
    "\n",
    "    print(best_eval)\n",
    "    \n",
    "    return best_t"
   ]
  },
  {
   "cell_type": "code",
   "execution_count": 7,
   "metadata": {},
   "outputs": [],
   "source": [
    "def run_sa(tmat=None, save_all=False, n_iterations=50000, step_size=0.2, n_adj=5):\n",
    "    \n",
    "    start_tmat = None\n",
    "    start_tmat = tmat if tmat is not None else create_matrix()   \n",
    "    initial_score = gof.objective(run_markov(start_tmat), -1)\n",
    "    print(f\"Initial score: {round(initial_score, 5)}\")\n",
    "    print(\"Starting calibration...\")\n",
    "    \n",
    "    result = simulated_annealing(n_iterations=n_iterations, step_size=step_size, start_tmat=tmat, n_adj=n_adj, verbose=True)\n",
    "    timestamp = datetime.now().strftime(\"%Y%m%d_%H%M\")\n",
    "    \n",
    "    curr_tmat = result.copy()\n",
    "    curr_log = run_markov(curr_tmat)\n",
    "\n",
    "    # Extract transition probabilities\n",
    "    transition_probs = p.extract_transition_probs(curr_tmat, c.health_states, c.desired_transitions)\n",
    "\n",
    "    # Saving\n",
    "    if save_all:\n",
    "        # Save the with the timestamp in the filenames\n",
    "        tmat_path, plot_path, probs_path = c.OUTPUT_PATHS[\"tmats\"], c.OUTPUT_PATHS[\"plots\"], c.OUTPUT_PATHS[\"probs\"]\n",
    "        np.save(f\"{tmat_path}/{timestamp}_tmat.npy\", curr_tmat)\n",
    "\n",
    "        p.print_trans_probs(transition_probs, save_imgs=True, outpath=plot_path, timestamp=timestamp)\n",
    "        p.print_trans_probs(transition_probs)\n",
    "        p.plot_tps(curr_tmat, save_imgs=True, outpath=plot_path, timestamp=timestamp)\n",
    "        p.plot_vs_seer(curr_log, c.seer_inc, save_imgs=True, outpath=plot_path, timestamp=timestamp)\n",
    "        p.plot_vs_seer_total(curr_log, c.seer_inc, save_imgs=True, outpath=plot_path, timestamp=timestamp)\n",
    "        \n",
    "        out = np.zeros((len(c.points), len(c.age_layers)))\n",
    "        for idx, (from_state, to_state) in enumerate(c.points):\n",
    "            out[idx] = curr_tmat[:, from_state, to_state]\n",
    "\n",
    "        pd.DataFrame(out).to_csv(f\"{probs_path}/{timestamp}_tps.csv\")\n",
    "\n",
    "    else:\n",
    "        p.print_trans_probs(transition_probs)\n",
    "        p.plot_tps(curr_tmat)\n",
    "        p.plot_vs_seer(curr_log, c.seer_inc)\n",
    "        p.plot_vs_seer_total(curr_log, c.seer_inc)\n",
    "\n",
    "    return curr_tmat"
   ]
  },
  {
   "cell_type": "code",
   "execution_count": 8,
   "metadata": {},
   "outputs": [],
   "source": [
    "tmat = np.load(\"../out/US/bc/tmats/20240923_1243_tmat.npy\")"
   ]
  },
  {
   "cell_type": "markdown",
   "metadata": {},
   "source": [
    "1/2/2025 10am: Using our US 1243 model, calibrate to DR incidence and HGPS stage distribution. "
   ]
  },
  {
   "cell_type": "code",
   "execution_count": 12,
   "metadata": {},
   "outputs": [
    {
     "name": "stdout",
     "output_type": "stream",
     "text": [
      "EPOCH 0/5 -----------------------------------------------------------------------------\n",
      "Initial score: 585225.68207\n",
      "Starting calibration...\n"
     ]
    },
    {
     "name": "stderr",
     "output_type": "stream",
     "text": [
      "Simulated annealing progress:   0%|          | 0/200000 [00:00<?, ?iteration/s]C:\\Users\\sophi\\AppData\\Local\\Temp\\ipykernel_55948\\1051847008.py:45: RuntimeWarning: overflow encountered in exp\n",
      "  metropolis = np.exp(-diff / t)\n",
      "Simulated annealing progress:   0%|          | 5/200000 [00:00<1:19:41, 41.83iteration/s]"
     ]
    },
    {
     "name": "stdout",
     "output_type": "stream",
     "text": [
      "SEER contribution:245537.0, (49.0%)\n",
      "Polyp contribution:260239.0, (51.0%)\n"
     ]
    },
    {
     "name": "stderr",
     "output_type": "stream",
     "text": [
      "Simulated annealing progress:   1%|▏         | 2505/200000 [00:42<1:00:33, 54.35iteration/s]"
     ]
    },
    {
     "name": "stdout",
     "output_type": "stream",
     "text": [
      "2500: Best Eval: 66952.13416, PDAC: 0.00418, Tick: 532\n"
     ]
    },
    {
     "name": "stderr",
     "output_type": "stream",
     "text": [
      "Simulated annealing progress:   3%|▎         | 5008/200000 [01:27<1:16:33, 42.45iteration/s]"
     ]
    },
    {
     "name": "stdout",
     "output_type": "stream",
     "text": [
      "SEER contribution:66536.0, (99.0%)\n",
      "Polyp contribution:450.0, (1.0%)\n",
      "5000: Best Eval: 65475.31831, PDAC: 0.00447, Tick: 174\n"
     ]
    },
    {
     "name": "stderr",
     "output_type": "stream",
     "text": [
      "Simulated annealing progress:   4%|▍         | 7507/200000 [02:09<1:16:04, 42.17iteration/s]"
     ]
    },
    {
     "name": "stdout",
     "output_type": "stream",
     "text": [
      "7500: Best Eval: 65473.95947, PDAC: 0.00445, Tick: 2159\n"
     ]
    },
    {
     "name": "stderr",
     "output_type": "stream",
     "text": [
      "Simulated annealing progress:   5%|▌         | 10010/200000 [02:51<47:32, 66.62iteration/s] "
     ]
    },
    {
     "name": "stdout",
     "output_type": "stream",
     "text": [
      "SEER contribution:66743.0, (100.0%)\n",
      "Polyp contribution:331.0, (0.0%)\n",
      "10000: Best Eval: 65358.39062, PDAC: 0.00446, Tick: 1824\n"
     ]
    },
    {
     "name": "stderr",
     "output_type": "stream",
     "text": [
      "Simulated annealing progress:   6%|▋         | 12516/200000 [03:34<39:28, 79.15iteration/s]  "
     ]
    },
    {
     "name": "stdout",
     "output_type": "stream",
     "text": [
      "12500: Best Eval: 65250.00703, PDAC: 0.00444, Tick: 739\n"
     ]
    },
    {
     "name": "stderr",
     "output_type": "stream",
     "text": [
      "Simulated annealing progress:   8%|▊         | 15007/200000 [04:18<1:17:50, 39.61iteration/s]"
     ]
    },
    {
     "name": "stdout",
     "output_type": "stream",
     "text": [
      "SEER contribution:65881.0, (100.0%)\n",
      "Polyp contribution:242.0, (0.0%)\n",
      "15000: Best Eval: 65217.97649, PDAC: 0.00447, Tick: 2339\n"
     ]
    },
    {
     "name": "stderr",
     "output_type": "stream",
     "text": [
      "Simulated annealing progress:   9%|▉         | 17509/200000 [05:01<1:07:41, 44.93iteration/s]"
     ]
    },
    {
     "name": "stdout",
     "output_type": "stream",
     "text": [
      "17500: Best Eval: 65104.67790, PDAC: 0.00448, Tick: 1595\n"
     ]
    },
    {
     "name": "stderr",
     "output_type": "stream",
     "text": [
      "Simulated annealing progress:  10%|█         | 20008/200000 [05:43<1:14:45, 40.13iteration/s]"
     ]
    },
    {
     "name": "stdout",
     "output_type": "stream",
     "text": [
      "SEER contribution:66946.0, (100.0%)\n",
      "Polyp contribution:199.0, (0.0%)\n",
      "20000: Best Eval: 64992.25314, PDAC: 0.00444, Tick: 683\n"
     ]
    },
    {
     "name": "stderr",
     "output_type": "stream",
     "text": [
      "Simulated annealing progress:  11%|█▏        | 22516/200000 [06:24<37:17, 79.33iteration/s]  "
     ]
    },
    {
     "name": "stdout",
     "output_type": "stream",
     "text": [
      "22500: Best Eval: 64992.25314, PDAC: 0.00444, Tick: 3183\n"
     ]
    },
    {
     "name": "stderr",
     "output_type": "stream",
     "text": [
      "Simulated annealing progress:  13%|█▎        | 25010/200000 [07:05<36:40, 79.52iteration/s]  "
     ]
    },
    {
     "name": "stdout",
     "output_type": "stream",
     "text": [
      "SEER contribution:66671.0, (100.0%)\n",
      "Polyp contribution:189.0, (0.0%)\n",
      "25000: Best Eval: 64992.25314, PDAC: 0.00444, Tick: 5683\n"
     ]
    },
    {
     "name": "stderr",
     "output_type": "stream",
     "text": [
      "Simulated annealing progress:  14%|█▍        | 27511/200000 [07:47<35:52, 80.12iteration/s]  "
     ]
    },
    {
     "name": "stdout",
     "output_type": "stream",
     "text": [
      "27500: Best Eval: 64453.81212, PDAC: 0.00455, Tick: 1953\n"
     ]
    },
    {
     "name": "stderr",
     "output_type": "stream",
     "text": [
      "Simulated annealing progress:  15%|█▌        | 30008/200000 [08:29<36:16, 78.10iteration/s]  "
     ]
    },
    {
     "name": "stdout",
     "output_type": "stream",
     "text": [
      "SEER contribution:65846.0, (99.0%)\n",
      "Polyp contribution:333.0, (1.0%)\n",
      "30000: Best Eval: 64453.81212, PDAC: 0.00455, Tick: 4453\n"
     ]
    },
    {
     "name": "stderr",
     "output_type": "stream",
     "text": [
      "Simulated annealing progress:  16%|█▋        | 32514/200000 [09:10<35:04, 79.58iteration/s]  "
     ]
    },
    {
     "name": "stdout",
     "output_type": "stream",
     "text": [
      "32500: Best Eval: 64331.15142, PDAC: 0.00458, Tick: 2280\n"
     ]
    },
    {
     "name": "stderr",
     "output_type": "stream",
     "text": [
      "Simulated annealing progress:  18%|█▊        | 35013/200000 [09:52<35:45, 76.89iteration/s]  "
     ]
    },
    {
     "name": "stdout",
     "output_type": "stream",
     "text": [
      "SEER contribution:65986.0, (99.0%)\n",
      "Polyp contribution:389.0, (1.0%)\n",
      "35000: Best Eval: 64331.15142, PDAC: 0.00458, Tick: 4780\n"
     ]
    },
    {
     "name": "stderr",
     "output_type": "stream",
     "text": [
      "Simulated annealing progress:  19%|█▉        | 37515/200000 [10:33<35:38, 75.99iteration/s]  "
     ]
    },
    {
     "name": "stdout",
     "output_type": "stream",
     "text": [
      "37500: Best Eval: 64331.15142, PDAC: 0.00458, Tick: 7280\n"
     ]
    },
    {
     "name": "stderr",
     "output_type": "stream",
     "text": [
      "Simulated annealing progress:  20%|██        | 40009/200000 [11:17<37:08, 71.78iteration/s]  "
     ]
    },
    {
     "name": "stdout",
     "output_type": "stream",
     "text": [
      "SEER contribution:66540.0, (99.0%)\n",
      "Polyp contribution:400.0, (1.0%)\n",
      "40000: Best Eval: 64331.15142, PDAC: 0.00458, Tick: 9780\n"
     ]
    },
    {
     "name": "stderr",
     "output_type": "stream",
     "text": [
      "Simulated annealing progress:  21%|██▏       | 42512/200000 [12:00<33:05, 79.33iteration/s]  "
     ]
    },
    {
     "name": "stdout",
     "output_type": "stream",
     "text": [
      "42500: Best Eval: 64104.68945, PDAC: 0.00462, Tick: 1032\n"
     ]
    },
    {
     "name": "stderr",
     "output_type": "stream",
     "text": [
      "Simulated annealing progress:  23%|██▎       | 45010/200000 [12:41<38:07, 67.76iteration/s]  "
     ]
    },
    {
     "name": "stdout",
     "output_type": "stream",
     "text": [
      "SEER contribution:65782.0, (99.0%)\n",
      "Polyp contribution:405.0, (1.0%)\n",
      "45000: Best Eval: 64104.68945, PDAC: 0.00462, Tick: 3532\n"
     ]
    },
    {
     "name": "stderr",
     "output_type": "stream",
     "text": [
      "Simulated annealing progress:  24%|██▍       | 47509/200000 [13:23<31:57, 79.54iteration/s]  "
     ]
    },
    {
     "name": "stdout",
     "output_type": "stream",
     "text": [
      "47500: Best Eval: 64104.68945, PDAC: 0.00462, Tick: 6032\n"
     ]
    },
    {
     "name": "stderr",
     "output_type": "stream",
     "text": [
      "Simulated annealing progress:  25%|██▌       | 50000/200000 [14:24<43:14, 57.82iteration/s]  \n"
     ]
    },
    {
     "name": "stdout",
     "output_type": "stream",
     "text": [
      "SEER contribution:65820.0, (99.0%)\n",
      "Polyp contribution:404.0, (1.0%)\n",
      "50000: Best Eval: 64104.68945, PDAC: 0.00462, Tick: 8532\n",
      "Detailed Progress Report, Iteration = 50000\n",
      "{'healthy to LR_polyp': array([ 0.000017587,  0.000022328,  0.000027162,  0.000032027,  0.000036861,  0.000041602,  0.000046189,  0.000050560,  0.000054656,  0.000058485,  0.000062121,  0.000065642,  0.000069126,  0.000072649,  0.000076252,  0.000079945,  0.000083735,  0.000087629,  0.000091633,  0.000095746,\n",
      "        0.000099953,  0.000104241,  0.000108598,  0.000113009,  0.000117463,  0.000121948,  0.000126453,  0.000130967,  0.000135479,  0.000139979,  0.000144455,  0.000148899,  0.000153299,  0.000157645,  0.000161927,  0.000166133,  0.000170252,  0.000174272,  0.000178182,  0.000181973,\n",
      "        0.000185643,  0.000189185,  0.000192595,  0.000195870,  0.000199005,  0.000201998,  0.000204846,  0.000207547,  0.000210099,  0.000212498,  0.000214745,  0.000216836,  0.000218770,  0.000220545,  0.000222164,  0.000223634,  0.000224961,  0.000226153,  0.000227217,  0.000228168,\n",
      "        0.000229032,  0.000229833,  0.000230596,  0.000231347,  0.000232111,  0.000232912,  0.000233776,  0.000234727,  0.000235791,  0.000236993,  0.000238357,  0.000239909,  0.000241674,  0.000243676,  0.000245942,  0.000248495,  0.000251361,  0.000254566,  0.000258133,  0.000262088]), 'LR_polyp to HR_polyp': array([ 0.000017587,  0.000022328,  0.000027162,  0.000032027,  0.000036861,  0.000041602,  0.000046189,  0.000050560,  0.000054656,  0.000058485,  0.000062121,  0.000065642,  0.000069126,  0.000072649,  0.000077448,  0.000083773,  0.000090820,  0.000098667,  0.000107392,  0.000117023,\n",
      "        0.000127548,  0.000138950,  0.000151214,  0.000164319,  0.000178166,  0.000192575,  0.000207365,  0.000222351,  0.000237358,  0.000252354,  0.000267453,  0.000282776,  0.000298442,  0.000314570,  0.000331197,  0.000348284,  0.000365789,  0.000383668,  0.000401878,  0.000420343,\n",
      "        0.000438957,  0.000457611,  0.000476198,  0.000494609,  0.000512738,  0.000530481,  0.000547735,  0.000564394,  0.000580357,  0.000595545,  0.000609905,  0.000623385,  0.000635934,  0.000647500,  0.000658079,  0.000667706,  0.000676423,  0.000684268,  0.000691283,  0.000697569,\n",
      "        0.000703286,  0.000708597,  0.000713664,  0.000718650,  0.000723717,  0.000729028,  0.000734745,  0.000741031,  0.000748049,  0.000755961,  0.000764929,  0.000775116,  0.000786684,  0.000799797,  0.000814617,  0.000831305,  0.000850026,  0.000870940,  0.000894212,  0.000920003]), 'HR_polyp to u_CRC_loc': array([ 0.002353847,  0.002351657,  0.002349466,  0.002347275,  0.002345085,  0.002342895,  0.002340706,  0.002338519,  0.002336335,  0.002334169,  0.002332052,  0.002330015,  0.002328090,  0.002326308,  0.002324734,  0.002323460,  0.002322582,  0.002322194,  0.002322393,  0.002323323,\n",
      "        0.002325170,  0.002328126,  0.002332379,  0.002338122,  0.002345598,  0.002355103,  0.002366932,  0.002381384,  0.002398755,  0.002419380,  0.002443629,  0.002471873,  0.002504482,  0.002541826,  0.002584266,  0.002632148,  0.002685821,  0.002745631,  0.002811922,  0.002884946,\n",
      "        0.002964862,  0.003051827,  0.003145997,  0.003247519,  0.003356334,  0.003472177,  0.003594773,  0.003723850,  0.003859117,  0.003999921,  0.004145243,  0.004294050,  0.004445309,  0.004597960,  0.004750372,  0.004900342,  0.005045641,  0.005184039,  0.005313397,  0.005433624,\n",
      "        0.005546681,  0.005654616,  0.005759478,  0.005863316,  0.005968177,  0.006076112,  0.006189169,  0.006309397,  0.006438844,  0.006579559,  0.006733591,  0.006902989,  0.007089801,  0.007296077,  0.007523864,  0.007775213,  0.008052170,  0.008356787,  0.008691110,  0.009057189]), 'u_CRC_loc to u_CRC_reg': array([ 0.068607847,  0.067804588,  0.067000022,  0.066195021,  0.065390455,  0.064587196,  0.063786113,  0.062988078,  0.062193985,  0.061405270,  0.060623908,  0.059851901,  0.059091247,  0.058343952,  0.057612160,  0.056898151,  0.056204211,  0.055532625,  0.054885648,  0.054264768,\n",
      "        0.053670716,  0.053104187,  0.052565877,  0.052056425,  0.051575210,  0.051120344,  0.050689886,  0.050281895,  0.049894405,  0.049524912,  0.049170367,  0.048827701,  0.048493844,  0.048165757,  0.047841154,  0.047518497,  0.047196280,  0.046873000,  0.046547194,  0.046218407,\n",
      "        0.045887191,  0.045554141,  0.045219851,  0.044884927,  0.044550247,  0.044216960,  0.043886225,  0.043559202,  0.043237035,  0.042920485,  0.042609929,  0.042305729,  0.042008247,  0.041717825,  0.041434340,  0.041157211,  0.040885831,  0.040619599,  0.040357905,  0.040100023,\n",
      "        0.039845110,  0.039592318,  0.039340798,  0.039089702,  0.038838182,  0.038585390,  0.038330477,  0.038072595,  0.037810896,  0.037544532,  0.037272653,  0.036994413,  0.036708963,  0.036415454,  0.036113038,  0.035800868,  0.035478094,  0.035143869,  0.034797344,  0.034437670]), 'u_CRC_reg to u_CRC_dis': array([ 0.070120507,  0.069466526,  0.068814848,  0.068163937,  0.067512258,  0.066858278,  0.066200460,  0.065537272,  0.064867228,  0.064190026,  0.063506541,  0.062817698,  0.062124425,  0.061427735,  0.060730658,  0.060038237,  0.059355605,  0.058687894,  0.058040230,  0.057417649,\n",
      "        0.056825095,  0.056267506,  0.055749822,  0.055276817,  0.054849482,  0.054465021,  0.054120477,  0.053812891,  0.053539254,  0.053295419,  0.053076098,  0.052875952,  0.052689646,  0.052511907,  0.052339004,  0.052168743,  0.051998995,  0.051827633,  0.051652590,  0.051473158,\n",
      "        0.051289995,  0.051103816,  0.050915335,  0.050725280,  0.050534622,  0.050344576,  0.050156370,  0.049971229,  0.049790363,  0.049614561,  0.049444194,  0.049279615,  0.049121176,  0.048969212,  0.048823616,  0.048683845,  0.048549334,  0.048419521,  0.048293838,  0.048171618,\n",
      "        0.048052094,  0.047934497,  0.047818055,  0.047701999,  0.047585557,  0.047467960,  0.047348436,  0.047226216,  0.047100529,  0.046970604,  0.046835670,  0.046694959,  0.046547698,  0.046393117,  0.046230447,  0.046058916,  0.045877754,  0.045686190,  0.045483455,  0.045268777]), 'u_CRC_loc to d_CRC_loc': array([ 0.018114870,  0.018080746,  0.018046610,  0.018012470,  0.017978334,  0.017944210,  0.017910107,  0.017876034,  0.017841999,  0.017808034,  0.017774192,  0.017740527,  0.017707092,  0.017673944,  0.017641171,  0.017608893,  0.017577235,  0.017546320,  0.017516271,  0.017487240,\n",
      "        0.017459409,  0.017432959,  0.017408072,  0.017384929,  0.017363714,  0.017344609,  0.017327797,  0.017313462,  0.017301786,  0.017292906,  0.017286915,  0.017283907,  0.017283972,  0.017287200,  0.017293591,  0.017303062,  0.017315524,  0.017330889,  0.017349064,  0.017369851,\n",
      "        0.017392950,  0.017418055,  0.017444859,  0.017473054,  0.017502251,  0.017531983,  0.017561781,  0.017591173,  0.017619690,  0.017646880,  0.017672307,  0.017695538,  0.017716137,  0.017733679,  0.017747951,  0.017758954,  0.017766697,  0.017771187,  0.017772448,  0.017770807,\n",
      "        0.017766900,  0.017761373,  0.017754875,  0.017748053,  0.017741555,  0.017736028,  0.017732121,  0.017730480,  0.017731754,  0.017736591,  0.017745637,  0.017759541,  0.017778950,  0.017804512,  0.017836875,  0.017876686,  0.017924593,  0.017981244,  0.018047286,  0.018123367]), 'u_CRC_reg to d_CRC_reg': array([ 0.018114870,  0.018080746,  0.018046610,  0.018012470,  0.018091385,  0.018399308,  0.018717104,  0.019048724,  0.019398081,  0.019768299,  0.020161709,  0.020580605,  0.021027284,  0.021504008,  0.022012277,  0.022552823,  0.023126349,  0.023733555,  0.024375112,  0.025050969,\n",
      "        0.025760360,  0.026502485,  0.027276546,  0.028081715,  0.028916545,  0.029778965,  0.030666877,  0.031578184,  0.032510768,  0.033462047,  0.034428978,  0.035408496,  0.036397538,  0.037393028,  0.038391657,  0.039389875,  0.040384123,  0.041370844,  0.042346481,  0.043307536,\n",
      "        0.044250570,  0.045172144,  0.046068822,  0.046937184,  0.047774252,  0.048577484,  0.049344357,  0.050072350,  0.050758980,  0.051402688,  0.052002837,  0.052558830,  0.053070070,  0.053536026,  0.053957644,  0.054337353,  0.054677643,  0.054981008,  0.055250024,  0.055489258,\n",
      "        0.055705259,  0.055904667,  0.056094118,  0.056280250,  0.056469701,  0.056669108,  0.056885110,  0.057124343,  0.057393446,  0.057699056,  0.058047811,  0.058446348,  0.058901306,  0.059419321,  0.060007032,  0.060671076,  0.061418090,  0.062254713,  0.063187583,  0.064223336]), 'u_CRC_dis to d_CRC_dis': array([ 0.178571299,  0.179650691,  0.180735962,  0.181823193,  0.182908465,  0.183987856,  0.185057448,  0.186113320,  0.187151537,  0.188167788,  0.189157393,  0.190115652,  0.191037867,  0.191919393,  0.192756832,  0.193548029,  0.194290883,  0.194983294,  0.195623279,  0.196211530,\n",
      "        0.196751417,  0.197246425,  0.197700041,  0.198115883,  0.198500580,  0.198863779,  0.199215256,  0.199564789,  0.199922156,  0.200297227,  0.200699959,  0.201140310,  0.201628241,  0.202173298,  0.202775464,  0.203425165,  0.204112412,  0.204827213,  0.205558400,  0.206267640,\n",
      "        0.206889446,  0.207357145,  0.207604069,  0.207566368,  0.207245098,  0.206706217,  0.206018506,  0.205250747,  0.204470533,  0.203718188,  0.203006766,  0.202348134,  0.201754158,  0.201236281,  0.200796169,  0.200425710,  0.200116370,  0.199859613,  0.199646916,  0.199470033,\n",
      "        0.199320996,  0.199191848,  0.199074635,  0.198961399,  0.198844186,  0.198715039,  0.198566001,  0.198389118,  0.198176433,  0.197919990,  0.197611833,  0.197244007,  0.196808555,  0.196297521,  0.195702949,  0.195016884,  0.194231369,  0.193338448,  0.192330166,  0.191198566])}\n"
     ]
    },
    {
     "ename": "ValueError",
     "evalue": "too many values to unpack (expected 4)",
     "output_type": "error",
     "traceback": [
      "\u001b[1;31m---------------------------------------------------------------------------\u001b[0m",
      "\u001b[1;31mValueError\u001b[0m                                Traceback (most recent call last)",
      "Cell \u001b[1;32mIn[12], line 4\u001b[0m\n\u001b[0;32m      2\u001b[0m \u001b[38;5;28;01mfor\u001b[39;00m epoch \u001b[38;5;129;01min\u001b[39;00m \u001b[38;5;28mrange\u001b[39m(\u001b[38;5;241m5\u001b[39m):\n\u001b[0;32m      3\u001b[0m     \u001b[38;5;28mprint\u001b[39m(\u001b[38;5;124mf\u001b[39m\u001b[38;5;124m\"\u001b[39m\u001b[38;5;124mEPOCH \u001b[39m\u001b[38;5;132;01m{\u001b[39;00mepoch\u001b[38;5;132;01m}\u001b[39;00m\u001b[38;5;124m/5 -----------------------------------------------------------------------------\u001b[39m\u001b[38;5;124m\"\u001b[39m)\n\u001b[1;32m----> 4\u001b[0m     result \u001b[38;5;241m=\u001b[39m \u001b[43mrun_sa\u001b[49m\u001b[43m(\u001b[49m\u001b[43mresult\u001b[49m\u001b[43m,\u001b[49m\u001b[43m \u001b[49m\u001b[38;5;28;43;01mTrue\u001b[39;49;00m\u001b[43m,\u001b[49m\u001b[43m \u001b[49m\u001b[43mn_iterations\u001b[49m\u001b[38;5;241;43m=\u001b[39;49m\u001b[38;5;241;43m200000\u001b[39;49m\u001b[43m,\u001b[49m\u001b[43m \u001b[49m\u001b[43mstep_size\u001b[49m\u001b[43m \u001b[49m\u001b[38;5;241;43m=\u001b[39;49m\u001b[43m \u001b[49m\u001b[38;5;241;43m0.2\u001b[39;49m\u001b[43m,\u001b[49m\u001b[43m \u001b[49m\u001b[43mn_adj\u001b[49m\u001b[38;5;241;43m=\u001b[39;49m\u001b[38;5;241;43m5\u001b[39;49m\u001b[43m)\u001b[49m\n\u001b[0;32m      5\u001b[0m \u001b[38;5;28mprint\u001b[39m(\u001b[38;5;124m\"\u001b[39m\u001b[38;5;124mDONE\u001b[39m\u001b[38;5;124m\"\u001b[39m)\n",
      "Cell \u001b[1;32mIn[7], line 9\u001b[0m, in \u001b[0;36mrun_sa\u001b[1;34m(tmat, save_all, n_iterations, step_size, n_adj)\u001b[0m\n\u001b[0;32m      6\u001b[0m \u001b[38;5;28mprint\u001b[39m(\u001b[38;5;124mf\u001b[39m\u001b[38;5;124m\"\u001b[39m\u001b[38;5;124mInitial score: \u001b[39m\u001b[38;5;132;01m{\u001b[39;00m\u001b[38;5;28mround\u001b[39m(initial_score,\u001b[38;5;250m \u001b[39m\u001b[38;5;241m5\u001b[39m)\u001b[38;5;132;01m}\u001b[39;00m\u001b[38;5;124m\"\u001b[39m)\n\u001b[0;32m      7\u001b[0m \u001b[38;5;28mprint\u001b[39m(\u001b[38;5;124m\"\u001b[39m\u001b[38;5;124mStarting calibration...\u001b[39m\u001b[38;5;124m\"\u001b[39m)\n\u001b[1;32m----> 9\u001b[0m result \u001b[38;5;241m=\u001b[39m \u001b[43msimulated_annealing\u001b[49m\u001b[43m(\u001b[49m\u001b[43mn_iterations\u001b[49m\u001b[38;5;241;43m=\u001b[39;49m\u001b[43mn_iterations\u001b[49m\u001b[43m,\u001b[49m\u001b[43m \u001b[49m\u001b[43mstep_size\u001b[49m\u001b[38;5;241;43m=\u001b[39;49m\u001b[43mstep_size\u001b[49m\u001b[43m,\u001b[49m\u001b[43m \u001b[49m\u001b[43mstart_tmat\u001b[49m\u001b[38;5;241;43m=\u001b[39;49m\u001b[43mtmat\u001b[49m\u001b[43m,\u001b[49m\u001b[43m \u001b[49m\u001b[43mn_adj\u001b[49m\u001b[38;5;241;43m=\u001b[39;49m\u001b[43mn_adj\u001b[49m\u001b[43m,\u001b[49m\u001b[43m \u001b[49m\u001b[43mverbose\u001b[49m\u001b[38;5;241;43m=\u001b[39;49m\u001b[38;5;28;43;01mTrue\u001b[39;49;00m\u001b[43m)\u001b[49m\n\u001b[0;32m     10\u001b[0m timestamp \u001b[38;5;241m=\u001b[39m datetime\u001b[38;5;241m.\u001b[39mnow()\u001b[38;5;241m.\u001b[39mstrftime(\u001b[38;5;124m\"\u001b[39m\u001b[38;5;124m%\u001b[39m\u001b[38;5;124mY\u001b[39m\u001b[38;5;124m%\u001b[39m\u001b[38;5;124mm\u001b[39m\u001b[38;5;132;01m%d\u001b[39;00m\u001b[38;5;124m_\u001b[39m\u001b[38;5;124m%\u001b[39m\u001b[38;5;124mH\u001b[39m\u001b[38;5;124m%\u001b[39m\u001b[38;5;124mM\u001b[39m\u001b[38;5;124m\"\u001b[39m)\n\u001b[0;32m     12\u001b[0m curr_tmat \u001b[38;5;241m=\u001b[39m result\u001b[38;5;241m.\u001b[39mcopy()\n",
      "Cell \u001b[1;32mIn[6], line 52\u001b[0m, in \u001b[0;36msimulated_annealing\u001b[1;34m(n_iterations, step_size, start_tmat, n_adj, verbose, starting_temp, print_interval)\u001b[0m\n\u001b[0;32m     50\u001b[0m \u001b[38;5;66;03m# Print progress report\u001b[39;00m\n\u001b[0;32m     51\u001b[0m \u001b[38;5;28;01mif\u001b[39;00m verbose \u001b[38;5;129;01mand\u001b[39;00m i \u001b[38;5;241m>\u001b[39m \u001b[38;5;241m0\u001b[39m \u001b[38;5;129;01mand\u001b[39;00m i \u001b[38;5;241m%\u001b[39m print_interval \u001b[38;5;241m==\u001b[39m \u001b[38;5;241m0\u001b[39m:\n\u001b[1;32m---> 52\u001b[0m     \u001b[43mprogress_report\u001b[49m\u001b[43m(\u001b[49m\u001b[43mi\u001b[49m\u001b[43m,\u001b[49m\u001b[43m \u001b[49m\u001b[43mbest_eval\u001b[49m\u001b[43m,\u001b[49m\u001b[43m \u001b[49m\u001b[43mbest_log\u001b[49m\u001b[43m,\u001b[49m\u001b[43m \u001b[49m\u001b[43mticker\u001b[49m\u001b[43m,\u001b[49m\u001b[43m \u001b[49m\u001b[43mbest_t\u001b[49m\u001b[43m)\u001b[49m\n\u001b[0;32m     54\u001b[0m \u001b[38;5;66;03m# Check if we should update \"curr\"\u001b[39;00m\n\u001b[0;32m     55\u001b[0m diff \u001b[38;5;241m=\u001b[39m (candidate_eval \u001b[38;5;241m-\u001b[39m curr_eval)  \u001b[38;5;66;03m# difference between candidate and current point evaluation\u001b[39;00m\n",
      "Cell \u001b[1;32mIn[5], line 13\u001b[0m, in \u001b[0;36mprogress_report\u001b[1;34m(iteration, best_eval, best_log, ticker, best_t)\u001b[0m\n\u001b[0;32m     11\u001b[0m \u001b[38;5;28mprint\u001b[39m(\u001b[38;5;124mf\u001b[39m\u001b[38;5;124m\"\u001b[39m\u001b[38;5;124mDetailed Progress Report, Iteration = \u001b[39m\u001b[38;5;132;01m{\u001b[39;00miteration\u001b[38;5;132;01m}\u001b[39;00m\u001b[38;5;124m\"\u001b[39m)\n\u001b[0;32m     12\u001b[0m \u001b[38;5;28mprint\u001b[39m(transition_probs)\n\u001b[1;32m---> 13\u001b[0m \u001b[43mp\u001b[49m\u001b[38;5;241;43m.\u001b[39;49m\u001b[43mplot_vs_seer\u001b[49m\u001b[43m(\u001b[49m\u001b[43mlog_adj\u001b[49m\u001b[43m,\u001b[49m\u001b[43m \u001b[49m\u001b[43mc\u001b[49m\u001b[38;5;241;43m.\u001b[39;49m\u001b[43mseer_inc\u001b[49m\u001b[43m)\u001b[49m\n",
      "File \u001b[1;32mc:\\repos\\dr-crc-calibration\\src\\calibration_plots.py:114\u001b[0m, in \u001b[0;36mplot_vs_seer\u001b[1;34m(curr_log, seer_inc, save_imgs, outpath, timestamp)\u001b[0m\n\u001b[0;32m    107\u001b[0m \u001b[38;5;28;01mdef\u001b[39;00m \u001b[38;5;21mplot_vs_seer\u001b[39m(curr_log, seer_inc, save_imgs\u001b[38;5;241m=\u001b[39m\u001b[38;5;28;01mFalse\u001b[39;00m, outpath\u001b[38;5;241m=\u001b[39m\u001b[38;5;28;01mNone\u001b[39;00m, timestamp\u001b[38;5;241m=\u001b[39m\u001b[38;5;28;01mNone\u001b[39;00m):\n\u001b[0;32m    108\u001b[0m \u001b[38;5;250m    \u001b[39m\u001b[38;5;124;03m\"\"\"Plot model incidence by stage vs. SEER calibration incidence\u001b[39;00m\n\u001b[0;32m    109\u001b[0m \n\u001b[0;32m    110\u001b[0m \u001b[38;5;124;03m    Args:\u001b[39;00m\n\u001b[0;32m    111\u001b[0m \u001b[38;5;124;03m        curr_log (tuple): output log from run_markov. tuple containing inc_adj, ...\u001b[39;00m\n\u001b[0;32m    112\u001b[0m \u001b[38;5;124;03m        seer_inc (df): item of comparison\u001b[39;00m\n\u001b[0;32m    113\u001b[0m \u001b[38;5;124;03m    \"\"\"\u001b[39;00m\n\u001b[1;32m--> 114\u001b[0m     inc_adj, _, _, _ \u001b[38;5;241m=\u001b[39m curr_log\n\u001b[0;32m    115\u001b[0m     x_values \u001b[38;5;241m=\u001b[39m np\u001b[38;5;241m.\u001b[39mlinspace(\u001b[38;5;241m20\u001b[39m, \u001b[38;5;241m100\u001b[39m, \u001b[38;5;241m81\u001b[39m)\n\u001b[0;32m    116\u001b[0m     data_source \u001b[38;5;241m=\u001b[39m \u001b[38;5;124m\"\u001b[39m\u001b[38;5;124mSEER\u001b[39m\u001b[38;5;124m\"\u001b[39m \u001b[38;5;28;01mif\u001b[39;00m c\u001b[38;5;241m.\u001b[39mmodel_version \u001b[38;5;241m==\u001b[39m \u001b[38;5;124m\"\u001b[39m\u001b[38;5;124mUS\u001b[39m\u001b[38;5;124m\"\u001b[39m \u001b[38;5;28;01melse\u001b[39;00m \u001b[38;5;124mf\u001b[39m\u001b[38;5;124m\"\u001b[39m\u001b[38;5;124mGlobocan/\u001b[39m\u001b[38;5;132;01m{\u001b[39;00mc\u001b[38;5;241m.\u001b[39mstage\u001b[38;5;132;01m}\u001b[39;00m\u001b[38;5;124m\"\u001b[39m\n",
      "\u001b[1;31mValueError\u001b[0m: too many values to unpack (expected 4)"
     ]
    }
   ],
   "source": [
    "result=tmat\n",
    "for epoch in range(2):\n",
    "    print(f\"EPOCH {epoch}/2 -----------------------------------------------------------------------------\")\n",
    "    result = run_sa(result, True, n_iterations=100000, step_size = 0.5, n_adj=5)\n",
    "print(\"DONE\")"
   ]
  },
  {
   "cell_type": "markdown",
   "metadata": {},
   "source": [
    "## Post-processing"
   ]
  },
  {
   "cell_type": "code",
   "execution_count": 54,
   "metadata": {},
   "outputs": [],
   "source": [
    "\n",
    "def objective_cp(tmat):\n",
    "    score = 0\n",
    "    cp = cancer_progression(tmat)\n",
    "    score += np.square(cp-3.0).sum()\n",
    "    return score\n",
    "    \n",
    "def cancer_progression(tmat):\n",
    "    \"\"\"\n",
    "    Calculate time from preclinical local to preclinical distant. MFPT\n",
    "    \"\"\"\n",
    "    p_12 = tmat[:, 3, 4] # loc to reg\n",
    "    p_23 = tmat[:, 4, 5] # reg to dis\n",
    "    p_11 = tmat[:, 3, 3] # stay loc\n",
    "    p_22 = tmat[:, 4, 4] # stay reg\n",
    "    p_33 = tmat[:, 5, 5] # stay dis\n",
    "    \n",
    "    cp = (1 + p_12 * (1 + p_23 * (1 / (1 - p_33))) * (1 / (1 - p_22))) * (1 / (1 - p_11))\n",
    "    \n",
    "    return cp\n",
    "    \n",
    "    \n",
    "def sojourn_time_weighted(tm, metric=\"mean\"):\n",
    "    \"\"\"\n",
    "    Calculate  time spent in each path.\n",
    "    \"\"\"\n",
    "    in_loc, in_reg, in_dis = [1/(1-tm[:, x, x]) for x in [3,4,5]]\n",
    "    mloc = in_loc\n",
    "    mreg = in_loc + in_reg\n",
    "    mdis = (in_loc + in_reg * tm[:, 3, 4]) + in_dis\n",
    "    \n",
    "    if metric == \"mean\": # Mean across paths per age\n",
    "        sj_time =  np.mean([mloc, mreg, mdis], axis=0)\n",
    "    else: # Each path per age\n",
    "        sj_time = np.array([mloc, mreg, mdis])\n",
    "    \n",
    "    return sj_time\n",
    "\n",
    "def sojourn_time_weighted2(tm):\n",
    "    \"\"\"\n",
    "    Calculate  time spent in each path, weighted by stage.\n",
    "    \"\"\"\n",
    "    in_loc, in_reg, in_dis = [1/(1-tm[:, x, x]) for x in [3,4,5]]\n",
    "    mloc = in_loc\n",
    "    mreg = in_loc * tm[:, 3, 4] + in_reg\n",
    "    mdis = in_loc * tm[:, 3, 4] + in_reg * tm[:, 4, 5] + in_dis\n",
    "    sj_time = np.array([mloc, mreg, mdis])\n",
    "    \n",
    "    return sj_time\n",
    "\n",
    "def sojourn_time_in_stage(tmat):\n",
    "    \"\"\"\n",
    "    Calculate mean time in each state. Average over all states.\n",
    "    \"\"\"\n",
    "    sojourn_times = np.zeros((3,80))\n",
    "    for i in np.arange(3,6,1):\n",
    "        p_stay = tmat[:, i, i]\n",
    "        sojourn_times[i-3] = 1 / (1 - p_stay)\n",
    "    return sojourn_times"
   ]
  },
  {
   "cell_type": "code",
   "execution_count": 4,
   "metadata": {},
   "outputs": [],
   "source": [
    "tmat = np.load(\"../out/US/interp/tmats/20240923_1243_tmat.npy\")"
   ]
  },
  {
   "cell_type": "code",
   "execution_count": 5,
   "metadata": {},
   "outputs": [],
   "source": [
    "from scipy.stats import sem, t\n",
    "\n",
    "def summarize_data(data):\n",
    "    \"\"\"\n",
    "    Returns the min, max, median, mean, and 95% confidence interval of a dataset.\n",
    "    \n",
    "    Parameters:\n",
    "        data (list or numpy array): Input data\n",
    "    \n",
    "    Returns:\n",
    "        dict: Summary statistics\n",
    "    \"\"\"\n",
    "    if len(data) == 0:\n",
    "        return \"Data is empty.\"\n",
    "    \n",
    "    # Convert to numpy array for convenience\n",
    "    data = np.array(data)\n",
    "    \n",
    "    # Summary statistics\n",
    "    min_val = np.min(data)\n",
    "    max_val = np.max(data)\n",
    "    median_val = np.median(data)\n",
    "    mean_val = np.mean(data)\n",
    "    \n",
    "    # Compute 95% confidence interval\n",
    "    confidence = 0.95\n",
    "    n = len(data)\n",
    "    if n > 1:\n",
    "        std_err = sem(data)\n",
    "        h = std_err * t.ppf((1 + confidence) / 2, n - 1)\n",
    "        ci_lower = mean_val - h\n",
    "        ci_upper = mean_val + h\n",
    "    else:\n",
    "        ci_lower = ci_upper = mean_val  # No confidence interval for a single data point\n",
    "\n",
    "    return {\n",
    "        \"min\": min_val,\n",
    "        \"max\": max_val,\n",
    "        \"median\": median_val,\n",
    "        \"mean\": mean_val,\n",
    "        \"95% CI\": (ci_lower, ci_upper)\n",
    "    }"
   ]
  },
  {
   "cell_type": "code",
   "execution_count": null,
   "metadata": {},
   "outputs": [],
   "source": [
    "loc, reg, dis = sojourn_time_weighted(tmat, metric=\"\")\n",
    "total = sojourn_time_weighted(tmat)\n",
    "print(summarize_data(loc))\n",
    "print(summarize_data(reg))\n",
    "print(summarize_data(dis))\n",
    "print(summarize_data(total))\n",
    "\n",
    "plt.plot(np.arange(0,80,1), loc, color=\"blue\", label=\"L\")\n",
    "plt.plot(np.arange(0,80,1), reg, color=\"red\", label=\"R\")\n",
    "plt.plot(np.arange(0,80,1), dis, color=\"green\", label=\"D\")\n",
    "plt.plot(np.arange(0,80,1), total, color=\"grey\", label=\"All\")\n",
    "plt.title(\"Sojourn Time by Age (cumulative uL->dX)\")\n",
    "plt.xlabel(\"Age\")\n",
    "plt.ylabel(\"Months\")\n",
    "plt.legend()\n",
    "plt.show()\n",
    "\n",
    "import seaborn as sns\n",
    "plt.hist(loc, bins=30, density=True, alpha=0.6, color=\"blue\", label=\"Loc\")\n",
    "plt.hist(reg, bins=30, density=True, alpha=0.6, color=\"red\", label=\"Reg\")\n",
    "plt.hist(dis, bins=30, density=True, alpha=0.6, color=\"green\", label=\"Dis \")\n",
    "sns.kdeplot(loc, fill=True, color=\"blue\", alpha=0.3, clip=(0, None))  \n",
    "sns.kdeplot(reg, fill=True, color=\"red\", alpha=0.3, clip=(0, None))  \n",
    "sns.kdeplot(dis, fill=True, color=\"green\", alpha=0.3, clip=(0, None))\n",
    "plt.title(\"Density Distribution of Sojourn Time by Stage at DX (cumulative uL->dX)\")\n",
    "plt.xlabel(\"Months\")\n",
    "plt.ylabel(\"Density\")\n",
    "plt.legend()\n",
    "plt.show()"
   ]
  },
  {
   "cell_type": "code",
   "execution_count": null,
   "metadata": {},
   "outputs": [],
   "source": [
    "loc, reg, dis = sojourn_time_weighted2(tmat)\n",
    "print(summarize_data(loc))\n",
    "print(summarize_data(reg))\n",
    "print(summarize_data(dis))\n",
    "plt.plot(np.arange(0,80,1), loc, color=\"blue\", label=\"L\")\n",
    "plt.plot(np.arange(0,80,1), reg, color=\"red\", label=\"R\")\n",
    "plt.plot(np.arange(0,80,1), dis, color=\"green\", label=\"D\")\n",
    "plt.title(\"Sojourn Time by Age\")\n",
    "plt.xlabel(\"Age\")\n",
    "plt.ylabel(\"Months\")\n",
    "plt.legend()\n",
    "plt.show()\n",
    "\n",
    "plt.hist(loc, bins=30, density=True, alpha=0.6, color=\"blue\")\n",
    "plt.hist(reg, bins=30, density=True, alpha=0.6, color=\"red\")\n",
    "plt.hist(dis, bins=30, density=True, alpha=0.6, color=\"green\")\n",
    "sns.kdeplot(loc, fill=True, color=\"blue\", alpha=0.3, clip=(0, None), label=\"loc\")  \n",
    "sns.kdeplot(reg, fill=True, color=\"red\", alpha=0.3, clip=(0, None), label=\"reg\")  \n",
    "sns.kdeplot(dis, fill=True, color=\"green\", alpha=0.3, clip=(0, None), label=\"dis\")  \n",
    "plt.title(\"Density Distribution of Sojourn Time\")\n",
    "plt.xlabel(\"Months\")\n",
    "plt.ylabel(\"Density\")\n",
    "plt.legend()\n",
    "plt.show()"
   ]
  },
  {
   "cell_type": "code",
   "execution_count": null,
   "metadata": {},
   "outputs": [],
   "source": [
    "summarize_data(cancer_progression(tmat))"
   ]
  },
  {
   "cell_type": "code",
   "execution_count": 100,
   "metadata": {},
   "outputs": [],
   "source": [
    "def convert_to_conditional_probs(matrix):\n",
    "    \"\"\"\n",
    "    Converts a transition matrix into conditional probabilities for TreeAge.\n",
    "    \n",
    "    Parameters:\n",
    "        matrix (numpy.ndarray): Transition matrix of shape (n_ages, n_states, n_states).\n",
    "    \n",
    "    Returns:\n",
    "        numpy.ndarray: Conditional transition matrix of the same shape.\n",
    "    \"\"\"\n",
    "    conditional_matrix = np.copy(matrix)\n",
    "\n",
    "    # Loop through all transitions to adjust probabilities\n",
    "    for (from_idx, to_idx), (from_state, to_state) in zip(c.points, c.desired_transitions): \n",
    "        # Compute survival probability (1 - ACM)\n",
    "        p_survive = 1 - matrix[:, from_idx, c.acm_states[from_idx]].clip(1e-10, 1.0)\n",
    "\n",
    "        # Normalize by survival probability\n",
    "        conditional_matrix[:, from_idx, to_idx] /= p_survive\n",
    "\n",
    "        # If transition is progression (e.g., u_PDAC_x -> u_PDAC_x+1), normalize by p(no_dx)\n",
    "        if from_idx in [3,4,5] and to_idx == from_idx + 1:  # Progression\n",
    "            dx_state = from_idx + 3  # Corresponding diagnosed state\n",
    "            p_no_dx = 1 - matrix[:, from_idx, dx_state].clip(1e-10, 1.0)\n",
    "            conditional_matrix[:, from_idx, to_idx] /= p_no_dx \n",
    "    return conditional_matrix"
   ]
  },
  {
   "cell_type": "code",
   "execution_count": 102,
   "metadata": {},
   "outputs": [],
   "source": [
    "tmat = np.load(\"../out/US/interp/tmats/20240923_1243_tmat.npy\")"
   ]
  },
  {
   "cell_type": "code",
   "execution_count": 103,
   "metadata": {},
   "outputs": [],
   "source": [
    "tmat_c = convert_to_conditional_probs(tmat)"
   ]
  },
  {
   "cell_type": "code",
   "execution_count": 107,
   "metadata": {},
   "outputs": [],
   "source": [
    "def extract_transition_probs(tmat, type=\"markov\", metric=\"all\"):\n",
    "    \"\"\"\n",
    "    Extracts and optionally saves transition probabilities from a transition matrix.\n",
    "    \n",
    "    Parameters:\n",
    "        tmat (numpy.ndarray): Transition probability matrix of shape (n_ages, n_states, n_states).\n",
    "        type (str): Type of model (\"markov\" or other). Determines age range.\n",
    "        save (bool): Whether to save the output as a CSV file.\n",
    "        outpath (str): Path to save the CSV file. Required if save=True.\n",
    "        timestamp (str): Custom timestamp for the filename. Defaults to current datetime.\n",
    "    \n",
    "    Returns:\n",
    "        pd.DataFrame: Transition probabilities dataframe.\n",
    "    \"\"\"\n",
    "    \n",
    "    tmat = convert_to_conditional_probs(tmat) if type == \"treeage\" else tmat\n",
    "    age_range = np.arange(20,100,1)\n",
    "    data = []\n",
    "    df = None \n",
    "    \n",
    "    if metric == \"all\":\n",
    "        for (from_idx, to_idx), (from_state, to_state) in zip(c.points, c.desired_transitions):\n",
    "            for age, probs in zip(age_range, tmat[:, from_idx, to_idx]):\n",
    "                data.append({\n",
    "                    \"Age\": age,\n",
    "                    \"From State\": from_state,\n",
    "                    \"To State\": to_state,\n",
    "                    \"Probability\": probs\n",
    "                })\n",
    "        \n",
    "        df = pd.DataFrame(data)\n",
    "    \n",
    "    elif metric == \"avg\":\n",
    "        for (from_idx, to_idx), (from_state, to_state) in c.transitions_itos.items():\n",
    "            probs = [round(p,5) for p in tmat[:, from_idx, to_idx]]\n",
    "            data.append({\n",
    "                \"From State\": from_state,\n",
    "                \"To State\": to_state,\n",
    "                \"Age 30\": probs[10],\n",
    "                \"Age 75\": probs[-10],\n",
    "                 \"Min\": min(probs),\n",
    "                 \"Max\": max(probs),\n",
    "                 \"Avg\": round(np.mean(probs),5)\n",
    "            })\n",
    "        df = pd.DataFrame(data)\n",
    "    \n",
    "    else:\n",
    "        print(\"Wrong metric specified in extract_transition_probs. Need [avg, all]\")\n",
    "    \n",
    "    return df\n",
    "        "
   ]
  },
  {
   "cell_type": "code",
   "execution_count": 108,
   "metadata": {},
   "outputs": [],
   "source": [
    "df = extract_transition_probs(tmat_c)"
   ]
  },
  {
   "cell_type": "code",
   "execution_count": 110,
   "metadata": {},
   "outputs": [],
   "source": [
    "df.to_csv(\"../out/US/interp/probs/20240923_1243_c.csv\")"
   ]
  }
 ],
 "metadata": {
  "kernelspec": {
   "display_name": "drcrc_env",
   "language": "python",
   "name": "python3"
  },
  "language_info": {
   "codemirror_mode": {
    "name": "ipython",
    "version": 3
   },
   "file_extension": ".py",
   "mimetype": "text/x-python",
   "name": "python",
   "nbconvert_exporter": "python",
   "pygments_lexer": "ipython3",
   "version": "3.12.4"
  }
 },
 "nbformat": 4,
 "nbformat_minor": 2
}
